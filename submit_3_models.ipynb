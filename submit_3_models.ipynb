{
  "cells": [
    {
      "cell_type": "code",
      "execution_count": 2067,
      "metadata": {
        "id": "LNlN9F1YyztV"
      },
      "outputs": [],
      "source": [
        "import numpy as np\n",
        "import pandas as pd\n",
        "import matplotlib.pyplot as plt\n",
        "import seaborn as sns\n",
        "from sklearn.model_selection import train_test_split\n",
        "from sklearn.metrics import accuracy_score\n",
        "from sklearn.preprocessing import LabelEncoder\n",
        "from sklearn.preprocessing import OneHotEncoder\n",
        "from sklearn.metrics import accuracy_score\n",
        "from pprint import pprint"
      ]
    },
    {
      "cell_type": "markdown",
      "metadata": {
        "id": "pRaSFHoSyztW"
      },
      "source": [
        "## Loading the training dataset"
      ]
    },
    {
      "cell_type": "code",
      "execution_count": 2068,
      "metadata": {
        "id": "aUup1TT_yztX"
      },
      "outputs": [],
      "source": [
        "df = pd.read_csv(\"../../train.csv\")\n",
        "df.drop_duplicates(inplace=True)\n",
        "df.drop(['payer_code'], axis=1, inplace=True)\n",
        "df.drop(['weight', 'max_glu_serum'], axis=1, inplace=True)"
      ]
    },
    {
      "cell_type": "code",
      "execution_count": 2069,
      "metadata": {},
      "outputs": [],
      "source": [
        "df['count_changes'] = 0\n",
        "\n",
        "drugs_cols = [\"metformin\", \"repaglinide\", \"nateglinide\", \"chlorpropamide\", \"glimepiride\", \"acetohexamide\", \"glipizide\", \"glyburide\", \"tolbutamide\", \"pioglitazone\", \"rosiglitazone\", \"acarbose\", \"miglitol\", \"troglitazone\", \"tolazamide\", \"examide\", \"citoglipton\", \"insulin\", \"glyburide-metformin\", \"glipizide-metformin\", \"glimepiride-pioglitazone\", \"metformin-rosiglitazone\", \"metformin-pioglitazone\"]\n",
        "\n",
        "def count_changes(row):\n",
        "    return sum([1 for col in drugs_cols if row[col] in ['Up', 'Down']])\n",
        "\n",
        "# Apply the function row-wise\n",
        "df['count_changes'] = df.apply(count_changes, axis=1)\n",
        "df.drop(drugs_cols, axis=1, inplace=True)"
      ]
    },
    {
      "cell_type": "code",
      "execution_count": 2070,
      "metadata": {},
      "outputs": [],
      "source": [
        "def change_diagnosis(value):    \n",
        "    if value >= 1 and value <= 139:\n",
        "        return \"D1\"\n",
        "    elif value <= 239:\n",
        "        return \"D2\"\n",
        "    elif value <= 279:\n",
        "        return \"D3\"\n",
        "    elif value <= 289:\n",
        "        return \"D4\"\n",
        "    elif value <= 319:\n",
        "        return \"D5\"\n",
        "    elif value <= 389:\n",
        "        return \"D6\"\n",
        "    elif value <= 459:\n",
        "        return \"D7\"\n",
        "    elif value <= 519:\n",
        "        return \"D8\"\n",
        "    elif value <= 579:\n",
        "        return \"D9\"\n",
        "    elif value <= 629:\n",
        "        return \"D9\"\n",
        "    elif value <= 679:\n",
        "        return \"D10\"\n",
        "    elif value <= 709:\n",
        "        return \"D11\"\n",
        "    elif value <= 739:\n",
        "        return \"D12\"\n",
        "    elif value <= 759:\n",
        "        return \"D13\"\n",
        "    elif value <= 779:\n",
        "        return \"D14\"\n",
        "    elif value <= 799:\n",
        "        return \"D15\"\n",
        "    elif value <= 999:\n",
        "        return \"D16\"\n",
        "    elif value == 1000:\n",
        "        return \"D17\"\n",
        "    else:\n",
        "        return \"D0\""
      ]
    },
    {
      "cell_type": "code",
      "execution_count": 2071,
      "metadata": {
        "colab": {
          "base_uri": "https://localhost:8080/"
        },
        "id": "WpveJphDyztY",
        "outputId": "529417a7-e87d-4176-b697-ba9048820f7b"
      },
      "outputs": [],
      "source": [
        "# null_value_percentages=(df.isna().sum()/df.shape[0])*100\n",
        "# null_value_percentages.sort_values()"
      ]
    },
    {
      "cell_type": "code",
      "execution_count": 2072,
      "metadata": {},
      "outputs": [
        {
          "data": {
            "text/plain": [
              "0    51867\n",
              "1    18385\n",
              "2      905\n",
              "3       75\n",
              "4        4\n",
              "Name: count_changes, dtype: int64"
            ]
          },
          "execution_count": 2072,
          "metadata": {},
          "output_type": "execute_result"
        }
      ],
      "source": [
        "df['count_changes'].value_counts()"
      ]
    },
    {
      "cell_type": "code",
      "execution_count": 2073,
      "metadata": {
        "colab": {
          "base_uri": "https://localhost:8080/"
        },
        "id": "S2Zqy6cvyztZ",
        "outputId": "046b1d72-74f9-4372-b1d5-a92a719e93ce"
      },
      "outputs": [
        {
          "data": {
            "text/plain": [
              "(71236, 25)"
            ]
          },
          "execution_count": 2073,
          "metadata": {},
          "output_type": "execute_result"
        }
      ],
      "source": [
        "df.shape"
      ]
    },
    {
      "cell_type": "code",
      "execution_count": 2074,
      "metadata": {
        "colab": {
          "base_uri": "https://localhost:8080/"
        },
        "id": "t54vC8JXyztZ",
        "outputId": "b6f32553-336d-411a-c61f-f148e2d382d3"
      },
      "outputs": [
        {
          "data": {
            "text/plain": [
              "(71236, 24)"
            ]
          },
          "execution_count": 2074,
          "metadata": {},
          "output_type": "execute_result"
        }
      ],
      "source": [
        "# Dropping A1Cresult\n",
        "df.drop(['A1Cresult'], axis=1, inplace=True)\n",
        "df.shape"
      ]
    },
    {
      "cell_type": "code",
      "execution_count": 2075,
      "metadata": {},
      "outputs": [],
      "source": [
        "# df = df_copy"
      ]
    },
    {
      "cell_type": "code",
      "execution_count": 2076,
      "metadata": {},
      "outputs": [
        {
          "data": {
            "text/plain": [
              "enc_id                            111133884\n",
              "patient_id                         35624655\n",
              "race                        AfricanAmerican\n",
              "gender                               Female\n",
              "age                                 [40-50)\n",
              "admission_type_id                         1\n",
              "discharge_disposition_id                  3\n",
              "admission_source_id                       7\n",
              "time_in_hospital                         12\n",
              "medical_specialty                Nephrology\n",
              "num_lab_procedures                       63\n",
              "num_procedures                            3\n",
              "num_medications                          23\n",
              "number_outpatient                         0\n",
              "number_emergency                          0\n",
              "number_inpatient                          6\n",
              "diag_1                                  590\n",
              "diag_2                                    8\n",
              "diag_3                                  403\n",
              "number_diagnoses                          9\n",
              "change                                   No\n",
              "diabetesMed                             Yes\n",
              "readmission_id                            1\n",
              "count_changes                             0\n",
              "Name: 1101, dtype: object"
            ]
          },
          "execution_count": 2076,
          "metadata": {},
          "output_type": "execute_result"
        }
      ],
      "source": [
        "df.iloc[1101, :]"
      ]
    },
    {
      "cell_type": "code",
      "execution_count": 2077,
      "metadata": {
        "colab": {
          "base_uri": "https://localhost:8080/"
        },
        "id": "Bknv4kXFyzta",
        "outputId": "ddcc64a7-1b91-478d-8f41-de9eb95e8669"
      },
      "outputs": [],
      "source": [
        "from sklearn.impute import SimpleImputer\n",
        "\n",
        "imputer = SimpleImputer(missing_values=np.nan, strategy=\"constant\", fill_value=0)\n",
        "str_imputer = SimpleImputer(missing_values=np.nan, strategy=\"constant\", fill_value=\"0\")\n",
        "for c in df.columns:\n",
        "    if df[c].dtype == np.int64 or df[c].dtype == np.float64:\n",
        "        imputer.fit(df[c].values.reshape(-1, 1))\n",
        "        df[c] = imputer.transform(df[c].values.reshape(-1, 1)).reshape(-1,)\n",
        "    else:\n",
        "        str_imputer.fit(df[c].values.reshape(-1, 1))\n",
        "        df[c] = str_imputer.transform(df[c].values.reshape(-1, 1)).reshape(-1,)"
      ]
    },
    {
      "cell_type": "code",
      "execution_count": 2078,
      "metadata": {
        "colab": {
          "base_uri": "https://localhost:8080/",
          "height": 591
        },
        "id": "aq5CE3Pcyztb",
        "outputId": "d7548096-05c2-4bae-9438-1f7bf62eed1d"
      },
      "outputs": [],
      "source": [
        "# plt.figure(figsize=(10,10))\n",
        "# dataplot = sns.heatmap(df.corr(numeric_only=True), annot=True)\n",
        "# plt.show()"
      ]
    },
    {
      "cell_type": "code",
      "execution_count": 2079,
      "metadata": {
        "id": "VPgcSSUEyzta"
      },
      "outputs": [],
      "source": [
        "# Drop row with invalid gender. Dropping 1 row.\n",
        "i = df[((df.gender == 'Unknown/Invalid'))].index\n",
        "df.drop(i, inplace=True)"
      ]
    },
    {
      "cell_type": "code",
      "execution_count": 2080,
      "metadata": {},
      "outputs": [
        {
          "name": "stdout",
          "output_type": "stream",
          "text": [
            "race   6\n",
            "gender   2\n",
            "admission_type_id   8\n",
            "discharge_disposition_id   26\n",
            "admission_source_id   17\n",
            "medical_specialty   69\n",
            "diag_1   685\n",
            "diag_2   692\n",
            "diag_3   746\n",
            "change   2\n",
            "diabetesMed   2\n"
          ]
        }
      ],
      "source": [
        "columns_to_encode = df.select_dtypes(exclude=['float']).columns.tolist()\n",
        "\n",
        "columns_to_encode.remove(\"age\")\n",
        "columns_to_encode.remove(\"readmission_id\")\n",
        "columns_to_encode.remove(\"time_in_hospital\")\n",
        "columns_to_encode.remove(\"num_lab_procedures\")\n",
        "columns_to_encode.remove(\"num_procedures\")\n",
        "columns_to_encode.remove(\"num_medications\")\n",
        "columns_to_encode.remove(\"number_outpatient\")\n",
        "columns_to_encode.remove(\"enc_id\")\n",
        "columns_to_encode.remove(\"patient_id\")\n",
        "columns_to_encode.remove(\"number_emergency\")\n",
        "columns_to_encode.remove(\"number_inpatient\")\n",
        "columns_to_encode.remove(\"number_diagnoses\")\n",
        "columns_to_encode.remove(\"count_changes\")\n",
        "\n",
        "for i in columns_to_encode:\n",
        "    print(i,\" \",df[i].unique().size)\n",
        "\n",
        "# diag_1, diag_2 and diag_3 have many unique values, hence we are grouping"
      ]
    },
    {
      "cell_type": "code",
      "execution_count": 2081,
      "metadata": {},
      "outputs": [],
      "source": [
        "def change_admission_source_id(value):\n",
        "    if value in (1, 2, 3):\n",
        "        return \"Referral\"\n",
        "    elif value in (4, 5, 6, 10, 18, 22, 25, 26):\n",
        "        return \"Transfer\"\n",
        "    elif value in (11, 12, 13, 14, 23, 24):\n",
        "        return \"Pregnancy\"\n",
        "    elif value in (9, 15, 17, 20, 21, 0):\n",
        "        return \"NULL\"\n",
        "    else:\n",
        "        return \"Others\"  # readmission (19), emergency (7), court/law enf (8)\n",
        "\n",
        "# def change_admission_source_id(value):\n",
        "#     if value == 1 or value == 7:\n",
        "#         return \"Cat1\"\n",
        "#     else:\n",
        "#         return \"Others\""
      ]
    },
    {
      "cell_type": "code",
      "execution_count": 2082,
      "metadata": {},
      "outputs": [],
      "source": [
        "def change_admission_type_id(value):\n",
        "    if value in (1, 2, 7):\n",
        "        return \"Emergency\"\n",
        "    elif value == 3:\n",
        "        return \"Elective\"\n",
        "    elif value == 4:\n",
        "        return \"Newborn\"\n",
        "    elif value in (0, 5, 6, 8):\n",
        "        return \"NULL\"\n",
        "    else:\n",
        "        return \"Others\"\n",
        "\n",
        "# def change_admission_type_id(value):\n",
        "#     if value == 1:\n",
        "#         return \"Emergency\"\n",
        "#     else:\n",
        "#         return \"Others\""
      ]
    },
    {
      "cell_type": "code",
      "execution_count": 2083,
      "metadata": {},
      "outputs": [],
      "source": [
        "def change_discharge_disposition_id(value):\n",
        "    if value == 1:\n",
        "        return \"Home_No_Treatment\"\n",
        "    elif value in range(2, 6) or range(15, 18) or range(22, 25) or range(27, 31) or range(9, 11):\n",
        "        return \"Transfer\"\n",
        "    elif value in (6, 8):\n",
        "        return \"Home_Treatment\"\n",
        "    elif value in (11, 19, 20, 21):\n",
        "        return \"Expired\"\n",
        "    elif value in (18, 25, 26, 0):\n",
        "        return \"NULL\"\n",
        "    else:\n",
        "        return \"Others\"\n",
        "    \n",
        "# def change_discharge_disposition_id(value):\n",
        "#     if value == 1:\n",
        "#         return \"Home_No_Treatment\"\n",
        "#     else:\n",
        "#         return \"Others\""
      ]
    },
    {
      "cell_type": "code",
      "execution_count": 2084,
      "metadata": {},
      "outputs": [],
      "source": [
        "# diag_1_grouping_indices = df[df[\"diag_1\"].str.startswith(('E', 'V'))].index\n",
        "# df.loc[diag_1_grouping_indices, \"diag_1\"] = \"1000\"\n",
        "# df['diag_1'] = df['diag_1'].astype(float)\n",
        "# df['diag_1'] = df['diag_1'].apply(change_diagnosis)\n",
        "\n",
        "# diag_2_grouping_indices = df[df[\"diag_2\"].str.startswith(('E', 'V'))].index\n",
        "# df.loc[diag_2_grouping_indices, \"diag_2\"] = \"1000\"\n",
        "# df['diag_2'] = df['diag_2'].astype(float)\n",
        "# df['diag_2'] = df['diag_2'].apply(change_diagnosis)\n",
        "\n",
        "# diag_3_grouping_indices = df[df[\"diag_3\"].str.startswith(('E', 'V'))].index\n",
        "# df.loc[diag_3_grouping_indices, \"diag_3\"] = \"1000\"\n",
        "# df['diag_3'] = df['diag_3'].astype(float)\n",
        "# df['diag_3'] = df['diag_3'].apply(change_diagnosis)"
      ]
    },
    {
      "cell_type": "code",
      "execution_count": 2085,
      "metadata": {},
      "outputs": [],
      "source": [
        "df['admission_source_id'] = df['admission_source_id'].astype(int)\n",
        "df['admission_source_id'] = df['admission_source_id'].apply(change_admission_source_id)"
      ]
    },
    {
      "cell_type": "code",
      "execution_count": 2086,
      "metadata": {},
      "outputs": [],
      "source": [
        "df['admission_type_id'] = df['admission_type_id'].astype(int)\n",
        "df['admission_type_id'] = df['admission_type_id'].apply(change_admission_type_id)"
      ]
    },
    {
      "cell_type": "code",
      "execution_count": 2087,
      "metadata": {},
      "outputs": [],
      "source": [
        "df['discharge_disposition_id'] = df['discharge_disposition_id'].astype(int)\n",
        "df['discharge_disposition_id'] = df['discharge_disposition_id'].apply(change_discharge_disposition_id)"
      ]
    },
    {
      "cell_type": "code",
      "execution_count": 2088,
      "metadata": {},
      "outputs": [],
      "source": [
        "label_encoder = LabelEncoder()\n",
        "df[\"age\"] = label_encoder.fit_transform(df[\"age\"])"
      ]
    },
    {
      "cell_type": "code",
      "execution_count": 2089,
      "metadata": {},
      "outputs": [],
      "source": [
        "df.set_index(pd.Index(range(0, df.shape[0])), inplace=True)"
      ]
    },
    {
      "cell_type": "code",
      "execution_count": 2090,
      "metadata": {},
      "outputs": [
        {
          "name": "stdout",
          "output_type": "stream",
          "text": [
            "(71233, 24)\n"
          ]
        }
      ],
      "source": [
        "print(df.shape)\n",
        "# Converting type of columns to category \n",
        "for c in columns_to_encode:\n",
        "    df[c] = df[c].astype('category')\n",
        "  \n",
        "  \n",
        "# Assigning numerical values and storing it in another columns \n",
        "new_cols = []\n",
        "for c in columns_to_encode:\n",
        "    df[c + \"_new\"] = df[c].cat.codes\n",
        "    new_cols.append(c + \"_new\")\n",
        "  \n",
        "# Create an instance of One-hot-encoder \n",
        "enc = OneHotEncoder(handle_unknown='ignore') \n",
        "  \n",
        "# Passing encoded columns \n",
        "enc_data = pd.DataFrame(enc.fit_transform(df[new_cols]).toarray()) \n",
        "  \n",
        "# Merge with main \n",
        "new_df = enc_data.join(df)\n",
        "new_df.drop(columns_to_encode, axis=1, inplace=True)\n",
        "\n",
        "tmp_y = pd.DataFrame(new_df[\"readmission_id\"])\n",
        "new_df.drop([\"readmission_id\"], axis=1, inplace=True)\n",
        "new_df.drop(new_cols, axis=1, inplace=True)\n",
        "new_df = new_df.join(tmp_y)\n",
        "\n",
        "df = new_df"
      ]
    },
    {
      "cell_type": "code",
      "execution_count": 2091,
      "metadata": {},
      "outputs": [
        {
          "data": {
            "text/plain": [
              "2    38402\n",
              "1    24881\n",
              "0     7950\n",
              "Name: readmission_id, dtype: int64"
            ]
          },
          "execution_count": 2091,
          "metadata": {},
          "output_type": "execute_result"
        }
      ],
      "source": [
        "df['readmission_id'].value_counts()"
      ]
    },
    {
      "cell_type": "code",
      "execution_count": 2092,
      "metadata": {},
      "outputs": [],
      "source": [
        "df_0 = df.copy(deep=True)\n",
        "df_0['readmission_id'] = np.where(df_0['readmission_id'] == 2, 1, df_0['readmission_id']) # 0/not 0 --> 0, 1\n",
        "\n",
        "df_1 = df.copy(deep=True)\n",
        "df_1['readmission_id'] = np.where(df_1['readmission_id'] == 2, 0, df_1['readmission_id']) # not 1/1 <--- 0/1\n",
        "\n",
        "df_2 = df.copy(deep=True)\n",
        "df_2['readmission_id'] = np.where(df_2['readmission_id'] == 1, 0, df_2['readmission_id']) # not 2/2 <--- 0/1\n",
        "df_2['readmission_id'] = np.where(df_2['readmission_id'] == 2, 1, df_2['readmission_id']) # not 2/2 <--- 0/1"
      ]
    },
    {
      "cell_type": "code",
      "execution_count": 2093,
      "metadata": {},
      "outputs": [
        {
          "data": {
            "text/plain": [
              "1    63283\n",
              "0     7950\n",
              "Name: readmission_id, dtype: int64"
            ]
          },
          "execution_count": 2093,
          "metadata": {},
          "output_type": "execute_result"
        }
      ],
      "source": [
        "df_0['readmission_id'].value_counts()"
      ]
    },
    {
      "cell_type": "code",
      "execution_count": 2094,
      "metadata": {},
      "outputs": [],
      "source": [
        "X = df.iloc[:, :-1].values\n",
        "Y = df.iloc[:, -1].values\n",
        "\n",
        "X0 = df_0.iloc[:, :-1].values\n",
        "Y0 = df_0.iloc[:, -1].values\n",
        "\n",
        "X1 = df_1.iloc[:, :-1].values\n",
        "Y1 = df_1.iloc[:, -1].values\n",
        "\n",
        "X2 = df_2.iloc[:, :-1].values\n",
        "Y2 = df_2.iloc[:, -1].values"
      ]
    },
    {
      "cell_type": "code",
      "execution_count": 2095,
      "metadata": {},
      "outputs": [],
      "source": [
        "X_train0, X_test0, Y_train0, Y_test0 = train_test_split(X0, Y0, test_size=0.2, random_state=0, stratify=Y0)\n",
        "X_train1, X_test1, Y_train1, Y_test1 = train_test_split(X1, Y1, test_size=0.2, random_state=0, stratify=Y1)\n",
        "X_train2, X_test2, Y_train2, Y_test2 = train_test_split(X2, Y2, test_size=0.2, random_state=0, stratify=Y2)"
      ]
    },
    {
      "cell_type": "code",
      "execution_count": 2096,
      "metadata": {},
      "outputs": [],
      "source": [
        "X_train, X_test, Y_train, Y_test = train_test_split(X, Y, test_size=0.2, random_state=0, stratify=Y)"
      ]
    },
    {
      "cell_type": "code",
      "execution_count": 2097,
      "metadata": {},
      "outputs": [
        {
          "name": "stdout",
          "output_type": "stream",
          "text": [
            "[LightGBM] [Info] Number of positive: 50626, number of negative: 6360\n",
            "[LightGBM] [Info] Auto-choosing row-wise multi-threading, the overhead of testing was 0.004872 seconds.\n",
            "You can set `force_row_wise=true` to remove the overhead.\n",
            "And if memory is not enough, you can set `force_col_wise=true`.\n",
            "[LightGBM] [Info] Total Bins 1024\n",
            "[LightGBM] [Info] Number of data points in the train set: 56986, number of used features: 119\n",
            "[LightGBM] [Info] [binary:BoostFromScore]: pavg=0.841439 -> initscore=1.668972\n",
            "[LightGBM] [Info] Start training from score 1.668972\n"
          ]
        },
        {
          "data": {
            "text/html": [
              "<style>#sk-container-id-100 {color: black;background-color: white;}#sk-container-id-100 pre{padding: 0;}#sk-container-id-100 div.sk-toggleable {background-color: white;}#sk-container-id-100 label.sk-toggleable__label {cursor: pointer;display: block;width: 100%;margin-bottom: 0;padding: 0.3em;box-sizing: border-box;text-align: center;}#sk-container-id-100 label.sk-toggleable__label-arrow:before {content: \"▸\";float: left;margin-right: 0.25em;color: #696969;}#sk-container-id-100 label.sk-toggleable__label-arrow:hover:before {color: black;}#sk-container-id-100 div.sk-estimator:hover label.sk-toggleable__label-arrow:before {color: black;}#sk-container-id-100 div.sk-toggleable__content {max-height: 0;max-width: 0;overflow: hidden;text-align: left;background-color: #f0f8ff;}#sk-container-id-100 div.sk-toggleable__content pre {margin: 0.2em;color: black;border-radius: 0.25em;background-color: #f0f8ff;}#sk-container-id-100 input.sk-toggleable__control:checked~div.sk-toggleable__content {max-height: 200px;max-width: 100%;overflow: auto;}#sk-container-id-100 input.sk-toggleable__control:checked~label.sk-toggleable__label-arrow:before {content: \"▾\";}#sk-container-id-100 div.sk-estimator input.sk-toggleable__control:checked~label.sk-toggleable__label {background-color: #d4ebff;}#sk-container-id-100 div.sk-label input.sk-toggleable__control:checked~label.sk-toggleable__label {background-color: #d4ebff;}#sk-container-id-100 input.sk-hidden--visually {border: 0;clip: rect(1px 1px 1px 1px);clip: rect(1px, 1px, 1px, 1px);height: 1px;margin: -1px;overflow: hidden;padding: 0;position: absolute;width: 1px;}#sk-container-id-100 div.sk-estimator {font-family: monospace;background-color: #f0f8ff;border: 1px dotted black;border-radius: 0.25em;box-sizing: border-box;margin-bottom: 0.5em;}#sk-container-id-100 div.sk-estimator:hover {background-color: #d4ebff;}#sk-container-id-100 div.sk-parallel-item::after {content: \"\";width: 100%;border-bottom: 1px solid gray;flex-grow: 1;}#sk-container-id-100 div.sk-label:hover label.sk-toggleable__label {background-color: #d4ebff;}#sk-container-id-100 div.sk-serial::before {content: \"\";position: absolute;border-left: 1px solid gray;box-sizing: border-box;top: 0;bottom: 0;left: 50%;z-index: 0;}#sk-container-id-100 div.sk-serial {display: flex;flex-direction: column;align-items: center;background-color: white;padding-right: 0.2em;padding-left: 0.2em;position: relative;}#sk-container-id-100 div.sk-item {position: relative;z-index: 1;}#sk-container-id-100 div.sk-parallel {display: flex;align-items: stretch;justify-content: center;background-color: white;position: relative;}#sk-container-id-100 div.sk-item::before, #sk-container-id-100 div.sk-parallel-item::before {content: \"\";position: absolute;border-left: 1px solid gray;box-sizing: border-box;top: 0;bottom: 0;left: 50%;z-index: -1;}#sk-container-id-100 div.sk-parallel-item {display: flex;flex-direction: column;z-index: 1;position: relative;background-color: white;}#sk-container-id-100 div.sk-parallel-item:first-child::after {align-self: flex-end;width: 50%;}#sk-container-id-100 div.sk-parallel-item:last-child::after {align-self: flex-start;width: 50%;}#sk-container-id-100 div.sk-parallel-item:only-child::after {width: 0;}#sk-container-id-100 div.sk-dashed-wrapped {border: 1px dashed gray;margin: 0 0.4em 0.5em 0.4em;box-sizing: border-box;padding-bottom: 0.4em;background-color: white;}#sk-container-id-100 div.sk-label label {font-family: monospace;font-weight: bold;display: inline-block;line-height: 1.2em;}#sk-container-id-100 div.sk-label-container {text-align: center;}#sk-container-id-100 div.sk-container {/* jupyter's `normalize.less` sets `[hidden] { display: none; }` but bootstrap.min.css set `[hidden] { display: none !important; }` so we also need the `!important` here to be able to override the default hidden behavior on the sphinx rendered scikit-learn.org. See: https://github.com/scikit-learn/scikit-learn/issues/21755 */display: inline-block !important;position: relative;}#sk-container-id-100 div.sk-text-repr-fallback {display: none;}</style><div id=\"sk-container-id-100\" class=\"sk-top-container\"><div class=\"sk-text-repr-fallback\"><pre>LGBMClassifier(boosting_type=&#x27;dart&#x27;, class_weight={0: 30, 1: 20},\n",
              "               n_estimators=300, random_state=0)</pre><b>In a Jupyter environment, please rerun this cell to show the HTML representation or trust the notebook. <br />On GitHub, the HTML representation is unable to render, please try loading this page with nbviewer.org.</b></div><div class=\"sk-container\" hidden><div class=\"sk-item\"><div class=\"sk-estimator sk-toggleable\"><input class=\"sk-toggleable__control sk-hidden--visually\" id=\"sk-estimator-id-100\" type=\"checkbox\" checked><label for=\"sk-estimator-id-100\" class=\"sk-toggleable__label sk-toggleable__label-arrow\">LGBMClassifier</label><div class=\"sk-toggleable__content\"><pre>LGBMClassifier(boosting_type=&#x27;dart&#x27;, class_weight={0: 30, 1: 20},\n",
              "               n_estimators=300, random_state=0)</pre></div></div></div></div></div>"
            ],
            "text/plain": [
              "LGBMClassifier(boosting_type='dart', class_weight={0: 30, 1: 20},\n",
              "               n_estimators=300, random_state=0)"
            ]
          },
          "execution_count": 2097,
          "metadata": {},
          "output_type": "execute_result"
        }
      ],
      "source": [
        "from lightgbm import LGBMClassifier\n",
        "\n",
        "# Train a model using the scikit-learn API\n",
        "lgb_classifier_0 = LGBMClassifier(n_estimators=300, max_depth=-1, random_state=0,  boosting_type='dart', class_weight={0: 30, 1: 20})\n",
        "lgb_classifier_0.fit(X_train0, Y_train0)"
      ]
    },
    {
      "cell_type": "code",
      "execution_count": 2098,
      "metadata": {},
      "outputs": [
        {
          "name": "stdout",
          "output_type": "stream",
          "text": [
            "[LightGBM] [Info] Number of positive: 19905, number of negative: 37081\n",
            "[LightGBM] [Info] Auto-choosing row-wise multi-threading, the overhead of testing was 0.004398 seconds.\n",
            "You can set `force_row_wise=true` to remove the overhead.\n",
            "And if memory is not enough, you can set `force_col_wise=true`.\n",
            "[LightGBM] [Info] Total Bins 1027\n",
            "[LightGBM] [Info] Number of data points in the train set: 56986, number of used features: 119\n",
            "[LightGBM] [Info] [binary:BoostFromScore]: pavg=0.517746 -> initscore=0.071013\n",
            "[LightGBM] [Info] Start training from score 0.071013\n"
          ]
        },
        {
          "data": {
            "text/html": [
              "<style>#sk-container-id-101 {color: black;background-color: white;}#sk-container-id-101 pre{padding: 0;}#sk-container-id-101 div.sk-toggleable {background-color: white;}#sk-container-id-101 label.sk-toggleable__label {cursor: pointer;display: block;width: 100%;margin-bottom: 0;padding: 0.3em;box-sizing: border-box;text-align: center;}#sk-container-id-101 label.sk-toggleable__label-arrow:before {content: \"▸\";float: left;margin-right: 0.25em;color: #696969;}#sk-container-id-101 label.sk-toggleable__label-arrow:hover:before {color: black;}#sk-container-id-101 div.sk-estimator:hover label.sk-toggleable__label-arrow:before {color: black;}#sk-container-id-101 div.sk-toggleable__content {max-height: 0;max-width: 0;overflow: hidden;text-align: left;background-color: #f0f8ff;}#sk-container-id-101 div.sk-toggleable__content pre {margin: 0.2em;color: black;border-radius: 0.25em;background-color: #f0f8ff;}#sk-container-id-101 input.sk-toggleable__control:checked~div.sk-toggleable__content {max-height: 200px;max-width: 100%;overflow: auto;}#sk-container-id-101 input.sk-toggleable__control:checked~label.sk-toggleable__label-arrow:before {content: \"▾\";}#sk-container-id-101 div.sk-estimator input.sk-toggleable__control:checked~label.sk-toggleable__label {background-color: #d4ebff;}#sk-container-id-101 div.sk-label input.sk-toggleable__control:checked~label.sk-toggleable__label {background-color: #d4ebff;}#sk-container-id-101 input.sk-hidden--visually {border: 0;clip: rect(1px 1px 1px 1px);clip: rect(1px, 1px, 1px, 1px);height: 1px;margin: -1px;overflow: hidden;padding: 0;position: absolute;width: 1px;}#sk-container-id-101 div.sk-estimator {font-family: monospace;background-color: #f0f8ff;border: 1px dotted black;border-radius: 0.25em;box-sizing: border-box;margin-bottom: 0.5em;}#sk-container-id-101 div.sk-estimator:hover {background-color: #d4ebff;}#sk-container-id-101 div.sk-parallel-item::after {content: \"\";width: 100%;border-bottom: 1px solid gray;flex-grow: 1;}#sk-container-id-101 div.sk-label:hover label.sk-toggleable__label {background-color: #d4ebff;}#sk-container-id-101 div.sk-serial::before {content: \"\";position: absolute;border-left: 1px solid gray;box-sizing: border-box;top: 0;bottom: 0;left: 50%;z-index: 0;}#sk-container-id-101 div.sk-serial {display: flex;flex-direction: column;align-items: center;background-color: white;padding-right: 0.2em;padding-left: 0.2em;position: relative;}#sk-container-id-101 div.sk-item {position: relative;z-index: 1;}#sk-container-id-101 div.sk-parallel {display: flex;align-items: stretch;justify-content: center;background-color: white;position: relative;}#sk-container-id-101 div.sk-item::before, #sk-container-id-101 div.sk-parallel-item::before {content: \"\";position: absolute;border-left: 1px solid gray;box-sizing: border-box;top: 0;bottom: 0;left: 50%;z-index: -1;}#sk-container-id-101 div.sk-parallel-item {display: flex;flex-direction: column;z-index: 1;position: relative;background-color: white;}#sk-container-id-101 div.sk-parallel-item:first-child::after {align-self: flex-end;width: 50%;}#sk-container-id-101 div.sk-parallel-item:last-child::after {align-self: flex-start;width: 50%;}#sk-container-id-101 div.sk-parallel-item:only-child::after {width: 0;}#sk-container-id-101 div.sk-dashed-wrapped {border: 1px dashed gray;margin: 0 0.4em 0.5em 0.4em;box-sizing: border-box;padding-bottom: 0.4em;background-color: white;}#sk-container-id-101 div.sk-label label {font-family: monospace;font-weight: bold;display: inline-block;line-height: 1.2em;}#sk-container-id-101 div.sk-label-container {text-align: center;}#sk-container-id-101 div.sk-container {/* jupyter's `normalize.less` sets `[hidden] { display: none; }` but bootstrap.min.css set `[hidden] { display: none !important; }` so we also need the `!important` here to be able to override the default hidden behavior on the sphinx rendered scikit-learn.org. See: https://github.com/scikit-learn/scikit-learn/issues/21755 */display: inline-block !important;position: relative;}#sk-container-id-101 div.sk-text-repr-fallback {display: none;}</style><div id=\"sk-container-id-101\" class=\"sk-top-container\"><div class=\"sk-text-repr-fallback\"><pre>LGBMClassifier(boosting_type=&#x27;dart&#x27;, class_weight={0: 20, 1: 40},\n",
              "               n_estimators=300, random_state=0)</pre><b>In a Jupyter environment, please rerun this cell to show the HTML representation or trust the notebook. <br />On GitHub, the HTML representation is unable to render, please try loading this page with nbviewer.org.</b></div><div class=\"sk-container\" hidden><div class=\"sk-item\"><div class=\"sk-estimator sk-toggleable\"><input class=\"sk-toggleable__control sk-hidden--visually\" id=\"sk-estimator-id-101\" type=\"checkbox\" checked><label for=\"sk-estimator-id-101\" class=\"sk-toggleable__label sk-toggleable__label-arrow\">LGBMClassifier</label><div class=\"sk-toggleable__content\"><pre>LGBMClassifier(boosting_type=&#x27;dart&#x27;, class_weight={0: 20, 1: 40},\n",
              "               n_estimators=300, random_state=0)</pre></div></div></div></div></div>"
            ],
            "text/plain": [
              "LGBMClassifier(boosting_type='dart', class_weight={0: 20, 1: 40},\n",
              "               n_estimators=300, random_state=0)"
            ]
          },
          "execution_count": 2098,
          "metadata": {},
          "output_type": "execute_result"
        }
      ],
      "source": [
        "# Train a model using the scikit-learn API\n",
        "lgb_classifier_1 = LGBMClassifier(n_estimators=300, max_depth=-1, random_state=0, boosting_type='dart', class_weight={0: 20, 1: 40})\n",
        "lgb_classifier_1.fit(X_train1, Y_train1)"
      ]
    },
    {
      "cell_type": "code",
      "execution_count": 2099,
      "metadata": {},
      "outputs": [
        {
          "name": "stdout",
          "output_type": "stream",
          "text": [
            "[LightGBM] [Info] Number of positive: 30721, number of negative: 26265\n",
            "[LightGBM] [Info] Auto-choosing row-wise multi-threading, the overhead of testing was 0.008865 seconds.\n",
            "You can set `force_row_wise=true` to remove the overhead.\n",
            "And if memory is not enough, you can set `force_col_wise=true`.\n",
            "[LightGBM] [Info] Total Bins 1027\n",
            "[LightGBM] [Info] Number of data points in the train set: 56986, number of used features: 119\n",
            "[LightGBM] [Info] [binary:BoostFromScore]: pavg=0.583955 -> initscore=0.339031\n",
            "[LightGBM] [Info] Start training from score 0.339031\n"
          ]
        },
        {
          "data": {
            "text/html": [
              "<style>#sk-container-id-102 {color: black;background-color: white;}#sk-container-id-102 pre{padding: 0;}#sk-container-id-102 div.sk-toggleable {background-color: white;}#sk-container-id-102 label.sk-toggleable__label {cursor: pointer;display: block;width: 100%;margin-bottom: 0;padding: 0.3em;box-sizing: border-box;text-align: center;}#sk-container-id-102 label.sk-toggleable__label-arrow:before {content: \"▸\";float: left;margin-right: 0.25em;color: #696969;}#sk-container-id-102 label.sk-toggleable__label-arrow:hover:before {color: black;}#sk-container-id-102 div.sk-estimator:hover label.sk-toggleable__label-arrow:before {color: black;}#sk-container-id-102 div.sk-toggleable__content {max-height: 0;max-width: 0;overflow: hidden;text-align: left;background-color: #f0f8ff;}#sk-container-id-102 div.sk-toggleable__content pre {margin: 0.2em;color: black;border-radius: 0.25em;background-color: #f0f8ff;}#sk-container-id-102 input.sk-toggleable__control:checked~div.sk-toggleable__content {max-height: 200px;max-width: 100%;overflow: auto;}#sk-container-id-102 input.sk-toggleable__control:checked~label.sk-toggleable__label-arrow:before {content: \"▾\";}#sk-container-id-102 div.sk-estimator input.sk-toggleable__control:checked~label.sk-toggleable__label {background-color: #d4ebff;}#sk-container-id-102 div.sk-label input.sk-toggleable__control:checked~label.sk-toggleable__label {background-color: #d4ebff;}#sk-container-id-102 input.sk-hidden--visually {border: 0;clip: rect(1px 1px 1px 1px);clip: rect(1px, 1px, 1px, 1px);height: 1px;margin: -1px;overflow: hidden;padding: 0;position: absolute;width: 1px;}#sk-container-id-102 div.sk-estimator {font-family: monospace;background-color: #f0f8ff;border: 1px dotted black;border-radius: 0.25em;box-sizing: border-box;margin-bottom: 0.5em;}#sk-container-id-102 div.sk-estimator:hover {background-color: #d4ebff;}#sk-container-id-102 div.sk-parallel-item::after {content: \"\";width: 100%;border-bottom: 1px solid gray;flex-grow: 1;}#sk-container-id-102 div.sk-label:hover label.sk-toggleable__label {background-color: #d4ebff;}#sk-container-id-102 div.sk-serial::before {content: \"\";position: absolute;border-left: 1px solid gray;box-sizing: border-box;top: 0;bottom: 0;left: 50%;z-index: 0;}#sk-container-id-102 div.sk-serial {display: flex;flex-direction: column;align-items: center;background-color: white;padding-right: 0.2em;padding-left: 0.2em;position: relative;}#sk-container-id-102 div.sk-item {position: relative;z-index: 1;}#sk-container-id-102 div.sk-parallel {display: flex;align-items: stretch;justify-content: center;background-color: white;position: relative;}#sk-container-id-102 div.sk-item::before, #sk-container-id-102 div.sk-parallel-item::before {content: \"\";position: absolute;border-left: 1px solid gray;box-sizing: border-box;top: 0;bottom: 0;left: 50%;z-index: -1;}#sk-container-id-102 div.sk-parallel-item {display: flex;flex-direction: column;z-index: 1;position: relative;background-color: white;}#sk-container-id-102 div.sk-parallel-item:first-child::after {align-self: flex-end;width: 50%;}#sk-container-id-102 div.sk-parallel-item:last-child::after {align-self: flex-start;width: 50%;}#sk-container-id-102 div.sk-parallel-item:only-child::after {width: 0;}#sk-container-id-102 div.sk-dashed-wrapped {border: 1px dashed gray;margin: 0 0.4em 0.5em 0.4em;box-sizing: border-box;padding-bottom: 0.4em;background-color: white;}#sk-container-id-102 div.sk-label label {font-family: monospace;font-weight: bold;display: inline-block;line-height: 1.2em;}#sk-container-id-102 div.sk-label-container {text-align: center;}#sk-container-id-102 div.sk-container {/* jupyter's `normalize.less` sets `[hidden] { display: none; }` but bootstrap.min.css set `[hidden] { display: none !important; }` so we also need the `!important` here to be able to override the default hidden behavior on the sphinx rendered scikit-learn.org. See: https://github.com/scikit-learn/scikit-learn/issues/21755 */display: inline-block !important;position: relative;}#sk-container-id-102 div.sk-text-repr-fallback {display: none;}</style><div id=\"sk-container-id-102\" class=\"sk-top-container\"><div class=\"sk-text-repr-fallback\"><pre>LGBMClassifier(boosting_type=&#x27;dart&#x27;, class_weight={0: 25, 1: 30},\n",
              "               n_estimators=300, random_state=0)</pre><b>In a Jupyter environment, please rerun this cell to show the HTML representation or trust the notebook. <br />On GitHub, the HTML representation is unable to render, please try loading this page with nbviewer.org.</b></div><div class=\"sk-container\" hidden><div class=\"sk-item\"><div class=\"sk-estimator sk-toggleable\"><input class=\"sk-toggleable__control sk-hidden--visually\" id=\"sk-estimator-id-102\" type=\"checkbox\" checked><label for=\"sk-estimator-id-102\" class=\"sk-toggleable__label sk-toggleable__label-arrow\">LGBMClassifier</label><div class=\"sk-toggleable__content\"><pre>LGBMClassifier(boosting_type=&#x27;dart&#x27;, class_weight={0: 25, 1: 30},\n",
              "               n_estimators=300, random_state=0)</pre></div></div></div></div></div>"
            ],
            "text/plain": [
              "LGBMClassifier(boosting_type='dart', class_weight={0: 25, 1: 30},\n",
              "               n_estimators=300, random_state=0)"
            ]
          },
          "execution_count": 2099,
          "metadata": {},
          "output_type": "execute_result"
        }
      ],
      "source": [
        "# Train a model using the scikit-learn API\n",
        "lgb_classifier_2 = LGBMClassifier(n_estimators=300, max_depth=-1, random_state=0, boosting_type='dart', class_weight={0: 25, 1: 30})\n",
        "lgb_classifier_2.fit(X_train2, Y_train2)"
      ]
    },
    {
      "cell_type": "code",
      "execution_count": 2100,
      "metadata": {},
      "outputs": [],
      "source": [
        "from sklearn.metrics import f1_score"
      ]
    },
    {
      "cell_type": "code",
      "execution_count": 2101,
      "metadata": {},
      "outputs": [
        {
          "name": "stdout",
          "output_type": "stream",
          "text": [
            "0.8879764160875974 0.9405542312276519\n"
          ]
        }
      ],
      "source": [
        "Y_pred0 = lgb_classifier_0.predict(X_test0)\n",
        "print(accuracy_score(Y_test0, Y_pred0), f1_score(Y_test0, Y_pred0))"
      ]
    },
    {
      "cell_type": "code",
      "execution_count": 2102,
      "metadata": {},
      "outputs": [
        {
          "name": "stdout",
          "output_type": "stream",
          "text": [
            "0.6214641678949955 0.5690771074710348\n"
          ]
        }
      ],
      "source": [
        "Y_pred1 = lgb_classifier_1.predict(X_test1)\n",
        "print(accuracy_score(Y_test1, Y_pred1), f1_score(Y_test1, Y_pred1))"
      ]
    },
    {
      "cell_type": "code",
      "execution_count": 2103,
      "metadata": {},
      "outputs": [
        {
          "name": "stdout",
          "output_type": "stream",
          "text": [
            "0.6592265038253667 0.7178145887823306\n"
          ]
        }
      ],
      "source": [
        "Y_pred2 = lgb_classifier_2.predict(X_test2)\n",
        "print(accuracy_score(Y_test2, Y_pred2), f1_score(Y_test2, Y_pred2))"
      ]
    },
    {
      "cell_type": "code",
      "execution_count": 2104,
      "metadata": {},
      "outputs": [
        {
          "data": {
            "text/plain": [
              "array([[   25,  1565],\n",
              "       [   31, 12626]], dtype=int64)"
            ]
          },
          "execution_count": 2104,
          "metadata": {},
          "output_type": "execute_result"
        }
      ],
      "source": [
        "from sklearn.metrics import confusion_matrix\n",
        "confusion_matrix(Y_test0, Y_pred0)"
      ]
    },
    {
      "cell_type": "code",
      "execution_count": 2105,
      "metadata": {},
      "outputs": [
        {
          "data": {
            "text/plain": [
              "array([[5293, 3978],\n",
              "       [1415, 3561]], dtype=int64)"
            ]
          },
          "execution_count": 2105,
          "metadata": {},
          "output_type": "execute_result"
        }
      ],
      "source": [
        "from sklearn.metrics import confusion_matrix\n",
        "confusion_matrix(Y_test1, Y_pred1)"
      ]
    },
    {
      "cell_type": "code",
      "execution_count": 2106,
      "metadata": {},
      "outputs": [
        {
          "data": {
            "text/plain": [
              "array([[3217, 3349],\n",
              "       [1506, 6175]], dtype=int64)"
            ]
          },
          "execution_count": 2106,
          "metadata": {},
          "output_type": "execute_result"
        }
      ],
      "source": [
        "from sklearn.metrics import confusion_matrix\n",
        "confusion_matrix(Y_test2, Y_pred2)"
      ]
    },
    {
      "cell_type": "code",
      "execution_count": 2107,
      "metadata": {},
      "outputs": [],
      "source": [
        "pr_0 = lgb_classifier_0.predict_proba(X_test0)\n",
        "pr_1 = lgb_classifier_1.predict_proba(X_test1)\n",
        "pr_2 = lgb_classifier_2.predict_proba(X_test2)"
      ]
    },
    {
      "cell_type": "code",
      "execution_count": 2108,
      "metadata": {},
      "outputs": [
        {
          "data": {
            "text/plain": [
              "array([[0.14005421, 0.85994579],\n",
              "       [0.51170562, 0.48829438],\n",
              "       [0.11411765, 0.88588235],\n",
              "       ...,\n",
              "       [0.15174434, 0.84825566],\n",
              "       [0.19041348, 0.80958652],\n",
              "       [0.10255583, 0.89744417]])"
            ]
          },
          "execution_count": 2108,
          "metadata": {},
          "output_type": "execute_result"
        }
      ],
      "source": [
        "pr_0"
      ]
    },
    {
      "cell_type": "code",
      "execution_count": 2109,
      "metadata": {},
      "outputs": [
        {
          "data": {
            "text/plain": [
              "array([[0.41869871, 0.58130129],\n",
              "       [0.68823333, 0.31176667],\n",
              "       [0.57882481, 0.42117519],\n",
              "       ...,\n",
              "       [0.8221905 , 0.1778095 ],\n",
              "       [0.65994465, 0.34005535],\n",
              "       [0.81488889, 0.18511111]])"
            ]
          },
          "execution_count": 2109,
          "metadata": {},
          "output_type": "execute_result"
        }
      ],
      "source": [
        "pr_1"
      ]
    },
    {
      "cell_type": "code",
      "execution_count": 2110,
      "metadata": {},
      "outputs": [
        {
          "data": {
            "text/plain": [
              "array([[0.28033801, 0.71966199],\n",
              "       [0.4747525 , 0.5252475 ],\n",
              "       [0.33827012, 0.66172988],\n",
              "       ...,\n",
              "       [0.46094007, 0.53905993],\n",
              "       [0.55929673, 0.44070327],\n",
              "       [0.22549081, 0.77450919]])"
            ]
          },
          "execution_count": 2110,
          "metadata": {},
          "output_type": "execute_result"
        }
      ],
      "source": [
        "pr_2"
      ]
    },
    {
      "cell_type": "code",
      "execution_count": 2111,
      "metadata": {},
      "outputs": [],
      "source": [
        "Y_pred = np.copy(Y_test)\n",
        "for i in range(len(pr_0)):\n",
        "    a = pr_0[i][0]\n",
        "    b = pr_1[i][1]\n",
        "    c = pr_2[i][1]\n",
        "    # b = 1 - a - c\n",
        "    if a == max(a, b, c):\n",
        "        Y_pred[i] = 0\n",
        "    elif b == max(a, b, c):\n",
        "        Y_pred[i] = 1\n",
        "    else:\n",
        "        Y_pred[i] = 2"
      ]
    },
    {
      "cell_type": "code",
      "execution_count": 2112,
      "metadata": {},
      "outputs": [
        {
          "name": "stdout",
          "output_type": "stream",
          "text": [
            "0.46360637327156595 0.43392667698921145\n"
          ]
        },
        {
          "data": {
            "text/plain": [
              "array([[   7,  546, 1037],\n",
              "       [  12, 1764, 3200],\n",
              "       [  18, 2829, 4834]], dtype=int64)"
            ]
          },
          "execution_count": 2112,
          "metadata": {},
          "output_type": "execute_result"
        }
      ],
      "source": [
        "print(accuracy_score(Y_test, Y_pred), f1_score(Y_test, Y_pred, average='weighted'))\n",
        "confusion_matrix(Y_test, Y_pred)"
      ]
    },
    {
      "cell_type": "markdown",
      "metadata": {},
      "source": [
        "# Testing"
      ]
    },
    {
      "cell_type": "code",
      "execution_count": 2113,
      "metadata": {},
      "outputs": [],
      "source": [
        "test_df = pd.read_csv(\"../../test.csv\")\n",
        "test_df.drop(['payer_code'], axis=1, inplace=True)"
      ]
    },
    {
      "cell_type": "code",
      "execution_count": 2114,
      "metadata": {},
      "outputs": [],
      "source": [
        "test_df.drop(['weight', 'max_glu_serum', 'A1Cresult'], axis=1, inplace=True)"
      ]
    },
    {
      "cell_type": "code",
      "execution_count": 2115,
      "metadata": {},
      "outputs": [],
      "source": [
        "test_df['count_changes'] = 0\n",
        "\n",
        "# Apply the function row-wise\n",
        "test_df['count_changes'] = test_df.apply(count_changes, axis=1)\n",
        "test_df.drop(drugs_cols, axis=1, inplace=True)"
      ]
    },
    {
      "cell_type": "code",
      "execution_count": 2116,
      "metadata": {},
      "outputs": [
        {
          "data": {
            "text/plain": [
              "0    22196\n",
              "1     7887\n",
              "2      413\n",
              "3       33\n",
              "4        1\n",
              "Name: count_changes, dtype: int64"
            ]
          },
          "execution_count": 2116,
          "metadata": {},
          "output_type": "execute_result"
        }
      ],
      "source": [
        "test_df['count_changes'].value_counts()"
      ]
    },
    {
      "cell_type": "code",
      "execution_count": 2117,
      "metadata": {},
      "outputs": [],
      "source": [
        "for c in test_df.columns:\n",
        "    if test_df[c].dtype == np.int64 or test_df[c].dtype == np.float64:\n",
        "        imputer.fit(test_df[c].values.reshape(-1, 1))\n",
        "        test_df[c] = imputer.transform(test_df[c].values.reshape(-1, 1)).reshape(-1,)\n",
        "    else:\n",
        "        str_imputer.fit(test_df[c].values.reshape(-1, 1))\n",
        "        test_df[c] = str_imputer.transform(test_df[c].values.reshape(-1, 1)).reshape(-1,)"
      ]
    },
    {
      "cell_type": "code",
      "execution_count": 2118,
      "metadata": {},
      "outputs": [],
      "source": [
        "test_df['admission_source_id'] = test_df['admission_source_id'].astype(int)\n",
        "test_df['admission_source_id'] = test_df['admission_source_id'].apply(change_admission_source_id)"
      ]
    },
    {
      "cell_type": "code",
      "execution_count": 2119,
      "metadata": {},
      "outputs": [],
      "source": [
        "test_df['admission_type_id'] = test_df['admission_type_id'].astype(int)\n",
        "test_df['admission_type_id'] = test_df['admission_type_id'].apply(change_admission_type_id)"
      ]
    },
    {
      "cell_type": "code",
      "execution_count": 2120,
      "metadata": {},
      "outputs": [],
      "source": [
        "test_df['discharge_disposition_id'] = test_df['discharge_disposition_id'].astype(int)\n",
        "test_df['discharge_disposition_id'] = test_df['discharge_disposition_id'].apply(change_discharge_disposition_id)"
      ]
    },
    {
      "cell_type": "code",
      "execution_count": 2121,
      "metadata": {},
      "outputs": [],
      "source": [
        "# diag_1_grouping_indices = test_df[test_df[\"diag_1\"].str.startswith(('E', 'V'))].index\n",
        "# test_df.loc[diag_1_grouping_indices, \"diag_1\"] = \"1000\"\n",
        "# test_df['diag_1'] = test_df['diag_1'].astype(float)\n",
        "# test_df['diag_1'] = test_df['diag_1'].apply(change_diagnosis)\n",
        "\n",
        "# diag_2_grouping_indices = test_df[test_df[\"diag_2\"].str.startswith(('E', 'V'))].index\n",
        "# test_df.loc[diag_2_grouping_indices, \"diag_2\"] = \"1000\"\n",
        "# test_df['diag_2'] = test_df['diag_2'].astype(float)\n",
        "# test_df['diag_2'] = test_df['diag_2'].apply(change_diagnosis)\n",
        "\n",
        "# diag_3_grouping_indices = test_df[test_df[\"diag_3\"].str.startswith(('E', 'V'))].index\n",
        "# test_df.loc[diag_3_grouping_indices, \"diag_3\"] = \"1000\"\n",
        "# test_df['diag_3'] = test_df['diag_3'].astype(float)\n",
        "# test_df['diag_3'] = test_df['diag_3'].apply(change_diagnosis)"
      ]
    },
    {
      "cell_type": "code",
      "execution_count": 2122,
      "metadata": {},
      "outputs": [],
      "source": [
        "test_df[\"age\"] = label_encoder.transform(test_df[\"age\"])\n"
      ]
    },
    {
      "cell_type": "code",
      "execution_count": 2123,
      "metadata": {},
      "outputs": [],
      "source": [
        "# Converting type of columns to category \n",
        "for c in columns_to_encode:\n",
        "    test_df[c] = test_df[c].astype('category')\n",
        "\n",
        "# Assigning numerical values and storing it in another columns \n",
        "new_cols = []\n",
        "for c in columns_to_encode:\n",
        "    test_df[c + \"_new\"] = test_df[c].cat.codes\n",
        "    new_cols.append(c + \"_new\")\n",
        "  \n",
        "  \n",
        "# Passing encoded columns \n",
        "enc_data = pd.DataFrame(enc.transform(test_df[new_cols]).toarray()) \n",
        "  \n",
        "# Merge with main \n",
        "new_df_1 = enc_data.join(test_df)\n",
        "new_df_1.drop(columns_to_encode, axis=1, inplace=True)\n",
        "\n",
        "new_df_1.drop(new_cols, axis=1, inplace=True)\n",
        "\n",
        "test_df = new_df_1"
      ]
    },
    {
      "cell_type": "code",
      "execution_count": 2124,
      "metadata": {},
      "outputs": [],
      "source": [
        "X_test_data = test_df.iloc[:, :].values"
      ]
    },
    {
      "cell_type": "code",
      "execution_count": 2125,
      "metadata": {},
      "outputs": [
        {
          "data": {
            "text/plain": [
              "array([1, 1, 1, ..., 1, 1, 1], dtype=int64)"
            ]
          },
          "execution_count": 2125,
          "metadata": {},
          "output_type": "execute_result"
        }
      ],
      "source": [
        "Y_pred0 = lgb_classifier_0.predict(X_test_data)\n",
        "Y_pred0\n"
      ]
    },
    {
      "cell_type": "code",
      "execution_count": 2126,
      "metadata": {},
      "outputs": [
        {
          "data": {
            "text/plain": [
              "array([1, 1, 0, ..., 1, 1, 0], dtype=int64)"
            ]
          },
          "execution_count": 2126,
          "metadata": {},
          "output_type": "execute_result"
        }
      ],
      "source": [
        "Y_pred1 = lgb_classifier_1.predict(X_test_data)\n",
        "Y_pred1\n"
      ]
    },
    {
      "cell_type": "code",
      "execution_count": 2127,
      "metadata": {},
      "outputs": [
        {
          "data": {
            "text/plain": [
              "array([0, 1, 1, ..., 0, 0, 1], dtype=int64)"
            ]
          },
          "execution_count": 2127,
          "metadata": {},
          "output_type": "execute_result"
        }
      ],
      "source": [
        "Y_pred2 = lgb_classifier_2.predict(X_test_data)\n",
        "Y_pred2\n"
      ]
    },
    {
      "cell_type": "code",
      "execution_count": 2128,
      "metadata": {},
      "outputs": [],
      "source": [
        "pr_0 = lgb_classifier_0.predict_proba(X_test_data)\n",
        "pr_1 = lgb_classifier_1.predict_proba(X_test_data)\n",
        "pr_2 = lgb_classifier_2.predict_proba(X_test_data)"
      ]
    },
    {
      "cell_type": "code",
      "execution_count": 2129,
      "metadata": {},
      "outputs": [
        {
          "data": {
            "text/html": [
              "<div>\n",
              "<style scoped>\n",
              "    .dataframe tbody tr th:only-of-type {\n",
              "        vertical-align: middle;\n",
              "    }\n",
              "\n",
              "    .dataframe tbody tr th {\n",
              "        vertical-align: top;\n",
              "    }\n",
              "\n",
              "    .dataframe thead th {\n",
              "        text-align: right;\n",
              "    }\n",
              "</style>\n",
              "<table border=\"1\" class=\"dataframe\">\n",
              "  <thead>\n",
              "    <tr style=\"text-align: right;\">\n",
              "      <th></th>\n",
              "      <th>enc_id</th>\n",
              "      <th>readmission_id</th>\n",
              "    </tr>\n",
              "  </thead>\n",
              "  <tbody>\n",
              "    <tr>\n",
              "      <th>0</th>\n",
              "      <td>86305392</td>\n",
              "      <td>2.0</td>\n",
              "    </tr>\n",
              "    <tr>\n",
              "      <th>1</th>\n",
              "      <td>394919696</td>\n",
              "      <td>1.0</td>\n",
              "    </tr>\n",
              "    <tr>\n",
              "      <th>2</th>\n",
              "      <td>164917446</td>\n",
              "      <td>0.0</td>\n",
              "    </tr>\n",
              "    <tr>\n",
              "      <th>3</th>\n",
              "      <td>178319040</td>\n",
              "      <td>2.0</td>\n",
              "    </tr>\n",
              "    <tr>\n",
              "      <th>4</th>\n",
              "      <td>253585416</td>\n",
              "      <td>0.0</td>\n",
              "    </tr>\n",
              "  </tbody>\n",
              "</table>\n",
              "</div>"
            ],
            "text/plain": [
              "      enc_id  readmission_id\n",
              "0   86305392             2.0\n",
              "1  394919696             1.0\n",
              "2  164917446             0.0\n",
              "3  178319040             2.0\n",
              "4  253585416             0.0"
            ]
          },
          "execution_count": 2129,
          "metadata": {},
          "output_type": "execute_result"
        }
      ],
      "source": [
        "submit = pd.read_csv(\"../sample_submission.csv\")\n",
        "# submit['readmission_id'] = Y_pred\n",
        "submit.head()"
      ]
    },
    {
      "cell_type": "code",
      "execution_count": 2130,
      "metadata": {},
      "outputs": [
        {
          "name": "stderr",
          "output_type": "stream",
          "text": [
            "C:\\Users\\HP\\AppData\\Local\\Temp\\ipykernel_220484\\2765837696.py:10: SettingWithCopyWarning: \n",
            "A value is trying to be set on a copy of a slice from a DataFrame\n",
            "\n",
            "See the caveats in the documentation: https://pandas.pydata.org/pandas-docs/stable/user_guide/indexing.html#returning-a-view-versus-a-copy\n",
            "  Y_pred[i] = 1\n",
            "C:\\Users\\HP\\AppData\\Local\\Temp\\ipykernel_220484\\2765837696.py:12: SettingWithCopyWarning: \n",
            "A value is trying to be set on a copy of a slice from a DataFrame\n",
            "\n",
            "See the caveats in the documentation: https://pandas.pydata.org/pandas-docs/stable/user_guide/indexing.html#returning-a-view-versus-a-copy\n",
            "  Y_pred[i] = 2\n",
            "C:\\Users\\HP\\AppData\\Local\\Temp\\ipykernel_220484\\2765837696.py:8: SettingWithCopyWarning: \n",
            "A value is trying to be set on a copy of a slice from a DataFrame\n",
            "\n",
            "See the caveats in the documentation: https://pandas.pydata.org/pandas-docs/stable/user_guide/indexing.html#returning-a-view-versus-a-copy\n",
            "  Y_pred[i] = 0\n"
          ]
        }
      ],
      "source": [
        "Y_pred = submit['readmission_id']\n",
        "for i in range(len(pr_0)):\n",
        "    a = pr_0[i][0]\n",
        "    b = pr_1[i][1]\n",
        "    c = pr_2[i][1]\n",
        "    # b = 1 - a - c\n",
        "    if a == max(a, b, c):\n",
        "        Y_pred[i] = 0\n",
        "    elif b == max(a, b, c):\n",
        "        Y_pred[i] = 1\n",
        "    else:\n",
        "        Y_pred[i] = 2"
      ]
    },
    {
      "cell_type": "code",
      "execution_count": 2131,
      "metadata": {},
      "outputs": [],
      "source": [
        "submit['readmission_id'] = Y_pred"
      ]
    },
    {
      "cell_type": "code",
      "execution_count": 2132,
      "metadata": {},
      "outputs": [],
      "source": [
        "submit.to_csv(\"submit_tmp.csv\", index = False)"
      ]
    },
    {
      "cell_type": "code",
      "execution_count": 2133,
      "metadata": {},
      "outputs": [
        {
          "data": {
            "text/plain": [
              "2.0    17338\n",
              "1.0    13139\n",
              "0.0       53\n",
              "Name: readmission_id, dtype: int64"
            ]
          },
          "execution_count": 2133,
          "metadata": {},
          "output_type": "execute_result"
        }
      ],
      "source": [
        "submit[\"readmission_id\"].value_counts()"
      ]
    },
    {
      "cell_type": "code",
      "execution_count": 2134,
      "metadata": {},
      "outputs": [
        {
          "data": {
            "text/plain": [
              "2    38402\n",
              "1    24881\n",
              "0     7950\n",
              "Name: readmission_id, dtype: int64"
            ]
          },
          "execution_count": 2134,
          "metadata": {},
          "output_type": "execute_result"
        }
      ],
      "source": [
        "df[\"readmission_id\"].value_counts()"
      ]
    },
    {
      "cell_type": "code",
      "execution_count": null,
      "metadata": {},
      "outputs": [],
      "source": []
    }
  ],
  "metadata": {
    "colab": {
      "provenance": []
    },
    "kernelspec": {
      "display_name": "mlds",
      "language": "python",
      "name": "python3"
    },
    "language_info": {
      "codemirror_mode": {
        "name": "ipython",
        "version": 3
      },
      "file_extension": ".py",
      "mimetype": "text/x-python",
      "name": "python",
      "nbconvert_exporter": "python",
      "pygments_lexer": "ipython3",
      "version": "3.11.4"
    },
    "orig_nbformat": 4
  },
  "nbformat": 4,
  "nbformat_minor": 0
}
