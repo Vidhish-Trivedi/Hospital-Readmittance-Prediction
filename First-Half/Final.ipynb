{
  "cells": [
    {
      "cell_type": "markdown",
      "metadata": {},
      "source": [
        "# Canadian Hospital Re-admittance Challenge"
      ]
    },
    {
      "cell_type": "markdown",
      "metadata": {},
      "source": [
        "- Vidhish Trivedi (IMT2021055)\n",
        "- Barath S Narayan (IMT2021524)\n",
        "- Vikas Kalyanapuram (IMT2021040)"
      ]
    },
    {
      "cell_type": "markdown",
      "metadata": {},
      "source": [
        "## Importing Libraries"
      ]
    },
    {
      "cell_type": "code",
      "execution_count": 1,
      "metadata": {
        "id": "LNlN9F1YyztV"
      },
      "outputs": [],
      "source": [
        "import numpy as np\n",
        "import pandas as pd\n",
        "import matplotlib.pyplot as plt\n",
        "import seaborn as sns\n",
        "from sklearn.linear_model import LogisticRegression\n",
        "from sklearn.neighbors import KNeighborsClassifier\n",
        "from sklearn.tree import DecisionTreeClassifier\n",
        "from sklearn.ensemble import RandomForestClassifier\n",
        "from sklearn.model_selection import train_test_split\n",
        "from sklearn.metrics import accuracy_score\n",
        "from sklearn.preprocessing import LabelEncoder\n",
        "from sklearn.preprocessing import OneHotEncoder\n",
        "from sklearn.metrics import accuracy_score"
      ]
    },
    {
      "cell_type": "markdown",
      "metadata": {
        "id": "pRaSFHoSyztW"
      },
      "source": [
        "## Loading the Training Dataset"
      ]
    },
    {
      "cell_type": "code",
      "execution_count": 2,
      "metadata": {
        "id": "aUup1TT_yztX"
      },
      "outputs": [],
      "source": [
        "df = pd.read_csv(\"./train.csv\")"
      ]
    },
    {
      "cell_type": "code",
      "execution_count": 3,
      "metadata": {},
      "outputs": [
        {
          "data": {
            "text/plain": [
              "(71236, 50)"
            ]
          },
          "execution_count": 3,
          "metadata": {},
          "output_type": "execute_result"
        }
      ],
      "source": [
        "df.shape"
      ]
    },
    {
      "cell_type": "code",
      "execution_count": 4,
      "metadata": {},
      "outputs": [],
      "source": [
        "null_value_percentages=(df.isna().sum()/df.shape[0]).sort_values()*100"
      ]
    },
    {
      "cell_type": "code",
      "execution_count": 5,
      "metadata": {
        "colab": {
          "base_uri": "https://localhost:8080/"
        },
        "id": "7AnptsnryztX",
        "outputId": "a8c2cb14-35dc-4406-c124-a256c4cfafbd"
      },
      "outputs": [],
      "source": [
        "df.drop_duplicates(inplace=True)"
      ]
    },
    {
      "cell_type": "markdown",
      "metadata": {},
      "source": [
        "Dropping columns with large number of null values, or columns which have no significant effect on the validation score."
      ]
    },
    {
      "cell_type": "code",
      "execution_count": 6,
      "metadata": {
        "colab": {
          "base_uri": "https://localhost:8080/",
          "height": 634
        },
        "id": "dyUTvWB6yztY",
        "outputId": "29ef57b9-7a64-4660-8479-5da77638d3f3"
      },
      "outputs": [],
      "source": [
        "df.drop(['weight', 'max_glu_serum', 'payer_code', 'diag_1', 'diag_2', 'diag_3', 'A1Cresult'], axis=1, inplace=True)"
      ]
    },
    {
      "cell_type": "code",
      "execution_count": 7,
      "metadata": {},
      "outputs": [
        {
          "data": {
            "text/plain": [
              "(71236, 43)"
            ]
          },
          "execution_count": 7,
          "metadata": {},
          "output_type": "execute_result"
        }
      ],
      "source": [
        "df.shape"
      ]
    },
    {
      "cell_type": "markdown",
      "metadata": {},
      "source": [
        "Replacing the drug dosage columns with the number of `Up`, `Down`, `No`, and `Steady` values for each encounter (row)"
      ]
    },
    {
      "cell_type": "code",
      "execution_count": 8,
      "metadata": {},
      "outputs": [],
      "source": [
        "drugs_cols = [\"metformin\", \"repaglinide\", \"nateglinide\", \"chlorpropamide\", \"glimepiride\", \"acetohexamide\", \"glipizide\", \"glyburide\", \"tolbutamide\", \"pioglitazone\", \"rosiglitazone\", \"acarbose\", \"miglitol\", \"troglitazone\", \"tolazamide\", \"examide\", \"citoglipton\", \"insulin\", \"glyburide-metformin\", \"glipizide-metformin\", \"glimepiride-pioglitazone\", \"metformin-rosiglitazone\", \"metformin-pioglitazone\"]\n",
        "\n",
        "def count_up(row):\n",
        "    return sum([1 for col in drugs_cols if row[col] in ['Up']])\n",
        "\n",
        "def count_down(row):\n",
        "    return sum([1 for col in drugs_cols if row[col] in ['Down']])\n",
        "\n",
        "def count_steady(row):\n",
        "    return sum([1 for col in drugs_cols if row[col] in ['Steady']])\n",
        "\n",
        "def count_no(row):\n",
        "    return sum([1 for col in drugs_cols if row[col] in ['No']])\n",
        "\n",
        "# Apply the function row-wise\n",
        "df['count_up'] = df.apply(count_up, axis=1)\n",
        "df['count_down'] = df.apply(count_down, axis=1)\n",
        "df['count_steady'] = df.apply(count_steady, axis=1)\n",
        "df['count_no'] = df.apply(count_no, axis=1)\n",
        "df.drop(drugs_cols, axis=1, inplace=True)"
      ]
    },
    {
      "cell_type": "code",
      "execution_count": 9,
      "metadata": {
        "colab": {
          "base_uri": "https://localhost:8080/"
        },
        "id": "S2Zqy6cvyztZ",
        "outputId": "046b1d72-74f9-4372-b1d5-a92a719e93ce"
      },
      "outputs": [
        {
          "data": {
            "text/plain": [
              "(71236, 24)"
            ]
          },
          "execution_count": 9,
          "metadata": {},
          "output_type": "execute_result"
        }
      ],
      "source": [
        "df.shape"
      ]
    },
    {
      "cell_type": "markdown",
      "metadata": {},
      "source": [
        "### Outlier Detection and Removal"
      ]
    },
    {
      "cell_type": "code",
      "execution_count": 10,
      "metadata": {},
      "outputs": [],
      "source": [
        "# outlier_removal_rows = ['time_in_hospital','num_lab_procedures','num_procedures','num_medications','number_diagnoses']\n",
        "\n",
        "# # Create a copy of the DataFrame to avoid modifying the original\n",
        "# df_copy = df.copy()\n",
        "\n",
        "# for attr in outlier_removal_rows:\n",
        "#     Q1 = df_copy[attr].quantile(0.25)\n",
        "#     Q3 = df_copy[attr].quantile(0.75)\n",
        "#     IQR = Q3 - Q1\n",
        "#     lower = Q1 - 1.5 * IQR\n",
        "#     upper = Q3 + 1.5 * IQR\n",
        "    \n",
        "#     # Create a boolean mask to identify outliers\n",
        "#     outlier_mask = (df_copy[attr] < lower) | (df_copy[attr] > upper)\n",
        "    \n",
        "#     # Remove the rows with outliers\n",
        "#     df_copy = df_copy[~outlier_mask]\n",
        " \n",
        "# print(\"New Shape: \", df_copy.shape)"
      ]
    },
    {
      "cell_type": "code",
      "execution_count": 11,
      "metadata": {},
      "outputs": [],
      "source": [
        "# df = df_copy"
      ]
    },
    {
      "cell_type": "code",
      "execution_count": 12,
      "metadata": {},
      "outputs": [],
      "source": [
        "# Drop row with invalid gender. Dropping 1 row.\n",
        "i = df[((df.gender == 'Unknown/Invalid'))].index\n",
        "df.drop(i, inplace=True)"
      ]
    },
    {
      "cell_type": "markdown",
      "metadata": {},
      "source": [
        "Imputing the categorical columns with a new category, denoted by `\"0\"`."
      ]
    },
    {
      "cell_type": "code",
      "execution_count": 13,
      "metadata": {
        "colab": {
          "base_uri": "https://localhost:8080/"
        },
        "id": "Bknv4kXFyzta",
        "outputId": "ddcc64a7-1b91-478d-8f41-de9eb95e8669"
      },
      "outputs": [],
      "source": [
        "from sklearn.impute import SimpleImputer\n",
        "\n",
        "imputer = SimpleImputer(missing_values=np.nan, strategy=\"constant\", fill_value=0)\n",
        "str_imputer = SimpleImputer(missing_values=np.nan, strategy=\"constant\", fill_value=\"0\")\n",
        "for c in df.columns:\n",
        "    if df[c].dtype == np.int64 or df[c].dtype == np.float64:\n",
        "        imputer.fit(df[c].values.reshape(-1, 1))\n",
        "        df[c] = imputer.transform(df[c].values.reshape(-1, 1)).reshape(-1,)\n",
        "    else:\n",
        "        str_imputer.fit(df[c].values.reshape(-1, 1))\n",
        "        df[c] = str_imputer.transform(df[c].values.reshape(-1, 1)).reshape(-1,)"
      ]
    },
    {
      "cell_type": "code",
      "execution_count": 14,
      "metadata": {
        "colab": {
          "base_uri": "https://localhost:8080/",
          "height": 591
        },
        "id": "aq5CE3Pcyztb",
        "outputId": "d7548096-05c2-4bae-9438-1f7bf62eed1d"
      },
      "outputs": [],
      "source": [
        "# plt.figure(figsize=(10,10))\n",
        "# dataplot = sns.heatmap(df.corr(numeric_only=True), annot=True)\n",
        "# plt.show()"
      ]
    },
    {
      "cell_type": "markdown",
      "metadata": {},
      "source": [
        "### One-Hot Encoding\n",
        "Finding the categorical columns to be one-hot encoded."
      ]
    },
    {
      "cell_type": "code",
      "execution_count": 15,
      "metadata": {},
      "outputs": [
        {
          "name": "stdout",
          "output_type": "stream",
          "text": [
            "race   6\n",
            "gender   2\n",
            "admission_type_id   8\n",
            "discharge_disposition_id   26\n",
            "admission_source_id   17\n",
            "medical_specialty   69\n",
            "change   2\n",
            "diabetesMed   2\n"
          ]
        }
      ],
      "source": [
        "columns_to_encode = df.select_dtypes(exclude=['float']).columns.tolist()\n",
        "\n",
        "columns_to_encode.remove(\"age\")\n",
        "columns_to_encode.remove(\"readmission_id\")\n",
        "columns_to_encode.remove(\"enc_id\")\n",
        "columns_to_encode.remove(\"count_up\")\n",
        "columns_to_encode.remove(\"count_down\")\n",
        "columns_to_encode.remove(\"count_steady\")\n",
        "columns_to_encode.remove(\"count_no\")\n",
        "columns_to_encode.remove(\"patient_id\")\n",
        "columns_to_encode.remove(\"number_emergency\")\n",
        "columns_to_encode.remove(\"number_inpatient\")\n",
        "columns_to_encode.remove(\"number_diagnoses\")\n",
        "columns_to_encode.remove(\"time_in_hospital\")\n",
        "columns_to_encode.remove(\"num_lab_procedures\")\n",
        "columns_to_encode.remove(\"num_procedures\")\n",
        "columns_to_encode.remove(\"num_medications\")\n",
        "columns_to_encode.remove(\"number_outpatient\")\n",
        "\n",
        "for i in columns_to_encode:\n",
        "    print(i,\" \",df[i].unique().size)\n",
        "\n",
        "# diag_1, diag_2 and diag_3 have many unique values, hence we are grouping"
      ]
    },
    {
      "cell_type": "markdown",
      "metadata": {},
      "source": [
        "Adding a new column to count the number of encounters for each patient id"
      ]
    },
    {
      "cell_type": "code",
      "execution_count": 16,
      "metadata": {},
      "outputs": [],
      "source": [
        "df['f_patient_id'] = df['patient_id'].copy(deep=True)"
      ]
    },
    {
      "cell_type": "code",
      "execution_count": 19,
      "metadata": {},
      "outputs": [],
      "source": [
        "cnt_dict = df['patient_id'].value_counts()"
      ]
    },
    {
      "cell_type": "markdown",
      "metadata": {},
      "source": [
        "Assigning the frequency values in the new column"
      ]
    },
    {
      "cell_type": "code",
      "execution_count": 20,
      "metadata": {},
      "outputs": [],
      "source": [
        "for i in df['patient_id']:\n",
        "    idx = df[df['f_patient_id'] == i].index\n",
        "    df.loc[idx, 'f_patient_id'] = cnt_dict[i]"
      ]
    },
    {
      "cell_type": "code",
      "execution_count": 22,
      "metadata": {},
      "outputs": [],
      "source": [
        "df.drop(['patient_id'], axis=1, inplace=True)"
      ]
    },
    {
      "cell_type": "markdown",
      "metadata": {},
      "source": [
        "### Grouping Functions for diag_1, diag_2, diag_3, admission_type_id, admission_source_id, discharge_disposition_id"
      ]
    },
    {
      "cell_type": "code",
      "execution_count": 23,
      "metadata": {},
      "outputs": [],
      "source": [
        "def change_diagnosis(value):    \n",
        "    if value >= 1 and value <= 139:\n",
        "        return \"D1\"\n",
        "    elif value <= 239:\n",
        "        return \"D2\"\n",
        "    elif value <= 279:\n",
        "        return \"D3\"\n",
        "    elif value <= 289:\n",
        "        return \"D4\"\n",
        "    elif value <= 319:\n",
        "        return \"D5\"\n",
        "    elif value <= 389:\n",
        "        return \"D6\"\n",
        "    elif value <= 459:\n",
        "        return \"D7\"\n",
        "    elif value <= 519:\n",
        "        return \"D8\"\n",
        "    elif value <= 579:\n",
        "        return \"D9\"\n",
        "    elif value <= 629:\n",
        "        return \"D9\"\n",
        "    elif value <= 679:\n",
        "        return \"D10\"\n",
        "    elif value <= 709:\n",
        "        return \"D11\"\n",
        "    elif value <= 739:\n",
        "        return \"D12\"\n",
        "    elif value <= 759:\n",
        "        return \"D13\"\n",
        "    elif value <= 779:\n",
        "        return \"D14\"\n",
        "    elif value <= 799:\n",
        "        return \"D15\"\n",
        "    elif value <= 999:\n",
        "        return \"D16\"\n",
        "    elif value == 1000:\n",
        "        return \"D17\"\n",
        "    else:\n",
        "        return \"D0\""
      ]
    },
    {
      "cell_type": "code",
      "execution_count": 24,
      "metadata": {},
      "outputs": [],
      "source": [
        "def change_admission_source_id(value):\n",
        "    if value in (1, 2, 3):\n",
        "        return \"Referral\"\n",
        "    elif value in (4, 5, 6, 10, 18, 22, 25, 26):\n",
        "        return \"Transfer\"\n",
        "    elif value in (11, 12, 13, 14, 23, 24):\n",
        "        return \"Pregnancy\"\n",
        "    elif value in (9, 15, 17, 20, 21, 0):\n",
        "        return \"NULL\"\n",
        "    else:\n",
        "        return \"Others\"  # readmission (19), emergency (7), court/law enf (8)"
      ]
    },
    {
      "cell_type": "code",
      "execution_count": 25,
      "metadata": {},
      "outputs": [],
      "source": [
        "def change_admission_type_id(value):\n",
        "    if value in (1, 2, 7):\n",
        "        return \"Emergency\"\n",
        "    elif value == 3:\n",
        "        return \"Elective\"\n",
        "    elif value == 4:\n",
        "        return \"Newborn\"\n",
        "    elif value in (0, 5, 6, 8):\n",
        "        return \"NULL\"\n",
        "    else:\n",
        "        return \"Others\""
      ]
    },
    {
      "cell_type": "code",
      "execution_count": 26,
      "metadata": {},
      "outputs": [],
      "source": [
        "def change_discharge_disposition_id(value):\n",
        "    if value == 1:\n",
        "        return \"Home_No_Treatment\"\n",
        "    elif value in range(2, 6) or range(15, 18) or range(22, 25) or range(27, 31) or range(9, 11):\n",
        "        return \"Transfer\"\n",
        "    elif value in (6, 8):\n",
        "        return \"Home_Treatment\"\n",
        "    elif value in (11, 19, 20, 21):\n",
        "        return \"Expired\"\n",
        "    elif value in (18, 25, 26, 0):\n",
        "        return \"NULL\"\n",
        "    else:\n",
        "        return \"Others\""
      ]
    },
    {
      "cell_type": "code",
      "execution_count": 27,
      "metadata": {},
      "outputs": [],
      "source": [
        "# diag_1_grouping_indices = df[df[\"diag_1\"].str.startswith(('E', 'V'))].index\n",
        "# df.loc[diag_1_grouping_indices, \"diag_1\"] = \"1000\"\n",
        "# df['diag_1'] = df['diag_1'].astype(float)\n",
        "# df['diag_1'] = df['diag_1'].apply(change_diagnosis)"
      ]
    },
    {
      "cell_type": "code",
      "execution_count": 28,
      "metadata": {},
      "outputs": [],
      "source": [
        "# diag_2_grouping_indices = df[df[\"diag_2\"].str.startswith(('E', 'V'))].index\n",
        "# df.loc[diag_2_grouping_indices, \"diag_2\"] = \"1000\"\n",
        "# df['diag_2'] = df['diag_2'].astype(float)\n",
        "# df['diag_2'] = df['diag_2'].apply(change_diagnosis)"
      ]
    },
    {
      "cell_type": "code",
      "execution_count": 29,
      "metadata": {},
      "outputs": [],
      "source": [
        "# diag_3_grouping_indices = df[df[\"diag_3\"].str.startswith(('E', 'V'))].index\n",
        "# df.loc[diag_3_grouping_indices, \"diag_3\"] = \"1000\"\n",
        "# df['diag_3'] = df['diag_3'].astype(float)\n",
        "# df['diag_3'] = df['diag_3'].apply(change_diagnosis)"
      ]
    },
    {
      "cell_type": "code",
      "execution_count": 30,
      "metadata": {},
      "outputs": [],
      "source": [
        "# df['admission_source_id'] = df['admission_source_id'].astype(int)\n",
        "# df['admission_source_id'] = df['admission_source_id'].apply(change_admission_source_id)"
      ]
    },
    {
      "cell_type": "code",
      "execution_count": 31,
      "metadata": {},
      "outputs": [],
      "source": [
        "# df['admission_type_id'] = df['admission_type_id'].astype(int)\n",
        "# df['admission_type_id'] = df['admission_type_id'].apply(change_admission_type_id)"
      ]
    },
    {
      "cell_type": "code",
      "execution_count": 32,
      "metadata": {},
      "outputs": [],
      "source": [
        "# df['discharge_disposition_id'] = df['discharge_disposition_id'].astype(int)\n",
        "# df['discharge_disposition_id'] = df['discharge_disposition_id'].apply(change_discharge_disposition_id)"
      ]
    },
    {
      "cell_type": "markdown",
      "metadata": {},
      "source": [
        "Label encoding the age field"
      ]
    },
    {
      "cell_type": "code",
      "execution_count": 33,
      "metadata": {},
      "outputs": [],
      "source": [
        "label_encoder = LabelEncoder()\n",
        "df[\"age\"] = label_encoder.fit_transform(df[\"age\"])"
      ]
    },
    {
      "cell_type": "markdown",
      "metadata": {},
      "source": [
        "Trying out an average-based approach for converting age categories"
      ]
    },
    {
      "cell_type": "code",
      "execution_count": null,
      "metadata": {},
      "outputs": [],
      "source": [
        "# def change_age(value):\n",
        "#     if(value == '[0-10)'):\n",
        "#         return 5\n",
        "#     elif(value == '[10-20)'):\n",
        "#         return 15\n",
        "#     elif(value == '[20-30)'):\n",
        "#         return 25\n",
        "#     elif(value == '[30-40)'):\n",
        "#         return 35\n",
        "#     elif(value == '[40-50)'):\n",
        "#         return 45\n",
        "#     elif(value == '[50-60)'):\n",
        "#         return 55\n",
        "#     elif(value == '[60-70)'):\n",
        "#         return 65\n",
        "#     elif(value == '[70-80)'):\n",
        "#         return 75\n",
        "#     elif(value == '[80-90)'):\n",
        "#         return 85\n",
        "#     elif(value == '[90-100)'):\n",
        "#         return 95\n",
        "\n",
        "# df['age'] = df['age'].apply(change_age)"
      ]
    },
    {
      "cell_type": "code",
      "execution_count": 34,
      "metadata": {},
      "outputs": [],
      "source": [
        "df.set_index(pd.Index(range(0, df.shape[0])), inplace=True)"
      ]
    },
    {
      "cell_type": "markdown",
      "metadata": {},
      "source": [
        "Applying One-Hot Encoding on columns_to_encode"
      ]
    },
    {
      "cell_type": "code",
      "execution_count": 35,
      "metadata": {},
      "outputs": [
        {
          "name": "stdout",
          "output_type": "stream",
          "text": [
            "(71233, 24)\n"
          ]
        }
      ],
      "source": [
        "print(df.shape)\n",
        "# Converting type of columns to category \n",
        "for c in columns_to_encode:\n",
        "    df[c] = df[c].astype('category')\n",
        "  \n",
        "  \n",
        "# Assigning numerical values and storing it in another columns \n",
        "new_cols = []\n",
        "for c in columns_to_encode:\n",
        "    df[c + \"_new\"] = df[c].cat.codes\n",
        "    new_cols.append(c + \"_new\")\n",
        "  \n",
        "# Create an instance of One-hot-encoder \n",
        "enc = OneHotEncoder(handle_unknown='ignore') \n",
        "  \n",
        "# Passing encoded columns \n",
        "enc_data = pd.DataFrame(enc.fit_transform(df[new_cols]).toarray()) \n",
        "  \n",
        "# Merge with main \n",
        "new_df = enc_data.join(df)\n",
        "new_df.drop(columns_to_encode, axis=1, inplace=True)\n",
        "\n",
        "tmp_y = pd.DataFrame(new_df[\"readmission_id\"])\n",
        "new_df.drop([\"readmission_id\"], axis=1, inplace=True)\n",
        "new_df.drop(new_cols, axis=1, inplace=True)\n",
        "new_df = new_df.join(tmp_y)\n",
        "\n",
        "df = new_df"
      ]
    },
    {
      "cell_type": "markdown",
      "metadata": {},
      "source": [
        "### Train-Test Split"
      ]
    },
    {
      "cell_type": "code",
      "execution_count": 36,
      "metadata": {
        "colab": {
          "base_uri": "https://localhost:8080/"
        },
        "id": "jnUqx802yztb",
        "outputId": "f9e467e3-ad8a-4937-db29-eca5fcb73ffc"
      },
      "outputs": [],
      "source": [
        "X = df.iloc[:, :-1].values\n",
        "Y = df.iloc[:, -1].values"
      ]
    },
    {
      "cell_type": "code",
      "execution_count": 37,
      "metadata": {},
      "outputs": [],
      "source": [
        "X_train, X_test, Y_train, Y_test = train_test_split(X, Y, test_size=0.2, random_state=0, stratify=Y)"
      ]
    },
    {
      "cell_type": "markdown",
      "metadata": {},
      "source": [
        "### Training Various Models\n",
        "Trying out KNN classifier, Decision Tree Classifier, Random Forest Classifier, XGBoost Classifier, LGBM Classifier, CatBoost Classifier."
      ]
    },
    {
      "cell_type": "code",
      "execution_count": 38,
      "metadata": {},
      "outputs": [],
      "source": [
        "# knn_model = KNeighborsClassifier(n_neighbors=8)\n",
        "# knn_model.fit(X_train, Y_train)\n",
        "\n",
        "# Y_pred = knn_model.predict(X_test)\n",
        "# print(accuracy_score(Y_pred, Y_test))"
      ]
    },
    {
      "cell_type": "code",
      "execution_count": 39,
      "metadata": {},
      "outputs": [],
      "source": [
        "# decision_tree_model = DecisionTreeClassifier(random_state=42)\n",
        "# decision_tree_model.fit(X_train, Y_train)\n",
        "# Y_pred = decision_tree_model.predict(X_test)\n",
        "# accuracy_score(Y_test, Y_pred)"
      ]
    },
    {
      "cell_type": "code",
      "execution_count": 40,
      "metadata": {},
      "outputs": [],
      "source": [
        "# a = 0.000991\n",
        "# random_forest_model = RandomForestClassifier(max_leaf_nodes = int(a * 1e6), random_state=0)\n",
        "# random_forest_model.fit(X_train, Y_train)\n",
        "\n",
        "# Y_pred = random_forest_model.predict(X_test)\n",
        "# print(accuracy_score(Y_pred, Y_test))"
      ]
    },
    {
      "cell_type": "markdown",
      "metadata": {},
      "source": [
        "Randomised Cross Validation Search"
      ]
    },
    {
      "cell_type": "code",
      "execution_count": null,
      "metadata": {},
      "outputs": [],
      "source": [
        "# from sklearn.model_selection import RandomizedSearchCV\n",
        "# # Create the random grid\n",
        "# random_grid = {'n_estimators': [int(x) for x in np.linspace(start = 200, stop = 2000, num = 10)],\n",
        "#                 'max_features': ['log2', 'sqrt', 'none'],\n",
        "#                 'max_depth': [int(x) for x in range(1, 13)],\n",
        "#                 'min_samples_split': [x for x in range(2, 100, 5)],\n",
        "#                 'min_samples_leaf': [x for x in range(3, 15)],\n",
        "#                 'bootstrap': [True, False],\n",
        "#                 'criterion': ['gini', 'entropy', 'log_loss'],\n",
        "#                 'oob_score': [True, False],\n",
        "#                 'class_weight': ['balanced', 'balanced_subsample']}\n",
        "\n",
        "# # Use the random grid to search for best hyperparameters\n",
        "# # First create the base model to tune\n",
        "# rf = RandomForestClassifier()\n",
        "# # Random search of parameters, using 3 fold cross validation, \n",
        "# # search across 100 different combinations, and use all available cores\n",
        "# rf_random = RandomizedSearchCV(estimator = rf, param_distributions = random_grid, n_iter = 100, cv = 3, verbose=2, random_state=0, n_jobs = -1, scoring='accuracy')\n",
        "# # Fit the random search model\n",
        "# rf_random.fit(X_train, Y_train)\n",
        "# print(rf_random.best_params_)"
      ]
    },
    {
      "cell_type": "markdown",
      "metadata": {},
      "source": [
        "Grid Search Cross Validation"
      ]
    },
    {
      "cell_type": "code",
      "execution_count": null,
      "metadata": {},
      "outputs": [],
      "source": [
        "# from sklearn.model_selection import GridSearchCV\n",
        "# # Create the parameter grid based on the results of random search \n",
        "# param_grid = {\n",
        "#     'bootstrap': [True],\n",
        "#     'max_depth': [80, 90, 100, 110],\n",
        "#     'max_features': [2, 3],\n",
        "#     'min_samples_leaf': [3, 4, 5],\n",
        "#     'min_samples_split': [8, 10, 12],\n",
        "#     'n_estimators': [100, 200, 300, 1000]\n",
        "# }\n",
        "# # Create a based model\n",
        "# rf = RandomForestClassifier()\n",
        "# # Instantiate the grid search model\n",
        "# grid_search = GridSearchCV(estimator = rf, param_grid = param_grid, cv=3, n_jobs=-1, verbose = 2)\n",
        "\n",
        "# # # Fit the grid search to the data\n",
        "# # grid_search.fit(X_train, Y_train)\n",
        "# print(grid_search.best_params_)\n",
        "# best_grid = grid_search.best_estimator_"
      ]
    },
    {
      "cell_type": "code",
      "execution_count": 41,
      "metadata": {},
      "outputs": [],
      "source": [
        "# import xgboost as xgb\n",
        "\n",
        "# # Train a model using the scikit-learn API\n",
        "# xgb_classifier = xgb.XGBClassifier(n_estimators=100, objective='weighted:logistic', tree_method='hist', eta=0.1, max_depth=3)\n",
        "# xgb_classifier.fit(X_train, Y_train)\n",
        "\n",
        "# # Convert the model to a native API model\n",
        "# model = xgb_classifier.get_booster()"
      ]
    },
    {
      "cell_type": "code",
      "execution_count": null,
      "metadata": {},
      "outputs": [],
      "source": [
        "# from catboost import CatBoostClassifier\n",
        "# model = CatBoostClassifier(\n",
        "#     iterations=5,\n",
        "#     learning_rate=0.1,\n",
        "#     # loss_function='CrossEntropy'\n",
        "# )\n",
        "# model.fit(\n",
        "#     X_train, Y_train,\n",
        "#     cat_features=cat_features, # Need to create additional list\n",
        "#     eval_set=(X_test, Y_test),\n",
        "#     verbose=False\n",
        "# )\n",
        "# print('Model is fitted: ' + str(model.is_fitted()))\n",
        "# print('Model params:')\n",
        "# print(model.get_params())"
      ]
    },
    {
      "cell_type": "code",
      "execution_count": 42,
      "metadata": {},
      "outputs": [
        {
          "name": "stdout",
          "output_type": "stream",
          "text": [
            "[LightGBM] [Info] Auto-choosing row-wise multi-threading, the overhead of testing was 0.012235 seconds.\n",
            "You can set `force_row_wise=true` to remove the overhead.\n",
            "And if memory is not enough, you can set `force_col_wise=true`.\n",
            "[LightGBM] [Info] Total Bins 771\n",
            "[LightGBM] [Info] Number of data points in the train set: 56986, number of used features: 101\n",
            "[LightGBM] [Info] Start training from score -2.192777\n",
            "[LightGBM] [Info] Start training from score -1.051835\n",
            "[LightGBM] [Info] Start training from score -0.617859\n"
          ]
        },
        {
          "data": {
            "text/html": [
              "<style>#sk-container-id-1 {color: black;background-color: white;}#sk-container-id-1 pre{padding: 0;}#sk-container-id-1 div.sk-toggleable {background-color: white;}#sk-container-id-1 label.sk-toggleable__label {cursor: pointer;display: block;width: 100%;margin-bottom: 0;padding: 0.3em;box-sizing: border-box;text-align: center;}#sk-container-id-1 label.sk-toggleable__label-arrow:before {content: \"▸\";float: left;margin-right: 0.25em;color: #696969;}#sk-container-id-1 label.sk-toggleable__label-arrow:hover:before {color: black;}#sk-container-id-1 div.sk-estimator:hover label.sk-toggleable__label-arrow:before {color: black;}#sk-container-id-1 div.sk-toggleable__content {max-height: 0;max-width: 0;overflow: hidden;text-align: left;background-color: #f0f8ff;}#sk-container-id-1 div.sk-toggleable__content pre {margin: 0.2em;color: black;border-radius: 0.25em;background-color: #f0f8ff;}#sk-container-id-1 input.sk-toggleable__control:checked~div.sk-toggleable__content {max-height: 200px;max-width: 100%;overflow: auto;}#sk-container-id-1 input.sk-toggleable__control:checked~label.sk-toggleable__label-arrow:before {content: \"▾\";}#sk-container-id-1 div.sk-estimator input.sk-toggleable__control:checked~label.sk-toggleable__label {background-color: #d4ebff;}#sk-container-id-1 div.sk-label input.sk-toggleable__control:checked~label.sk-toggleable__label {background-color: #d4ebff;}#sk-container-id-1 input.sk-hidden--visually {border: 0;clip: rect(1px 1px 1px 1px);clip: rect(1px, 1px, 1px, 1px);height: 1px;margin: -1px;overflow: hidden;padding: 0;position: absolute;width: 1px;}#sk-container-id-1 div.sk-estimator {font-family: monospace;background-color: #f0f8ff;border: 1px dotted black;border-radius: 0.25em;box-sizing: border-box;margin-bottom: 0.5em;}#sk-container-id-1 div.sk-estimator:hover {background-color: #d4ebff;}#sk-container-id-1 div.sk-parallel-item::after {content: \"\";width: 100%;border-bottom: 1px solid gray;flex-grow: 1;}#sk-container-id-1 div.sk-label:hover label.sk-toggleable__label {background-color: #d4ebff;}#sk-container-id-1 div.sk-serial::before {content: \"\";position: absolute;border-left: 1px solid gray;box-sizing: border-box;top: 0;bottom: 0;left: 50%;z-index: 0;}#sk-container-id-1 div.sk-serial {display: flex;flex-direction: column;align-items: center;background-color: white;padding-right: 0.2em;padding-left: 0.2em;position: relative;}#sk-container-id-1 div.sk-item {position: relative;z-index: 1;}#sk-container-id-1 div.sk-parallel {display: flex;align-items: stretch;justify-content: center;background-color: white;position: relative;}#sk-container-id-1 div.sk-item::before, #sk-container-id-1 div.sk-parallel-item::before {content: \"\";position: absolute;border-left: 1px solid gray;box-sizing: border-box;top: 0;bottom: 0;left: 50%;z-index: -1;}#sk-container-id-1 div.sk-parallel-item {display: flex;flex-direction: column;z-index: 1;position: relative;background-color: white;}#sk-container-id-1 div.sk-parallel-item:first-child::after {align-self: flex-end;width: 50%;}#sk-container-id-1 div.sk-parallel-item:last-child::after {align-self: flex-start;width: 50%;}#sk-container-id-1 div.sk-parallel-item:only-child::after {width: 0;}#sk-container-id-1 div.sk-dashed-wrapped {border: 1px dashed gray;margin: 0 0.4em 0.5em 0.4em;box-sizing: border-box;padding-bottom: 0.4em;background-color: white;}#sk-container-id-1 div.sk-label label {font-family: monospace;font-weight: bold;display: inline-block;line-height: 1.2em;}#sk-container-id-1 div.sk-label-container {text-align: center;}#sk-container-id-1 div.sk-container {/* jupyter's `normalize.less` sets `[hidden] { display: none; }` but bootstrap.min.css set `[hidden] { display: none !important; }` so we also need the `!important` here to be able to override the default hidden behavior on the sphinx rendered scikit-learn.org. See: https://github.com/scikit-learn/scikit-learn/issues/21755 */display: inline-block !important;position: relative;}#sk-container-id-1 div.sk-text-repr-fallback {display: none;}</style><div id=\"sk-container-id-1\" class=\"sk-top-container\"><div class=\"sk-text-repr-fallback\"><pre>LGBMClassifier(boosting_type=&#x27;dart&#x27;, n_estimators=300, objective=&#x27;multiclass&#x27;,\n",
              "               random_state=0)</pre><b>In a Jupyter environment, please rerun this cell to show the HTML representation or trust the notebook. <br />On GitHub, the HTML representation is unable to render, please try loading this page with nbviewer.org.</b></div><div class=\"sk-container\" hidden><div class=\"sk-item\"><div class=\"sk-estimator sk-toggleable\"><input class=\"sk-toggleable__control sk-hidden--visually\" id=\"sk-estimator-id-1\" type=\"checkbox\" checked><label for=\"sk-estimator-id-1\" class=\"sk-toggleable__label sk-toggleable__label-arrow\">LGBMClassifier</label><div class=\"sk-toggleable__content\"><pre>LGBMClassifier(boosting_type=&#x27;dart&#x27;, n_estimators=300, objective=&#x27;multiclass&#x27;,\n",
              "               random_state=0)</pre></div></div></div></div></div>"
            ],
            "text/plain": [
              "LGBMClassifier(boosting_type='dart', n_estimators=300, objective='multiclass',\n",
              "               random_state=0)"
            ]
          },
          "execution_count": 42,
          "metadata": {},
          "output_type": "execute_result"
        }
      ],
      "source": [
        "from lightgbm import LGBMClassifier\n",
        "\n",
        "# Train a model using the scikit-learn API\n",
        "lgb_classifier = LGBMClassifier(n_estimators=300, objective='multiclass', max_depth=-1, random_state=0, boosting_type='dart')\n",
        "lgb_classifier.fit(X_train, Y_train)"
      ]
    },
    {
      "cell_type": "markdown",
      "metadata": {},
      "source": [
        "### Validation"
      ]
    },
    {
      "cell_type": "code",
      "execution_count": 43,
      "metadata": {},
      "outputs": [
        {
          "name": "stdout",
          "output_type": "stream",
          "text": [
            "0.6948129430757353\n"
          ]
        }
      ],
      "source": [
        "from sklearn.metrics import f1_score\n",
        "Y_pred = lgb_classifier.predict(X_test)\n",
        "print(accuracy_score(Y_test, Y_pred))"
      ]
    },
    {
      "cell_type": "code",
      "execution_count": 44,
      "metadata": {},
      "outputs": [],
      "source": [
        "# from sklearn.metrics import confusion_matrix\n",
        "# confusion_matrix(Y_pred, Y_test)"
      ]
    },
    {
      "cell_type": "markdown",
      "metadata": {},
      "source": [
        "# Testing"
      ]
    },
    {
      "cell_type": "code",
      "execution_count": 45,
      "metadata": {},
      "outputs": [],
      "source": [
        "test_df = pd.read_csv(\"./test.csv\")"
      ]
    },
    {
      "cell_type": "code",
      "execution_count": 46,
      "metadata": {},
      "outputs": [],
      "source": [
        "test_df.drop(['weight', 'max_glu_serum', 'A1Cresult', 'payer_code', 'diag_1', 'diag_2', 'diag_3'], axis=1, inplace=True)"
      ]
    },
    {
      "cell_type": "code",
      "execution_count": 47,
      "metadata": {},
      "outputs": [],
      "source": [
        "# Apply the function row-wise\n",
        "test_df['count_up'] = test_df.apply(count_up, axis=1)\n",
        "test_df['count_down'] = test_df.apply(count_down, axis=1)\n",
        "test_df['count_steady'] = test_df.apply(count_steady, axis=1)\n",
        "test_df['count_no'] = test_df.apply(count_no, axis=1)\n",
        "test_df.drop(drugs_cols, axis=1, inplace=True)"
      ]
    },
    {
      "cell_type": "code",
      "execution_count": 48,
      "metadata": {},
      "outputs": [],
      "source": [
        "for c in test_df.columns:\n",
        "    if test_df[c].dtype == np.int64 or test_df[c].dtype == np.float64:\n",
        "        imputer.fit(test_df[c].values.reshape(-1, 1))\n",
        "        test_df[c] = imputer.transform(test_df[c].values.reshape(-1, 1)).reshape(-1,)\n",
        "    else:\n",
        "        str_imputer.fit(test_df[c].values.reshape(-1, 1))\n",
        "        test_df[c] = str_imputer.transform(test_df[c].values.reshape(-1, 1)).reshape(-1,)"
      ]
    },
    {
      "cell_type": "code",
      "execution_count": 49,
      "metadata": {},
      "outputs": [],
      "source": [
        "test_df[\"age\"] = label_encoder.transform(test_df[\"age\"])\n"
      ]
    },
    {
      "cell_type": "code",
      "execution_count": 50,
      "metadata": {},
      "outputs": [],
      "source": [
        "# test_df.set_index(test_df['patient_id'], inplace=True)\n",
        "cnt_dict_1 = test_df['patient_id'].value_counts()"
      ]
    },
    {
      "cell_type": "markdown",
      "metadata": {},
      "source": [
        "### Here, to calculate the final values in the f_patient_id column, we add the encounters for a given patient_id from the train and the test data.\n",
        "This is intuitve, since a patient who, according to the train data had an encounter count of x, should be assigned an encounter count of x + n (where n is the encounter count of the same patient according to the test data) and not just n."
      ]
    },
    {
      "cell_type": "code",
      "execution_count": 51,
      "metadata": {},
      "outputs": [],
      "source": [
        "test_df['f_patient_id'] = test_df['patient_id'].copy(deep=True)\n",
        "for i in test_df['patient_id']:\n",
        "    idx = test_df[test_df['f_patient_id'] == i].index\n",
        "    if cnt_dict.get(i) != None and cnt_dict[i] != 0:\n",
        "        test_df.loc[idx, 'f_patient_id'] = cnt_dict_1[i] + cnt_dict[i]\n",
        "    else:\n",
        "        test_df.loc[idx, 'f_patient_id'] = cnt_dict_1[i]"
      ]
    },
    {
      "cell_type": "code",
      "execution_count": 52,
      "metadata": {},
      "outputs": [],
      "source": [
        "test_df.drop(['patient_id'], axis=1, inplace=True)"
      ]
    },
    {
      "cell_type": "code",
      "execution_count": 53,
      "metadata": {},
      "outputs": [],
      "source": [
        "# Converting type of columns to category \n",
        "for c in columns_to_encode:\n",
        "    test_df[c] = test_df[c].astype('category')\n",
        "\n",
        "# Assigning numerical values and storing it in another columns \n",
        "new_cols = []\n",
        "for c in columns_to_encode:\n",
        "    test_df[c + \"_new\"] = test_df[c].cat.codes\n",
        "    new_cols.append(c + \"_new\")\n",
        "  \n",
        "  \n",
        "# Passing encoded columns \n",
        "enc_data = pd.DataFrame(enc.transform(test_df[new_cols]).toarray()) \n",
        "  \n",
        "# Merge with main \n",
        "new_df_1 = enc_data.join(test_df)\n",
        "new_df_1.drop(columns_to_encode, axis=1, inplace=True)\n",
        "\n",
        "new_df_1.drop(new_cols, axis=1, inplace=True)\n",
        "\n",
        "test_df = new_df_1"
      ]
    },
    {
      "cell_type": "code",
      "execution_count": 54,
      "metadata": {},
      "outputs": [],
      "source": [
        "X_test_data = test_df.iloc[:, :].values"
      ]
    },
    {
      "cell_type": "code",
      "execution_count": 55,
      "metadata": {},
      "outputs": [
        {
          "data": {
            "text/plain": [
              "array([1, 2, 1, ..., 1, 1, 1], dtype=int64)"
            ]
          },
          "execution_count": 55,
          "metadata": {},
          "output_type": "execute_result"
        }
      ],
      "source": [
        "Y_pred = lgb_classifier.predict(X_test_data)\n",
        "Y_pred\n"
      ]
    },
    {
      "cell_type": "code",
      "execution_count": 56,
      "metadata": {},
      "outputs": [
        {
          "data": {
            "text/html": [
              "<div>\n",
              "<style scoped>\n",
              "    .dataframe tbody tr th:only-of-type {\n",
              "        vertical-align: middle;\n",
              "    }\n",
              "\n",
              "    .dataframe tbody tr th {\n",
              "        vertical-align: top;\n",
              "    }\n",
              "\n",
              "    .dataframe thead th {\n",
              "        text-align: right;\n",
              "    }\n",
              "</style>\n",
              "<table border=\"1\" class=\"dataframe\">\n",
              "  <thead>\n",
              "    <tr style=\"text-align: right;\">\n",
              "      <th></th>\n",
              "      <th>enc_id</th>\n",
              "      <th>readmission_id</th>\n",
              "    </tr>\n",
              "  </thead>\n",
              "  <tbody>\n",
              "    <tr>\n",
              "      <th>0</th>\n",
              "      <td>86305392</td>\n",
              "      <td>1</td>\n",
              "    </tr>\n",
              "    <tr>\n",
              "      <th>1</th>\n",
              "      <td>394919696</td>\n",
              "      <td>2</td>\n",
              "    </tr>\n",
              "    <tr>\n",
              "      <th>2</th>\n",
              "      <td>164917446</td>\n",
              "      <td>1</td>\n",
              "    </tr>\n",
              "    <tr>\n",
              "      <th>3</th>\n",
              "      <td>178319040</td>\n",
              "      <td>1</td>\n",
              "    </tr>\n",
              "    <tr>\n",
              "      <th>4</th>\n",
              "      <td>253585416</td>\n",
              "      <td>1</td>\n",
              "    </tr>\n",
              "  </tbody>\n",
              "</table>\n",
              "</div>"
            ],
            "text/plain": [
              "      enc_id  readmission_id\n",
              "0   86305392               1\n",
              "1  394919696               2\n",
              "2  164917446               1\n",
              "3  178319040               1\n",
              "4  253585416               1"
            ]
          },
          "execution_count": 56,
          "metadata": {},
          "output_type": "execute_result"
        }
      ],
      "source": [
        "submit = pd.read_csv(\"./sample_submission.csv\")\n",
        "submit['readmission_id'] = Y_pred\n",
        "submit.head()"
      ]
    },
    {
      "cell_type": "code",
      "execution_count": 57,
      "metadata": {},
      "outputs": [],
      "source": [
        "submit.to_csv(\"submit_tmp.csv\", index = False)"
      ]
    },
    {
      "cell_type": "code",
      "execution_count": 58,
      "metadata": {},
      "outputs": [
        {
          "data": {
            "text/plain": [
              "2    18125\n",
              "1    12120\n",
              "0      285\n",
              "Name: readmission_id, dtype: int64"
            ]
          },
          "execution_count": 58,
          "metadata": {},
          "output_type": "execute_result"
        }
      ],
      "source": [
        "submit[\"readmission_id\"].value_counts()"
      ]
    },
    {
      "cell_type": "code",
      "execution_count": 59,
      "metadata": {},
      "outputs": [
        {
          "data": {
            "text/plain": [
              "2    38402\n",
              "1    24881\n",
              "0     7950\n",
              "Name: readmission_id, dtype: int64"
            ]
          },
          "execution_count": 59,
          "metadata": {},
          "output_type": "execute_result"
        }
      ],
      "source": [
        "df[\"readmission_id\"].value_counts()"
      ]
    },
    {
      "cell_type": "code",
      "execution_count": null,
      "metadata": {},
      "outputs": [],
      "source": []
    }
  ],
  "metadata": {
    "colab": {
      "provenance": []
    },
    "kernelspec": {
      "display_name": "mlds",
      "language": "python",
      "name": "python3"
    },
    "language_info": {
      "codemirror_mode": {
        "name": "ipython",
        "version": 3
      },
      "file_extension": ".py",
      "mimetype": "text/x-python",
      "name": "python",
      "nbconvert_exporter": "python",
      "pygments_lexer": "ipython3",
      "version": "3.11.4"
    },
    "orig_nbformat": 4
  },
  "nbformat": 4,
  "nbformat_minor": 0
}
