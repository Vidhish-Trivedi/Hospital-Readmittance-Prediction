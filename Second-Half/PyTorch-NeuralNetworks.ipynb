{
  "cells": [
    {
      "cell_type": "markdown",
      "metadata": {},
      "source": [
        "## Neural Networks - PyTorch\n",
        "\n",
        "- Vidhish Trivedi (IMT2021055)\n",
        "- Barath S Narayan (IMT2021524)\n",
        "- Vikas Kalyanapuram (IMT2021040)"
      ]
    },
    {
      "cell_type": "markdown",
      "metadata": {},
      "source": [
        "## Importing Libraries"
      ]
    },
    {
      "cell_type": "code",
      "execution_count": null,
      "metadata": {
        "id": "n38XDMNtqTYJ"
      },
      "outputs": [],
      "source": [
        "import numpy as np\n",
        "#import optuna\n",
        "import pandas as pd\n",
        "import matplotlib.pyplot as plt\n",
        "import urllib\n",
        "import sklearn\n",
        "from sklearn import svm\n",
        "from sklearn.naive_bayes import BernoulliNB\n",
        "from sklearn.naive_bayes import GaussianNB\n",
        "from sklearn.naive_bayes import MultinomialNB\n",
        "from sklearn.linear_model import LogisticRegression\n",
        "from sklearn.model_selection import train_test_split, RandomizedSearchCV\n",
        "from sklearn.linear_model import LinearRegression\n",
        "from sklearn.preprocessing import PolynomialFeatures, StandardScaler, LabelEncoder\n",
        "from sklearn.metrics import accuracy_score, confusion_matrix\n",
        "import seaborn as sns\n",
        "import xgboost as xgb\n",
        "from sklearn.ensemble import GradientBoostingClassifier\n",
        "# from imblearn.over_sampling import RandomOverSampler, SMOTE\n",
        "# from imblearn.under_sampling import RandomUnderSampler\n",
        "from keras.utils import to_categorical"
      ]
    },
    {
      "cell_type": "markdown",
      "metadata": {},
      "source": [
        "## Loading the data and Feature Engineering"
      ]
    },
    {
      "cell_type": "code",
      "execution_count": null,
      "metadata": {
        "colab": {
          "base_uri": "https://localhost:8080/"
        },
        "id": "I9Ao2uflReAT",
        "outputId": "e6838504-91c3-4d3b-ccaa-99c7fc03df17"
      },
      "outputs": [],
      "source": [
        "# Load Data\n",
        "test_df = pd.read_csv(\"./test.csv\")\n",
        "df = pd.read_csv(\"./train.csv\")"
      ]
    },
    {
      "cell_type": "code",
      "execution_count": null,
      "metadata": {
        "id": "chfjKfymeIWd"
      },
      "outputs": [],
      "source": [
        "# Combining train and test frequencies\n",
        "train_frequency = df['patient_id'].value_counts().to_dict()\n",
        "test_frequency = test_df['patient_id'].value_counts().to_dict()\n",
        "\n",
        "combined_frequency = {key: train_frequency.get(key, 0) + test_frequency.get(key, 0) for key in set(train_frequency) | set(test_frequency)}\n",
        "\n",
        "# Add 'frequency' column to both DataFrames\n",
        "df['frequency_pid'] = df['patient_id'].map(combined_frequency)\n",
        "test_df['frequency_pid'] = test_df['patient_id'].map(combined_frequency)\n"
      ]
    },
    {
      "cell_type": "code",
      "execution_count": null,
      "metadata": {
        "id": "u-3GBwOU9Wj7"
      },
      "outputs": [],
      "source": [
        "from sklearn.preprocessing import LabelEncoder\n",
        "from sklearn.preprocessing import OneHotEncoder\n",
        "from sklearn.impute import SimpleImputer"
      ]
    },
    {
      "cell_type": "markdown",
      "metadata": {},
      "source": [
        "## Preprocessing"
      ]
    },
    {
      "cell_type": "code",
      "execution_count": null,
      "metadata": {
        "id": "HqIretYcgETp"
      },
      "outputs": [],
      "source": [
        "# Extract features and labels\n",
        "X = df.drop(['patient_id', 'enc_id', 'readmission_id'], axis=1)\n",
        "# Y = to_categorical(df['readmission_id'])\n",
        "Y = df['readmission_id']\n",
        "test_df = test_df.drop(['enc_id', 'patient_id'], axis=1)\n",
        "\n",
        "\n",
        "numerical_columns = X.select_dtypes(include=['int64', 'float64']).columns\n",
        "categorical_columns = X.select_dtypes(include=['object']).columns"
      ]
    },
    {
      "cell_type": "code",
      "execution_count": null,
      "metadata": {
        "colab": {
          "base_uri": "https://localhost:8080/"
        },
        "id": "UbprQUhWhbjv",
        "outputId": "2d9166e6-51e9-4dfe-e572-a5ba431fd745"
      },
      "outputs": [],
      "source": [
        "# Impute missing values for numerical columns\n",
        "numerical_imputer = SimpleImputer(strategy='most_frequent')\n",
        "X[numerical_columns] = numerical_imputer.fit_transform(X[numerical_columns])\n",
        "test_df[numerical_columns] = numerical_imputer.transform(test_df[numerical_columns])\n",
        "\n",
        "# Impute missing values for categorical columns\n",
        "categorical_imputer = SimpleImputer(strategy='most_frequent')\n",
        "X[categorical_columns] = categorical_imputer.fit_transform(X[categorical_columns])\n",
        "test_df[categorical_columns] = categorical_imputer.transform(test_df[categorical_columns])\n",
        "\n",
        "# One-hot encode categorical columns\n",
        "categorical_encoder = OneHotEncoder(handle_unknown='ignore', sparse=False)\n",
        "X_encoded = categorical_encoder.fit_transform(X[categorical_columns])\n",
        "test_data_processed = categorical_encoder.transform(test_df[categorical_columns])\n",
        "\n",
        "# Combine numerical and encoded categorical features\n",
        "X_final = pd.concat([X[numerical_columns], pd.DataFrame(X_encoded, columns=categorical_encoder.get_feature_names_out(categorical_columns))], axis=1)\n",
        "test_df_encoded = pd.concat([test_df[numerical_columns], pd.DataFrame(test_data_processed, columns=categorical_encoder.get_feature_names_out(categorical_columns))], axis=1)\n"
      ]
    },
    {
      "cell_type": "code",
      "execution_count": null,
      "metadata": {
        "id": "r27QUtj9pkqx"
      },
      "outputs": [],
      "source": [
        "import numpy as np\n",
        "import pandas as pd\n",
        "import matplotlib.pyplot as plt\n",
        "import seaborn as sns\n",
        "from sklearn.model_selection import train_test_split\n",
        "from sklearn.metrics import accuracy_score,f1_score\n",
        "from sklearn.preprocessing import LabelEncoder\n",
        "from sklearn.preprocessing import OneHotEncoder\n",
        "from sklearn.metrics import accuracy_score\n",
        "from pprint import pprint\n",
        "\n",
        "import torch\n",
        "import torch.nn as nn\n",
        "from torch.utils.data import Dataset, DataLoader\n",
        "from tqdm import tqdm\n",
        "import optuna\n",
        "\n",
        "import gc\n",
        "import time\n",
        "\n",
        "device = torch.device('cpu')\n",
        "# device = torch.device('cuda' if torch.cuda.is_available() else 'cpu')"
      ]
    },
    {
      "cell_type": "markdown",
      "metadata": {},
      "source": [
        "## Neural Network Class Definition"
      ]
    },
    {
      "cell_type": "code",
      "execution_count": null,
      "metadata": {
        "id": "lsyMYIpOqSnu"
      },
      "outputs": [],
      "source": [
        "class ANN(nn.Module):\n",
        "    def __init__(\n",
        "        self,\n",
        "        in_dim: int,\n",
        "        hidden_dim_1: int,\n",
        "        hidden_dim_2: int,\n",
        "        hidden_dim_3: int,\n",
        "        hidden_dim_4: int,\n",
        "        n_classes:int = 3,\n",
        "        dropout: float = 0.3\n",
        "    ):\n",
        "        super().__init__()\n",
        "\n",
        "        self.layer1 = nn.Sequential(\n",
        "            nn.Linear(in_features=in_dim, out_features=hidden_dim_1),\n",
        "            nn.ReLU(),\n",
        "            nn.BatchNorm1d(hidden_dim_1),\n",
        "            nn.Dropout(dropout),\n",
        "        )\n",
        "        self.layer2 = nn.Sequential(\n",
        "            nn.Linear(in_features=hidden_dim_1, out_features=hidden_dim_2),\n",
        "            nn.ReLU(),\n",
        "            nn.BatchNorm1d(hidden_dim_2),\n",
        "            nn.Dropout(dropout),\n",
        "        )\n",
        "        self.layer3 = nn.Sequential(\n",
        "            nn.Linear(in_features=hidden_dim_2, out_features=hidden_dim_3),\n",
        "            nn.ReLU(),\n",
        "            nn.BatchNorm1d(hidden_dim_3),\n",
        "            nn.Dropout(dropout),\n",
        "        )\n",
        "        self.layer4 = nn.Sequential(\n",
        "            nn.Linear(in_features=hidden_dim_3, out_features=hidden_dim_4),\n",
        "            nn.ReLU(),\n",
        "            nn.BatchNorm1d(hidden_dim_4),\n",
        "            nn.Dropout(dropout),\n",
        "        )\n",
        "        self.output_layer = nn.Linear(in_features=hidden_dim_4, out_features=n_classes)\n",
        "\n",
        "    def forward(self, x: torch.Tensor) -> torch.Tensor:\n",
        "        \"\"\"\n",
        "            Args:\n",
        "                x (torch.Tensor): (batch_size, in_dim) the input\n",
        "\n",
        "            Output:\n",
        "                (torch.Tensor): (batch_size, n_classes) the output\n",
        "        \"\"\"\n",
        "        x = self.layer1(x)\n",
        "        x = self.layer2(x)\n",
        "        x = self.layer3(x)\n",
        "        x = self.layer4(x)\n",
        "        x = self.output_layer(x)\n",
        "\n",
        "        return x"
      ]
    },
    {
      "cell_type": "markdown",
      "metadata": {},
      "source": [
        "## Dataset Class Definition"
      ]
    },
    {
      "cell_type": "code",
      "execution_count": null,
      "metadata": {
        "id": "fr4ovos2qmkn"
      },
      "outputs": [],
      "source": [
        "class Data(Dataset):\n",
        "    def __init__(\n",
        "        self,\n",
        "        data\n",
        "    ):\n",
        "        n = data.shape[1]\n",
        "        self.features = torch.tensor(data.iloc[:, 0:n-1].values.astype(np.int64), dtype=torch.float32)\n",
        "        self.labels = torch.tensor(data.iloc[:, -1].values.astype(np.int64), dtype=torch.int64)\n",
        "\n",
        "    def __getitem__(self, index):\n",
        "        return self.features[index], self.labels[index]\n",
        "\n",
        "    def __len__(self):\n",
        "        return len(self.features)"
      ]
    },
    {
      "cell_type": "markdown",
      "metadata": {},
      "source": [
        "## Generating Train-Test Split"
      ]
    },
    {
      "cell_type": "code",
      "execution_count": null,
      "metadata": {
        "id": "spfhpozfqoX2"
      },
      "outputs": [],
      "source": [
        "X_train, X_test, Y_train, Y_test = train_test_split(X_final, Y, test_size=0.2, random_state=0, stratify=Y)\n",
        "X_train = pd.DataFrame(X_train)\n",
        "Y_train = pd.DataFrame(Y_train)\n",
        "X_test = pd.DataFrame(X_test)\n",
        "Y_test = pd.DataFrame(Y_test)\n",
        "\n",
        "X_train = pd.concat([X_train, Y_train], axis=1)\n",
        "X_test = pd.concat([X_test, Y_test], axis=1)"
      ]
    },
    {
      "cell_type": "code",
      "execution_count": null,
      "metadata": {
        "colab": {
          "base_uri": "https://localhost:8080/"
        },
        "id": "JHhScXffqy0i",
        "outputId": "3e75d9b0-a1b7-4669-a150-9174cfe9d857"
      },
      "outputs": [],
      "source": [
        "print(X_train.dtypes)"
      ]
    },
    {
      "cell_type": "markdown",
      "metadata": {},
      "source": [
        "## Preparing the Data for the NN"
      ]
    },
    {
      "cell_type": "code",
      "execution_count": null,
      "metadata": {
        "id": "bmuF4SHIq1tg"
      },
      "outputs": [],
      "source": [
        "train_dataset = Data(data=X_train)\n",
        "test_dataset = Data(data=X_test)"
      ]
    },
    {
      "cell_type": "code",
      "execution_count": null,
      "metadata": {
        "id": "DhG5KUl8q2I3"
      },
      "outputs": [],
      "source": [
        "# Declaring the batch sizes\n",
        "train_batchsize = 512\n",
        "val_batchsize = 512"
      ]
    },
    {
      "cell_type": "code",
      "execution_count": null,
      "metadata": {
        "id": "roKHXd9hq3f_"
      },
      "outputs": [],
      "source": [
        "# Creating DataLoaders of the train and test data using batches\n",
        "train_dataloader = DataLoader(dataset=train_dataset, batch_size=train_batchsize, shuffle=True)\n",
        "test_dataloader = DataLoader(dataset=test_dataset, batch_size=val_batchsize, shuffle=True)"
      ]
    },
    {
      "cell_type": "code",
      "execution_count": null,
      "metadata": {
        "id": "iqgQA_i-rMfu"
      },
      "outputs": [],
      "source": [
        "# Number of epochs for training\n",
        "n_epochs = 15"
      ]
    },
    {
      "cell_type": "code",
      "execution_count": null,
      "metadata": {
        "colab": {
          "base_uri": "https://localhost:8080/"
        },
        "id": "v1qSVrHQrOGk",
        "outputId": "fa9f1182-3cf4-4fb9-ae11-3ad6b79042eb"
      },
      "outputs": [],
      "source": [
        "# Using the number of features of the dataset as the number of input nodes\n",
        "in_dim = X_final.shape[1]\n",
        "in_dim"
      ]
    },
    {
      "cell_type": "markdown",
      "metadata": {},
      "source": [
        "## Declaring the Model instance and associated optimisers and loss function"
      ]
    },
    {
      "cell_type": "code",
      "execution_count": null,
      "metadata": {
        "id": "Y2HbV7BIrQ7W"
      },
      "outputs": [],
      "source": [
        "# Creating the Model instance\n",
        "model = ANN(\n",
        "    in_dim=in_dim,\n",
        "    hidden_dim_1=in_dim//3,\n",
        "    hidden_dim_2=in_dim//9,\n",
        "    hidden_dim_3=in_dim//81,\n",
        "    hidden_dim_4=3\n",
        ").to(device)"
      ]
    },
    {
      "cell_type": "code",
      "execution_count": null,
      "metadata": {
        "id": "J-7bJRskrS9O"
      },
      "outputs": [],
      "source": [
        "lr = 1e-3 # Learning rate of 0.001\n",
        "optimiser = torch.optim.Adam(model.parameters(), lr=lr) # Using the adam optimiser\n",
        "\n",
        "loss_fn = torch.nn.CrossEntropyLoss() # Using cross entropy loss"
      ]
    },
    {
      "cell_type": "code",
      "execution_count": null,
      "metadata": {
        "id": "k-iKZhNHrWEg"
      },
      "outputs": [],
      "source": [
        "sanity_check=False"
      ]
    },
    {
      "cell_type": "markdown",
      "metadata": {},
      "source": [
        "## Functions for training and validating the model"
      ]
    },
    {
      "cell_type": "code",
      "execution_count": null,
      "metadata": {
        "id": "2ZaYnRK4rXXe"
      },
      "outputs": [],
      "source": [
        "# Training the model within an epoch\n",
        "def train_epoch(\n",
        "    model,\n",
        "    dataloader,\n",
        "    optimiser\n",
        "):\n",
        "    model.train()\n",
        "\n",
        "    for batch in tqdm(dataloader):\n",
        "        x, y = batch[0], batch[1]\n",
        "\n",
        "        output = model(x)\n",
        "        output = nn.Softmax(dim=-1)(output)\n",
        "        loss = loss_fn(output, y)\n",
        "\n",
        "        optimiser.zero_grad()\n",
        "        loss.backward() # Back propogation\n",
        "        optimiser.step()\n",
        "\n",
        "        if sanity_check:\n",
        "            break\n",
        "\n",
        "# Validating the model results after training\n",
        "def validate(\n",
        "    model,\n",
        "    dataloader\n",
        "):\n",
        "    model.eval()\n",
        "    total_loss = 0\n",
        "    predictions = []\n",
        "    truths = []\n",
        "\n",
        "    with torch.no_grad():\n",
        "        for batch in tqdm(dataloader):\n",
        "            x, y = batch[0], batch[1]\n",
        "\n",
        "            output = model(x)\n",
        "            output = nn.Softmax(dim=-1)(output)\n",
        "            loss = loss_fn(output, y)\n",
        "            total_loss += loss.detach().cpu().item()/len(dataloader)\n",
        "\n",
        "            preds = torch.argmax(output, dim=-1)\n",
        "            predictions.extend(preds.cpu())\n",
        "            truths.extend(y.cpu())\n",
        "\n",
        "            if sanity_check:\n",
        "                break\n",
        "\n",
        "    acc = accuracy_score(y_true=truths, y_pred=predictions)\n",
        "    f1 = f1_score(y_true=truths, y_pred=predictions, average='macro')\n",
        "\n",
        "    return total_loss, acc, f1"
      ]
    },
    {
      "cell_type": "markdown",
      "metadata": {},
      "source": [
        "## Training the model"
      ]
    },
    {
      "cell_type": "code",
      "execution_count": null,
      "metadata": {
        "id": "iBdm6PPBrf8-"
      },
      "outputs": [],
      "source": [
        "def train_model(\n",
        "    model,\n",
        "    train_dataloader,\n",
        "    test_dataloader,\n",
        "    optimiser\n",
        "):\n",
        "    for epoch in range(1, n_epochs+1):\n",
        "        start_time = time.time()\n",
        "\n",
        "        # Printing the validation results after each epoch\n",
        "        print(f\"========= EPOCH {epoch} STARTED =========\")\n",
        "        train_epoch(model=model, dataloader=train_dataloader, optimiser=optimiser)\n",
        "\n",
        "        print(f\"========= TRAIN EVALUATION STARTED =========\")\n",
        "        train_val_op = validate(model=model, dataloader=train_dataloader)\n",
        "\n",
        "        print(f\"========= TEST EVALUATION STARTED =========\")\n",
        "        test_val_op = validate(model=model, dataloader=test_dataloader)\n",
        "\n",
        "        print(f\"END OF {epoch} EPOCH\")\n",
        "        print(f\"| Time taken: {time.time() - start_time: 7.3f} |\")\n",
        "        print(f\"| Train Loss: {train_val_op[0]: 7.3f} | Train acc: {train_val_op[1]: 1.5f} | Train f1: {train_val_op[2]: 1.5f} |\")\n",
        "        print(f\"| Test Loss: {test_val_op[0]: 7.3f}  | Test acc: {test_val_op[1]: 1.5f}  | Test f1: {test_val_op[2]: 1.5f}  |\")\n",
        "\n",
        "        if sanity_check:\n",
        "            break"
      ]
    },
    {
      "cell_type": "code",
      "execution_count": null,
      "metadata": {
        "colab": {
          "base_uri": "https://localhost:8080/"
        },
        "id": "go9djqh-ri02",
        "outputId": "33a1e01b-f59c-41ce-a491-eb4234c229b9"
      },
      "outputs": [],
      "source": [
        "train_model(\n",
        "    model=model,\n",
        "    train_dataloader=train_dataloader,\n",
        "    test_dataloader=test_dataloader,\n",
        "    optimiser=optimiser\n",
        ")"
      ]
    },
    {
      "cell_type": "code",
      "execution_count": null,
      "metadata": {
        "colab": {
          "base_uri": "https://localhost:8080/",
          "height": 461
        },
        "id": "srtu_YVhudaP",
        "outputId": "2bdba42f-9d1c-44d2-c156-766bc827fb82"
      },
      "outputs": [],
      "source": [
        "test_df_encoded.head()"
      ]
    },
    {
      "cell_type": "markdown",
      "metadata": {},
      "source": [
        "## Making predictions on test data"
      ]
    },
    {
      "cell_type": "code",
      "execution_count": null,
      "metadata": {
        "colab": {
          "base_uri": "https://localhost:8080/"
        },
        "id": "qb2Z8f5Iszv6",
        "outputId": "a64fadd9-88a3-4ae1-a507-c392163368c1"
      },
      "outputs": [],
      "source": [
        "test_df_encoded = torch.tensor(test_df_encoded.values.astype(np.int64), dtype=torch.float32)\n",
        "print(test_df_encoded)\n",
        "predicted_labels = torch.nn.Softmax(dim=-1)(model(test_df_encoded))\n",
        "predicted_labels = torch.max(predicted_labels.data, 1) # Picking class labels with highest probability "
      ]
    },
    {
      "cell_type": "code",
      "execution_count": null,
      "metadata": {
        "id": "fbUX88eNwyDL"
      },
      "outputs": [],
      "source": [
        "predicted_labels = predicted_labels.indices.numpy()"
      ]
    },
    {
      "cell_type": "code",
      "execution_count": null,
      "metadata": {
        "id": "f89B4fDDtcO4"
      },
      "outputs": [],
      "source": [
        "subm = pd.read_csv(\"./sample_submission.csv\")\n",
        "subm[\"readmission_id\"] = predicted_labels\n",
        "subm.to_csv('./NNsubmission.csv', index=False)"
      ]
    }
  ],
  "metadata": {
    "colab": {
      "provenance": []
    },
    "kernelspec": {
      "display_name": "Python 3",
      "name": "python3"
    },
    "language_info": {
      "codemirror_mode": {
        "name": "ipython",
        "version": 3
      },
      "file_extension": ".py",
      "mimetype": "text/x-python",
      "name": "python",
      "nbconvert_exporter": "python",
      "pygments_lexer": "ipython3",
      "version": "3.11.4"
    }
  },
  "nbformat": 4,
  "nbformat_minor": 0
}
