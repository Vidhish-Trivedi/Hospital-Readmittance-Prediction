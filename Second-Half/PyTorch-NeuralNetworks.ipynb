{
  "cells": [
    {
      "cell_type": "code",
      "execution_count": 1,
      "metadata": {
        "id": "n38XDMNtqTYJ"
      },
      "outputs": [
        {
          "name": "stdout",
          "output_type": "stream",
          "text": [
            "WARNING:tensorflow:From c:\\Users\\HP\\anaconda3\\envs\\mlds\\Lib\\site-packages\\keras\\src\\losses.py:2976: The name tf.losses.sparse_softmax_cross_entropy is deprecated. Please use tf.compat.v1.losses.sparse_softmax_cross_entropy instead.\n",
            "\n"
          ]
        }
      ],
      "source": [
        "import numpy as np\n",
        "#import optuna\n",
        "import pandas as pd\n",
        "import matplotlib.pyplot as plt\n",
        "import urllib\n",
        "import sklearn\n",
        "from sklearn import svm\n",
        "from sklearn.naive_bayes import BernoulliNB\n",
        "from sklearn.naive_bayes import GaussianNB\n",
        "from sklearn.naive_bayes import MultinomialNB\n",
        "from sklearn.linear_model import LogisticRegression\n",
        "from sklearn.model_selection import train_test_split, RandomizedSearchCV\n",
        "from sklearn.linear_model import LinearRegression\n",
        "from sklearn.preprocessing import PolynomialFeatures, StandardScaler, LabelEncoder\n",
        "from sklearn.metrics import accuracy_score, confusion_matrix\n",
        "import seaborn as sns\n",
        "import xgboost as xgb\n",
        "from sklearn.ensemble import GradientBoostingClassifier\n",
        "# from imblearn.over_sampling import RandomOverSampler, SMOTE\n",
        "# from imblearn.under_sampling import RandomUnderSampler\n",
        "from keras.utils import to_categorical"
      ]
    },
    {
      "cell_type": "code",
      "execution_count": 3,
      "metadata": {
        "colab": {
          "base_uri": "https://localhost:8080/"
        },
        "id": "I9Ao2uflReAT",
        "outputId": "e6838504-91c3-4d3b-ccaa-99c7fc03df17"
      },
      "outputs": [],
      "source": [
        "test_df = pd.read_csv(\"./test.csv\")\n",
        "df = pd.read_csv(\"./train.csv\")"
      ]
    },
    {
      "cell_type": "code",
      "execution_count": 4,
      "metadata": {
        "id": "chfjKfymeIWd"
      },
      "outputs": [],
      "source": [
        "train_frequency = df['patient_id'].value_counts().to_dict()\n",
        "test_frequency = test_df['patient_id'].value_counts().to_dict()\n",
        "\n",
        "# Combine train and test frequencies\n",
        "combined_frequency = {key: train_frequency.get(key, 0) + test_frequency.get(key, 0) for key in set(train_frequency) | set(test_frequency)}\n",
        "\n",
        "# Add 'frequency' column to both DataFrames\n",
        "df['frequency_pid'] = df['patient_id'].map(combined_frequency)\n",
        "test_df['frequency_pid'] = test_df['patient_id'].map(combined_frequency)\n"
      ]
    },
    {
      "cell_type": "code",
      "execution_count": 5,
      "metadata": {
        "id": "u-3GBwOU9Wj7"
      },
      "outputs": [],
      "source": [
        "from sklearn.preprocessing import LabelEncoder\n",
        "from sklearn.preprocessing import OneHotEncoder\n",
        "from sklearn.impute import SimpleImputer"
      ]
    },
    {
      "cell_type": "code",
      "execution_count": 6,
      "metadata": {
        "id": "HqIretYcgETp"
      },
      "outputs": [],
      "source": [
        "# Extract features and labels\n",
        "X = df.drop(['patient_id', 'enc_id', 'readmission_id'], axis=1)\n",
        "# Y = to_categorical(df['readmission_id'])\n",
        "Y = df['readmission_id']\n",
        "test_df = test_df.drop(['enc_id', 'patient_id'], axis=1)\n",
        "\n",
        "\n",
        "numerical_columns = X.select_dtypes(include=['int64', 'float64']).columns\n",
        "categorical_columns = X.select_dtypes(include=['object']).columns"
      ]
    },
    {
      "cell_type": "code",
      "execution_count": 55,
      "metadata": {
        "colab": {
          "base_uri": "https://localhost:8080/"
        },
        "id": "UbprQUhWhbjv",
        "outputId": "2d9166e6-51e9-4dfe-e572-a5ba431fd745"
      },
      "outputs": [
        {
          "name": "stderr",
          "output_type": "stream",
          "text": [
            "c:\\Users\\HP\\anaconda3\\envs\\mlds\\Lib\\site-packages\\sklearn\\preprocessing\\_encoders.py:868: FutureWarning: `sparse` was renamed to `sparse_output` in version 1.2 and will be removed in 1.4. `sparse_output` is ignored unless you leave `sparse` to its default value.\n",
            "  warnings.warn(\n"
          ]
        }
      ],
      "source": [
        "# Impute missing values for numerical columns\n",
        "numerical_imputer = SimpleImputer(strategy='most_frequent')\n",
        "X[numerical_columns] = numerical_imputer.fit_transform(X[numerical_columns])\n",
        "test_df[numerical_columns] = numerical_imputer.transform(test_df[numerical_columns])\n",
        "\n",
        "# Impute missing values for categorical columns\n",
        "categorical_imputer = SimpleImputer(strategy='most_frequent')\n",
        "X[categorical_columns] = categorical_imputer.fit_transform(X[categorical_columns])\n",
        "test_df[categorical_columns] = categorical_imputer.transform(test_df[categorical_columns])\n",
        "\n",
        "# One-hot encode categorical columns\n",
        "categorical_encoder = OneHotEncoder(handle_unknown='ignore', sparse=False)\n",
        "X_encoded = categorical_encoder.fit_transform(X[categorical_columns])\n",
        "test_data_processed = categorical_encoder.transform(test_df[categorical_columns])\n",
        "\n",
        "# Combine numerical and encoded categorical features\n",
        "X_final = pd.concat([X[numerical_columns], pd.DataFrame(X_encoded, columns=categorical_encoder.get_feature_names_out(categorical_columns))], axis=1)\n",
        "test_df_encoded = pd.concat([test_df[numerical_columns], pd.DataFrame(test_data_processed, columns=categorical_encoder.get_feature_names_out(categorical_columns))], axis=1)\n"
      ]
    },
    {
      "cell_type": "code",
      "execution_count": 25,
      "metadata": {
        "id": "r27QUtj9pkqx"
      },
      "outputs": [],
      "source": [
        "import numpy as np\n",
        "import pandas as pd\n",
        "import matplotlib.pyplot as plt\n",
        "import seaborn as sns\n",
        "from sklearn.model_selection import train_test_split\n",
        "from sklearn.metrics import accuracy_score,f1_score\n",
        "from sklearn.preprocessing import LabelEncoder\n",
        "from sklearn.preprocessing import OneHotEncoder\n",
        "from sklearn.metrics import accuracy_score\n",
        "from pprint import pprint\n",
        "\n",
        "import torch\n",
        "import torch.nn as nn\n",
        "from torch.utils.data import Dataset, DataLoader\n",
        "from tqdm import tqdm\n",
        "import optuna\n",
        "\n",
        "import gc\n",
        "import time\n",
        "\n",
        "device = torch.device('cpu')\n",
        "# device = torch.device('cuda' if torch.cuda.is_available() else 'cpu')"
      ]
    },
    {
      "cell_type": "code",
      "execution_count": 26,
      "metadata": {
        "id": "lsyMYIpOqSnu"
      },
      "outputs": [],
      "source": [
        "class ANN(nn.Module):\n",
        "    def __init__(\n",
        "        self,\n",
        "        in_dim: int,\n",
        "        hidden_dim_1: int,\n",
        "        hidden_dim_2: int,\n",
        "        hidden_dim_3: int,\n",
        "        hidden_dim_4: int,\n",
        "        n_classes:int = 3,\n",
        "        dropout: float = 0.3\n",
        "    ):\n",
        "        super().__init__()\n",
        "\n",
        "        self.layer1 = nn.Sequential(\n",
        "            nn.Linear(in_features=in_dim, out_features=hidden_dim_1),\n",
        "            nn.ReLU(),\n",
        "            nn.BatchNorm1d(hidden_dim_1),\n",
        "            nn.Dropout(dropout),\n",
        "        )\n",
        "        self.layer2 = nn.Sequential(\n",
        "            nn.Linear(in_features=hidden_dim_1, out_features=hidden_dim_2),\n",
        "            nn.ReLU(),\n",
        "            nn.BatchNorm1d(hidden_dim_2),\n",
        "            nn.Dropout(dropout),\n",
        "        )\n",
        "        self.layer3 = nn.Sequential(\n",
        "            nn.Linear(in_features=hidden_dim_2, out_features=hidden_dim_3),\n",
        "            nn.ReLU(),\n",
        "            nn.BatchNorm1d(hidden_dim_3),\n",
        "            nn.Dropout(dropout),\n",
        "        )\n",
        "        self.layer4 = nn.Sequential(\n",
        "            nn.Linear(in_features=hidden_dim_3, out_features=hidden_dim_4),\n",
        "            nn.ReLU(),\n",
        "            nn.BatchNorm1d(hidden_dim_4),\n",
        "            nn.Dropout(dropout),\n",
        "        )\n",
        "        self.output_layer = nn.Linear(in_features=hidden_dim_4, out_features=n_classes)\n",
        "\n",
        "    def forward(self, x: torch.Tensor) -> torch.Tensor:\n",
        "        \"\"\"\n",
        "            Args:\n",
        "                x (torch.Tensor): (batch_size, in_dim) the input\n",
        "\n",
        "            Output:\n",
        "                (torch.Tensor): (batch_size, n_classes) the output\n",
        "        \"\"\"\n",
        "        x = self.layer1(x)\n",
        "        x = self.layer2(x)\n",
        "        x = self.layer3(x)\n",
        "        x = self.layer4(x)\n",
        "        x = self.output_layer(x)\n",
        "\n",
        "        return x"
      ]
    },
    {
      "cell_type": "code",
      "execution_count": 27,
      "metadata": {
        "id": "fr4ovos2qmkn"
      },
      "outputs": [],
      "source": [
        "class Data(Dataset):\n",
        "    def __init__(\n",
        "        self,\n",
        "        data\n",
        "    ):\n",
        "        n = data.shape[1]\n",
        "        self.features = torch.tensor(data.iloc[:, 0:n-1].values.astype(np.int64), dtype=torch.float32)\n",
        "        self.labels = torch.tensor(data.iloc[:, -1].values.astype(np.int64), dtype=torch.int64)\n",
        "\n",
        "    def __getitem__(self, index):\n",
        "        return self.features[index], self.labels[index]\n",
        "\n",
        "    def __len__(self):\n",
        "        return len(self.features)"
      ]
    },
    {
      "cell_type": "code",
      "execution_count": 28,
      "metadata": {
        "id": "spfhpozfqoX2"
      },
      "outputs": [],
      "source": [
        "X_train, X_test, Y_train, Y_test = train_test_split(X_final, Y, test_size=0.2, random_state=0, stratify=Y)\n",
        "X_train = pd.DataFrame(X_train)\n",
        "Y_train = pd.DataFrame(Y_train)\n",
        "X_test = pd.DataFrame(X_test)\n",
        "Y_test = pd.DataFrame(Y_test)\n",
        "\n",
        "X_train = pd.concat([X_train, Y_train], axis=1)\n",
        "X_test = pd.concat([X_test, Y_test], axis=1)"
      ]
    },
    {
      "cell_type": "code",
      "execution_count": 29,
      "metadata": {
        "colab": {
          "base_uri": "https://localhost:8080/"
        },
        "id": "JHhScXffqy0i",
        "outputId": "3e75d9b0-a1b7-4669-a150-9174cfe9d857"
      },
      "outputs": [
        {
          "name": "stdout",
          "output_type": "stream",
          "text": [
            "admission_type_id             int64\n",
            "discharge_disposition_id      int64\n",
            "admission_source_id           int64\n",
            "time_in_hospital              int64\n",
            "num_lab_procedures            int64\n",
            "                             ...   \n",
            "change_Ch                   float64\n",
            "change_No                   float64\n",
            "diabetesMed_No              float64\n",
            "diabetesMed_Yes             float64\n",
            "readmission_id                int64\n",
            "Length: 2324, dtype: object\n"
          ]
        }
      ],
      "source": [
        "print(X_train.dtypes)"
      ]
    },
    {
      "cell_type": "code",
      "execution_count": 30,
      "metadata": {
        "id": "bmuF4SHIq1tg"
      },
      "outputs": [],
      "source": [
        "train_dataset = Data(data=X_train)\n",
        "test_dataset = Data(data=X_test)"
      ]
    },
    {
      "cell_type": "code",
      "execution_count": 31,
      "metadata": {
        "id": "DhG5KUl8q2I3"
      },
      "outputs": [],
      "source": [
        "train_batchsize = 512\n",
        "val_batchsize = 512"
      ]
    },
    {
      "cell_type": "code",
      "execution_count": 32,
      "metadata": {
        "id": "roKHXd9hq3f_"
      },
      "outputs": [],
      "source": [
        "train_dataloader = DataLoader(dataset=train_dataset, batch_size=train_batchsize, shuffle=True)\n",
        "test_dataloader = DataLoader(dataset=test_dataset, batch_size=val_batchsize, shuffle=True)"
      ]
    },
    {
      "cell_type": "code",
      "execution_count": 52,
      "metadata": {
        "id": "iqgQA_i-rMfu"
      },
      "outputs": [],
      "source": [
        "n_epochs = 15"
      ]
    },
    {
      "cell_type": "code",
      "execution_count": 34,
      "metadata": {
        "colab": {
          "base_uri": "https://localhost:8080/"
        },
        "id": "v1qSVrHQrOGk",
        "outputId": "fa9f1182-3cf4-4fb9-ae11-3ad6b79042eb"
      },
      "outputs": [
        {
          "data": {
            "text/plain": [
              "2323"
            ]
          },
          "execution_count": 34,
          "metadata": {},
          "output_type": "execute_result"
        }
      ],
      "source": [
        "in_dim = X_final.shape[1]\n",
        "in_dim"
      ]
    },
    {
      "cell_type": "code",
      "execution_count": 46,
      "metadata": {
        "id": "Y2HbV7BIrQ7W"
      },
      "outputs": [],
      "source": [
        "model = ANN(\n",
        "    in_dim=in_dim,\n",
        "    hidden_dim_1=in_dim//3,\n",
        "    hidden_dim_2=in_dim//9,\n",
        "    hidden_dim_3=in_dim//81,\n",
        "    hidden_dim_4=3\n",
        ").to(device)"
      ]
    },
    {
      "cell_type": "code",
      "execution_count": 47,
      "metadata": {
        "id": "J-7bJRskrS9O"
      },
      "outputs": [],
      "source": [
        "lr = 1e-3\n",
        "optimiser = torch.optim.Adam(model.parameters(), lr=lr)\n",
        "\n",
        "loss_fn = torch.nn.CrossEntropyLoss()"
      ]
    },
    {
      "cell_type": "code",
      "execution_count": 48,
      "metadata": {
        "id": "k-iKZhNHrWEg"
      },
      "outputs": [],
      "source": [
        "sanity_check=False"
      ]
    },
    {
      "cell_type": "code",
      "execution_count": 49,
      "metadata": {
        "id": "2ZaYnRK4rXXe"
      },
      "outputs": [],
      "source": [
        "def train_epoch(\n",
        "    model,\n",
        "    dataloader,\n",
        "    optimiser\n",
        "):\n",
        "    model.train()\n",
        "\n",
        "    for batch in tqdm(dataloader):\n",
        "        x, y = batch[0], batch[1]\n",
        "\n",
        "        output = model(x)\n",
        "        output = nn.Softmax(dim=-1)(output)\n",
        "        loss = loss_fn(output, y)\n",
        "\n",
        "        optimiser.zero_grad()\n",
        "        loss.backward()\n",
        "        optimiser.step()\n",
        "\n",
        "        if sanity_check:\n",
        "            break\n",
        "\n",
        "def validate(\n",
        "    model,\n",
        "    dataloader\n",
        "):\n",
        "    model.eval()\n",
        "    total_loss = 0\n",
        "    predictions = []\n",
        "    truths = []\n",
        "\n",
        "    with torch.no_grad():\n",
        "        for batch in tqdm(dataloader):\n",
        "            x, y = batch[0], batch[1]\n",
        "\n",
        "            output = model(x)\n",
        "            output = nn.Softmax(dim=-1)(output)\n",
        "            loss = loss_fn(output, y)\n",
        "            total_loss += loss.detach().cpu().item()/len(dataloader)\n",
        "\n",
        "            preds = torch.argmax(output, dim=-1)\n",
        "            predictions.extend(preds.cpu())\n",
        "            truths.extend(y.cpu())\n",
        "\n",
        "            if sanity_check:\n",
        "                break\n",
        "\n",
        "    acc = accuracy_score(y_true=truths, y_pred=predictions)\n",
        "    f1 = f1_score(y_true=truths, y_pred=predictions, average='macro')\n",
        "\n",
        "    return total_loss, acc, f1"
      ]
    },
    {
      "cell_type": "code",
      "execution_count": 50,
      "metadata": {
        "id": "iBdm6PPBrf8-"
      },
      "outputs": [],
      "source": [
        "def train_model(\n",
        "    model,\n",
        "    train_dataloader,\n",
        "    test_dataloader,\n",
        "    optimiser\n",
        "):\n",
        "    for epoch in range(1, n_epochs+1):\n",
        "        start_time = time.time()\n",
        "\n",
        "        print(f\"========= EPOCH {epoch} STARTED =========\")\n",
        "        train_epoch(model=model, dataloader=train_dataloader, optimiser=optimiser)\n",
        "\n",
        "        print(f\"========= TRAIN EVALUATION STARTED =========\")\n",
        "        train_val_op = validate(model=model, dataloader=train_dataloader)\n",
        "\n",
        "        print(f\"========= TEST EVALUATION STARTED =========\")\n",
        "        test_val_op = validate(model=model, dataloader=test_dataloader)\n",
        "\n",
        "        print(f\"END OF {epoch} EPOCH\")\n",
        "        print(f\"| Time taken: {time.time() - start_time: 7.3f} |\")\n",
        "        print(f\"| Train Loss: {train_val_op[0]: 7.3f} | Train acc: {train_val_op[1]: 1.5f} | Train f1: {train_val_op[2]: 1.5f} |\")\n",
        "        print(f\"| Test Loss: {test_val_op[0]: 7.3f}  | Test acc: {test_val_op[1]: 1.5f}  | Test f1: {test_val_op[2]: 1.5f}  |\")\n",
        "\n",
        "        if sanity_check:\n",
        "            break"
      ]
    },
    {
      "cell_type": "code",
      "execution_count": 53,
      "metadata": {
        "colab": {
          "base_uri": "https://localhost:8080/"
        },
        "id": "go9djqh-ri02",
        "outputId": "33a1e01b-f59c-41ce-a491-eb4234c229b9"
      },
      "outputs": [
        {
          "name": "stdout",
          "output_type": "stream",
          "text": [
            "========= EPOCH 1 STARTED =========\n"
          ]
        },
        {
          "name": "stderr",
          "output_type": "stream",
          "text": [
            "100%|██████████| 112/112 [00:07<00:00, 15.52it/s]\n"
          ]
        },
        {
          "name": "stdout",
          "output_type": "stream",
          "text": [
            "========= TRAIN EVALUATION STARTED =========\n"
          ]
        },
        {
          "name": "stderr",
          "output_type": "stream",
          "text": [
            "100%|██████████| 112/112 [00:04<00:00, 24.29it/s]\n"
          ]
        },
        {
          "name": "stdout",
          "output_type": "stream",
          "text": [
            "========= TEST EVALUATION STARTED =========\n"
          ]
        },
        {
          "name": "stderr",
          "output_type": "stream",
          "text": [
            "100%|██████████| 28/28 [00:00<00:00, 29.28it/s]\n"
          ]
        },
        {
          "name": "stdout",
          "output_type": "stream",
          "text": [
            "END OF 1 EPOCH\n",
            "| Time taken:  19.073 |\n",
            "| Train Loss:   0.878 | Train acc:  0.71175 | Train f1:  0.49916 |\n",
            "| Test Loss:   0.882  | Test acc:  0.70403  | Test f1:  0.49370  |\n",
            "========= EPOCH 2 STARTED =========\n"
          ]
        },
        {
          "name": "stderr",
          "output_type": "stream",
          "text": [
            "100%|██████████| 112/112 [00:06<00:00, 16.76it/s]\n"
          ]
        },
        {
          "name": "stdout",
          "output_type": "stream",
          "text": [
            "========= TRAIN EVALUATION STARTED =========\n"
          ]
        },
        {
          "name": "stderr",
          "output_type": "stream",
          "text": [
            "100%|██████████| 112/112 [00:04<00:00, 25.56it/s]\n"
          ]
        },
        {
          "name": "stdout",
          "output_type": "stream",
          "text": [
            "========= TEST EVALUATION STARTED =========\n"
          ]
        },
        {
          "name": "stderr",
          "output_type": "stream",
          "text": [
            "100%|██████████| 28/28 [00:00<00:00, 30.10it/s]\n"
          ]
        },
        {
          "name": "stdout",
          "output_type": "stream",
          "text": [
            "END OF 2 EPOCH\n",
            "| Time taken:  18.368 |\n",
            "| Train Loss:   0.845 | Train acc:  0.72171 | Train f1:  0.49328 |\n",
            "| Test Loss:   0.851  | Test acc:  0.71371  | Test f1:  0.48664  |\n",
            "========= EPOCH 3 STARTED =========\n"
          ]
        },
        {
          "name": "stderr",
          "output_type": "stream",
          "text": [
            "100%|██████████| 112/112 [00:06<00:00, 16.49it/s]\n"
          ]
        },
        {
          "name": "stdout",
          "output_type": "stream",
          "text": [
            "========= TRAIN EVALUATION STARTED =========\n"
          ]
        },
        {
          "name": "stderr",
          "output_type": "stream",
          "text": [
            "100%|██████████| 112/112 [00:04<00:00, 26.64it/s]\n"
          ]
        },
        {
          "name": "stdout",
          "output_type": "stream",
          "text": [
            "========= TEST EVALUATION STARTED =========\n"
          ]
        },
        {
          "name": "stderr",
          "output_type": "stream",
          "text": [
            "100%|██████████| 28/28 [00:01<00:00, 24.79it/s]\n"
          ]
        },
        {
          "name": "stdout",
          "output_type": "stream",
          "text": [
            "END OF 3 EPOCH\n",
            "| Time taken:  18.509 |\n",
            "| Train Loss:   0.838 | Train acc:  0.72480 | Train f1:  0.49750 |\n",
            "| Test Loss:   0.849  | Test acc:  0.71385  | Test f1:  0.48890  |\n",
            "========= EPOCH 4 STARTED =========\n"
          ]
        },
        {
          "name": "stderr",
          "output_type": "stream",
          "text": [
            "100%|██████████| 112/112 [00:09<00:00, 11.80it/s]\n"
          ]
        },
        {
          "name": "stdout",
          "output_type": "stream",
          "text": [
            "========= TRAIN EVALUATION STARTED =========\n"
          ]
        },
        {
          "name": "stderr",
          "output_type": "stream",
          "text": [
            "100%|██████████| 112/112 [00:06<00:00, 17.10it/s]\n"
          ]
        },
        {
          "name": "stdout",
          "output_type": "stream",
          "text": [
            "========= TEST EVALUATION STARTED =========\n"
          ]
        },
        {
          "name": "stderr",
          "output_type": "stream",
          "text": [
            "100%|██████████| 28/28 [00:01<00:00, 20.01it/s]\n"
          ]
        },
        {
          "name": "stdout",
          "output_type": "stream",
          "text": [
            "END OF 4 EPOCH\n",
            "| Time taken:  27.535 |\n",
            "| Train Loss:   0.838 | Train acc:  0.72203 | Train f1:  0.49574 |\n",
            "| Test Loss:   0.847  | Test acc:  0.71245  | Test f1:  0.48797  |\n",
            "========= EPOCH 5 STARTED =========\n"
          ]
        },
        {
          "name": "stderr",
          "output_type": "stream",
          "text": [
            "100%|██████████| 112/112 [00:10<00:00, 10.70it/s]\n"
          ]
        },
        {
          "name": "stdout",
          "output_type": "stream",
          "text": [
            "========= TRAIN EVALUATION STARTED =========\n"
          ]
        },
        {
          "name": "stderr",
          "output_type": "stream",
          "text": [
            "100%|██████████| 112/112 [00:06<00:00, 16.83it/s]\n"
          ]
        },
        {
          "name": "stdout",
          "output_type": "stream",
          "text": [
            "========= TEST EVALUATION STARTED =========\n"
          ]
        },
        {
          "name": "stderr",
          "output_type": "stream",
          "text": [
            "100%|██████████| 28/28 [00:01<00:00, 19.67it/s]\n"
          ]
        },
        {
          "name": "stdout",
          "output_type": "stream",
          "text": [
            "END OF 5 EPOCH\n",
            "| Time taken:  28.809 |\n",
            "| Train Loss:   0.831 | Train acc:  0.72220 | Train f1:  0.49296 |\n",
            "| Test Loss:   0.841  | Test acc:  0.71266  | Test f1:  0.48464  |\n",
            "========= EPOCH 6 STARTED =========\n"
          ]
        },
        {
          "name": "stderr",
          "output_type": "stream",
          "text": [
            "100%|██████████| 112/112 [00:07<00:00, 15.15it/s]\n"
          ]
        },
        {
          "name": "stdout",
          "output_type": "stream",
          "text": [
            "========= TRAIN EVALUATION STARTED =========\n"
          ]
        },
        {
          "name": "stderr",
          "output_type": "stream",
          "text": [
            "100%|██████████| 112/112 [00:04<00:00, 25.56it/s]\n"
          ]
        },
        {
          "name": "stdout",
          "output_type": "stream",
          "text": [
            "========= TEST EVALUATION STARTED =========\n"
          ]
        },
        {
          "name": "stderr",
          "output_type": "stream",
          "text": [
            "100%|██████████| 28/28 [00:00<00:00, 30.13it/s]\n"
          ]
        },
        {
          "name": "stdout",
          "output_type": "stream",
          "text": [
            "END OF 6 EPOCH\n",
            "| Time taken:  19.210 |\n",
            "| Train Loss:   0.833 | Train acc:  0.72103 | Train f1:  0.49378 |\n",
            "| Test Loss:   0.846  | Test acc:  0.70789  | Test f1:  0.48337  |\n",
            "========= EPOCH 7 STARTED =========\n"
          ]
        },
        {
          "name": "stderr",
          "output_type": "stream",
          "text": [
            "100%|██████████| 112/112 [00:07<00:00, 15.32it/s]\n"
          ]
        },
        {
          "name": "stdout",
          "output_type": "stream",
          "text": [
            "========= TRAIN EVALUATION STARTED =========\n"
          ]
        },
        {
          "name": "stderr",
          "output_type": "stream",
          "text": [
            "100%|██████████| 112/112 [00:04<00:00, 26.32it/s]\n"
          ]
        },
        {
          "name": "stdout",
          "output_type": "stream",
          "text": [
            "========= TEST EVALUATION STARTED =========\n"
          ]
        },
        {
          "name": "stderr",
          "output_type": "stream",
          "text": [
            "100%|██████████| 28/28 [00:00<00:00, 29.71it/s]\n"
          ]
        },
        {
          "name": "stdout",
          "output_type": "stream",
          "text": [
            "END OF 7 EPOCH\n",
            "| Time taken:  19.437 |\n",
            "| Train Loss:   0.828 | Train acc:  0.72466 | Train f1:  0.49573 |\n",
            "| Test Loss:   0.840  | Test acc:  0.71266  | Test f1:  0.48577  |\n",
            "========= EPOCH 8 STARTED =========\n"
          ]
        },
        {
          "name": "stderr",
          "output_type": "stream",
          "text": [
            "100%|██████████| 112/112 [00:07<00:00, 14.93it/s]\n"
          ]
        },
        {
          "name": "stdout",
          "output_type": "stream",
          "text": [
            "========= TRAIN EVALUATION STARTED =========\n"
          ]
        },
        {
          "name": "stderr",
          "output_type": "stream",
          "text": [
            "100%|██████████| 112/112 [00:04<00:00, 26.09it/s]\n"
          ]
        },
        {
          "name": "stdout",
          "output_type": "stream",
          "text": [
            "========= TEST EVALUATION STARTED =========\n"
          ]
        },
        {
          "name": "stderr",
          "output_type": "stream",
          "text": [
            "100%|██████████| 28/28 [00:00<00:00, 30.19it/s]\n"
          ]
        },
        {
          "name": "stdout",
          "output_type": "stream",
          "text": [
            "END OF 8 EPOCH\n",
            "| Time taken:  19.251 |\n",
            "| Train Loss:   0.822 | Train acc:  0.73147 | Train f1:  0.50304 |\n",
            "| Test Loss:   0.839  | Test acc:  0.71322  | Test f1:  0.48905  |\n",
            "========= EPOCH 9 STARTED =========\n"
          ]
        },
        {
          "name": "stderr",
          "output_type": "stream",
          "text": [
            "100%|██████████| 112/112 [00:07<00:00, 15.05it/s]\n"
          ]
        },
        {
          "name": "stdout",
          "output_type": "stream",
          "text": [
            "========= TRAIN EVALUATION STARTED =========\n"
          ]
        },
        {
          "name": "stderr",
          "output_type": "stream",
          "text": [
            "100%|██████████| 112/112 [00:04<00:00, 23.41it/s]\n"
          ]
        },
        {
          "name": "stdout",
          "output_type": "stream",
          "text": [
            "========= TEST EVALUATION STARTED =========\n"
          ]
        },
        {
          "name": "stderr",
          "output_type": "stream",
          "text": [
            "100%|██████████| 28/28 [00:01<00:00, 21.29it/s]\n"
          ]
        },
        {
          "name": "stdout",
          "output_type": "stream",
          "text": [
            "END OF 9 EPOCH\n",
            "| Time taken:  20.048 |\n",
            "| Train Loss:   0.824 | Train acc:  0.72866 | Train f1:  0.50180 |\n",
            "| Test Loss:   0.839  | Test acc:  0.71399  | Test f1:  0.49042  |\n",
            "========= EPOCH 10 STARTED =========\n"
          ]
        },
        {
          "name": "stderr",
          "output_type": "stream",
          "text": [
            "100%|██████████| 112/112 [00:07<00:00, 14.05it/s]\n"
          ]
        },
        {
          "name": "stdout",
          "output_type": "stream",
          "text": [
            "========= TRAIN EVALUATION STARTED =========\n"
          ]
        },
        {
          "name": "stderr",
          "output_type": "stream",
          "text": [
            "100%|██████████| 112/112 [00:04<00:00, 23.79it/s]\n"
          ]
        },
        {
          "name": "stdout",
          "output_type": "stream",
          "text": [
            "========= TEST EVALUATION STARTED =========\n"
          ]
        },
        {
          "name": "stderr",
          "output_type": "stream",
          "text": [
            "100%|██████████| 28/28 [00:00<00:00, 28.27it/s]\n"
          ]
        },
        {
          "name": "stdout",
          "output_type": "stream",
          "text": [
            "END OF 10 EPOCH\n",
            "| Time taken:  20.240 |\n",
            "| Train Loss:   0.819 | Train acc:  0.73261 | Train f1:  0.50370 |\n",
            "| Test Loss:   0.837  | Test acc:  0.71470  | Test f1:  0.48995  |\n",
            "========= EPOCH 11 STARTED =========\n"
          ]
        },
        {
          "name": "stderr",
          "output_type": "stream",
          "text": [
            "100%|██████████| 112/112 [00:08<00:00, 13.72it/s]\n"
          ]
        },
        {
          "name": "stdout",
          "output_type": "stream",
          "text": [
            "========= TRAIN EVALUATION STARTED =========\n"
          ]
        },
        {
          "name": "stderr",
          "output_type": "stream",
          "text": [
            "100%|██████████| 112/112 [00:04<00:00, 23.84it/s]\n"
          ]
        },
        {
          "name": "stdout",
          "output_type": "stream",
          "text": [
            "========= TEST EVALUATION STARTED =========\n"
          ]
        },
        {
          "name": "stderr",
          "output_type": "stream",
          "text": [
            "100%|██████████| 28/28 [00:00<00:00, 29.76it/s]\n"
          ]
        },
        {
          "name": "stdout",
          "output_type": "stream",
          "text": [
            "END OF 11 EPOCH\n",
            "| Time taken:  20.077 |\n",
            "| Train Loss:   0.822 | Train acc:  0.72921 | Train f1:  0.49954 |\n",
            "| Test Loss:   0.838  | Test acc:  0.71350  | Test f1:  0.48705  |\n",
            "========= EPOCH 12 STARTED =========\n"
          ]
        },
        {
          "name": "stderr",
          "output_type": "stream",
          "text": [
            "100%|██████████| 112/112 [00:07<00:00, 14.14it/s]\n"
          ]
        },
        {
          "name": "stdout",
          "output_type": "stream",
          "text": [
            "========= TRAIN EVALUATION STARTED =========\n"
          ]
        },
        {
          "name": "stderr",
          "output_type": "stream",
          "text": [
            "100%|██████████| 112/112 [00:04<00:00, 22.90it/s]\n"
          ]
        },
        {
          "name": "stdout",
          "output_type": "stream",
          "text": [
            "========= TEST EVALUATION STARTED =========\n"
          ]
        },
        {
          "name": "stderr",
          "output_type": "stream",
          "text": [
            "100%|██████████| 28/28 [00:01<00:00, 24.85it/s]\n"
          ]
        },
        {
          "name": "stdout",
          "output_type": "stream",
          "text": [
            "END OF 12 EPOCH\n",
            "| Time taken:  20.472 |\n",
            "| Train Loss:   0.820 | Train acc:  0.73094 | Train f1:  0.50106 |\n",
            "| Test Loss:   0.838  | Test acc:  0.71329  | Test f1:  0.48688  |\n",
            "========= EPOCH 13 STARTED =========\n"
          ]
        },
        {
          "name": "stderr",
          "output_type": "stream",
          "text": [
            "100%|██████████| 112/112 [00:08<00:00, 13.78it/s]\n"
          ]
        },
        {
          "name": "stdout",
          "output_type": "stream",
          "text": [
            "========= TRAIN EVALUATION STARTED =========\n"
          ]
        },
        {
          "name": "stderr",
          "output_type": "stream",
          "text": [
            "100%|██████████| 112/112 [00:04<00:00, 24.02it/s]\n"
          ]
        },
        {
          "name": "stdout",
          "output_type": "stream",
          "text": [
            "========= TEST EVALUATION STARTED =========\n"
          ]
        },
        {
          "name": "stderr",
          "output_type": "stream",
          "text": [
            "100%|██████████| 28/28 [00:00<00:00, 28.95it/s]\n"
          ]
        },
        {
          "name": "stdout",
          "output_type": "stream",
          "text": [
            "END OF 13 EPOCH\n",
            "| Time taken:  20.328 |\n",
            "| Train Loss:   0.817 | Train acc:  0.73361 | Train f1:  0.50402 |\n",
            "| Test Loss:   0.838  | Test acc:  0.71336  | Test f1:  0.48824  |\n",
            "========= EPOCH 14 STARTED =========\n"
          ]
        },
        {
          "name": "stderr",
          "output_type": "stream",
          "text": [
            "100%|██████████| 112/112 [00:08<00:00, 13.42it/s]\n"
          ]
        },
        {
          "name": "stdout",
          "output_type": "stream",
          "text": [
            "========= TRAIN EVALUATION STARTED =========\n"
          ]
        },
        {
          "name": "stderr",
          "output_type": "stream",
          "text": [
            "100%|██████████| 112/112 [00:04<00:00, 23.81it/s]\n"
          ]
        },
        {
          "name": "stdout",
          "output_type": "stream",
          "text": [
            "========= TEST EVALUATION STARTED =========\n"
          ]
        },
        {
          "name": "stderr",
          "output_type": "stream",
          "text": [
            "100%|██████████| 28/28 [00:00<00:00, 31.78it/s]\n"
          ]
        },
        {
          "name": "stdout",
          "output_type": "stream",
          "text": [
            "END OF 14 EPOCH\n",
            "| Time taken:  20.510 |\n",
            "| Train Loss:   0.823 | Train acc:  0.72749 | Train f1:  0.49738 |\n",
            "| Test Loss:   0.841  | Test acc:  0.70971  | Test f1:  0.48301  |\n",
            "========= EPOCH 15 STARTED =========\n"
          ]
        },
        {
          "name": "stderr",
          "output_type": "stream",
          "text": [
            "100%|██████████| 112/112 [00:07<00:00, 14.14it/s]\n"
          ]
        },
        {
          "name": "stdout",
          "output_type": "stream",
          "text": [
            "========= TRAIN EVALUATION STARTED =========\n"
          ]
        },
        {
          "name": "stderr",
          "output_type": "stream",
          "text": [
            "100%|██████████| 112/112 [00:05<00:00, 20.24it/s]\n"
          ]
        },
        {
          "name": "stdout",
          "output_type": "stream",
          "text": [
            "========= TEST EVALUATION STARTED =========\n"
          ]
        },
        {
          "name": "stderr",
          "output_type": "stream",
          "text": [
            "100%|██████████| 28/28 [00:01<00:00, 25.10it/s]\n"
          ]
        },
        {
          "name": "stdout",
          "output_type": "stream",
          "text": [
            "END OF 15 EPOCH\n",
            "| Time taken:  21.366 |\n",
            "| Train Loss:   0.822 | Train acc:  0.72887 | Train f1:  0.49885 |\n",
            "| Test Loss:   0.840  | Test acc:  0.71140  | Test f1:  0.48491  |\n"
          ]
        }
      ],
      "source": [
        "train_model(\n",
        "    model=model,\n",
        "    train_dataloader=train_dataloader,\n",
        "    test_dataloader=test_dataloader,\n",
        "    optimiser=optimiser\n",
        ")"
      ]
    },
    {
      "cell_type": "code",
      "execution_count": 56,
      "metadata": {
        "colab": {
          "base_uri": "https://localhost:8080/",
          "height": 461
        },
        "id": "srtu_YVhudaP",
        "outputId": "2bdba42f-9d1c-44d2-c156-766bc827fb82"
      },
      "outputs": [
        {
          "data": {
            "text/html": [
              "<div>\n",
              "<style scoped>\n",
              "    .dataframe tbody tr th:only-of-type {\n",
              "        vertical-align: middle;\n",
              "    }\n",
              "\n",
              "    .dataframe tbody tr th {\n",
              "        vertical-align: top;\n",
              "    }\n",
              "\n",
              "    .dataframe thead th {\n",
              "        text-align: right;\n",
              "    }\n",
              "</style>\n",
              "<table border=\"1\" class=\"dataframe\">\n",
              "  <thead>\n",
              "    <tr style=\"text-align: right;\">\n",
              "      <th></th>\n",
              "      <th>admission_type_id</th>\n",
              "      <th>discharge_disposition_id</th>\n",
              "      <th>admission_source_id</th>\n",
              "      <th>time_in_hospital</th>\n",
              "      <th>num_lab_procedures</th>\n",
              "      <th>num_procedures</th>\n",
              "      <th>num_medications</th>\n",
              "      <th>number_outpatient</th>\n",
              "      <th>number_emergency</th>\n",
              "      <th>number_inpatient</th>\n",
              "      <th>...</th>\n",
              "      <th>glimepiride-pioglitazone_No</th>\n",
              "      <th>glimepiride-pioglitazone_Steady</th>\n",
              "      <th>metformin-rosiglitazone_No</th>\n",
              "      <th>metformin-rosiglitazone_Steady</th>\n",
              "      <th>metformin-pioglitazone_No</th>\n",
              "      <th>metformin-pioglitazone_Steady</th>\n",
              "      <th>change_Ch</th>\n",
              "      <th>change_No</th>\n",
              "      <th>diabetesMed_No</th>\n",
              "      <th>diabetesMed_Yes</th>\n",
              "    </tr>\n",
              "  </thead>\n",
              "  <tbody>\n",
              "    <tr>\n",
              "      <th>0</th>\n",
              "      <td>5</td>\n",
              "      <td>5</td>\n",
              "      <td>17</td>\n",
              "      <td>12</td>\n",
              "      <td>25</td>\n",
              "      <td>3</td>\n",
              "      <td>29</td>\n",
              "      <td>0</td>\n",
              "      <td>0</td>\n",
              "      <td>4</td>\n",
              "      <td>...</td>\n",
              "      <td>1.0</td>\n",
              "      <td>0.0</td>\n",
              "      <td>1.0</td>\n",
              "      <td>0.0</td>\n",
              "      <td>1.0</td>\n",
              "      <td>0.0</td>\n",
              "      <td>0.0</td>\n",
              "      <td>1.0</td>\n",
              "      <td>0.0</td>\n",
              "      <td>1.0</td>\n",
              "    </tr>\n",
              "    <tr>\n",
              "      <th>1</th>\n",
              "      <td>2</td>\n",
              "      <td>3</td>\n",
              "      <td>7</td>\n",
              "      <td>3</td>\n",
              "      <td>59</td>\n",
              "      <td>0</td>\n",
              "      <td>24</td>\n",
              "      <td>0</td>\n",
              "      <td>1</td>\n",
              "      <td>0</td>\n",
              "      <td>...</td>\n",
              "      <td>1.0</td>\n",
              "      <td>0.0</td>\n",
              "      <td>1.0</td>\n",
              "      <td>0.0</td>\n",
              "      <td>1.0</td>\n",
              "      <td>0.0</td>\n",
              "      <td>1.0</td>\n",
              "      <td>0.0</td>\n",
              "      <td>0.0</td>\n",
              "      <td>1.0</td>\n",
              "    </tr>\n",
              "    <tr>\n",
              "      <th>2</th>\n",
              "      <td>3</td>\n",
              "      <td>1</td>\n",
              "      <td>1</td>\n",
              "      <td>8</td>\n",
              "      <td>47</td>\n",
              "      <td>0</td>\n",
              "      <td>23</td>\n",
              "      <td>0</td>\n",
              "      <td>0</td>\n",
              "      <td>0</td>\n",
              "      <td>...</td>\n",
              "      <td>1.0</td>\n",
              "      <td>0.0</td>\n",
              "      <td>1.0</td>\n",
              "      <td>0.0</td>\n",
              "      <td>1.0</td>\n",
              "      <td>0.0</td>\n",
              "      <td>1.0</td>\n",
              "      <td>0.0</td>\n",
              "      <td>0.0</td>\n",
              "      <td>1.0</td>\n",
              "    </tr>\n",
              "    <tr>\n",
              "      <th>3</th>\n",
              "      <td>1</td>\n",
              "      <td>3</td>\n",
              "      <td>7</td>\n",
              "      <td>10</td>\n",
              "      <td>46</td>\n",
              "      <td>6</td>\n",
              "      <td>38</td>\n",
              "      <td>0</td>\n",
              "      <td>2</td>\n",
              "      <td>7</td>\n",
              "      <td>...</td>\n",
              "      <td>1.0</td>\n",
              "      <td>0.0</td>\n",
              "      <td>1.0</td>\n",
              "      <td>0.0</td>\n",
              "      <td>1.0</td>\n",
              "      <td>0.0</td>\n",
              "      <td>1.0</td>\n",
              "      <td>0.0</td>\n",
              "      <td>0.0</td>\n",
              "      <td>1.0</td>\n",
              "    </tr>\n",
              "    <tr>\n",
              "      <th>4</th>\n",
              "      <td>1</td>\n",
              "      <td>6</td>\n",
              "      <td>7</td>\n",
              "      <td>5</td>\n",
              "      <td>64</td>\n",
              "      <td>1</td>\n",
              "      <td>16</td>\n",
              "      <td>0</td>\n",
              "      <td>0</td>\n",
              "      <td>1</td>\n",
              "      <td>...</td>\n",
              "      <td>1.0</td>\n",
              "      <td>0.0</td>\n",
              "      <td>1.0</td>\n",
              "      <td>0.0</td>\n",
              "      <td>1.0</td>\n",
              "      <td>0.0</td>\n",
              "      <td>0.0</td>\n",
              "      <td>1.0</td>\n",
              "      <td>1.0</td>\n",
              "      <td>0.0</td>\n",
              "    </tr>\n",
              "  </tbody>\n",
              "</table>\n",
              "<p>5 rows × 2323 columns</p>\n",
              "</div>"
            ],
            "text/plain": [
              "   admission_type_id  discharge_disposition_id  admission_source_id  \\\n",
              "0                  5                         5                   17   \n",
              "1                  2                         3                    7   \n",
              "2                  3                         1                    1   \n",
              "3                  1                         3                    7   \n",
              "4                  1                         6                    7   \n",
              "\n",
              "   time_in_hospital  num_lab_procedures  num_procedures  num_medications  \\\n",
              "0                12                  25               3               29   \n",
              "1                 3                  59               0               24   \n",
              "2                 8                  47               0               23   \n",
              "3                10                  46               6               38   \n",
              "4                 5                  64               1               16   \n",
              "\n",
              "   number_outpatient  number_emergency  number_inpatient  ...  \\\n",
              "0                  0                 0                 4  ...   \n",
              "1                  0                 1                 0  ...   \n",
              "2                  0                 0                 0  ...   \n",
              "3                  0                 2                 7  ...   \n",
              "4                  0                 0                 1  ...   \n",
              "\n",
              "   glimepiride-pioglitazone_No  glimepiride-pioglitazone_Steady  \\\n",
              "0                          1.0                              0.0   \n",
              "1                          1.0                              0.0   \n",
              "2                          1.0                              0.0   \n",
              "3                          1.0                              0.0   \n",
              "4                          1.0                              0.0   \n",
              "\n",
              "   metformin-rosiglitazone_No  metformin-rosiglitazone_Steady  \\\n",
              "0                         1.0                             0.0   \n",
              "1                         1.0                             0.0   \n",
              "2                         1.0                             0.0   \n",
              "3                         1.0                             0.0   \n",
              "4                         1.0                             0.0   \n",
              "\n",
              "   metformin-pioglitazone_No  metformin-pioglitazone_Steady  change_Ch  \\\n",
              "0                        1.0                            0.0        0.0   \n",
              "1                        1.0                            0.0        1.0   \n",
              "2                        1.0                            0.0        1.0   \n",
              "3                        1.0                            0.0        1.0   \n",
              "4                        1.0                            0.0        0.0   \n",
              "\n",
              "   change_No  diabetesMed_No  diabetesMed_Yes  \n",
              "0        1.0             0.0              1.0  \n",
              "1        0.0             0.0              1.0  \n",
              "2        0.0             0.0              1.0  \n",
              "3        0.0             0.0              1.0  \n",
              "4        1.0             1.0              0.0  \n",
              "\n",
              "[5 rows x 2323 columns]"
            ]
          },
          "execution_count": 56,
          "metadata": {},
          "output_type": "execute_result"
        }
      ],
      "source": [
        "test_df_encoded.head()"
      ]
    },
    {
      "cell_type": "code",
      "execution_count": 57,
      "metadata": {
        "colab": {
          "base_uri": "https://localhost:8080/"
        },
        "id": "qb2Z8f5Iszv6",
        "outputId": "a64fadd9-88a3-4ae1-a507-c392163368c1"
      },
      "outputs": [
        {
          "name": "stdout",
          "output_type": "stream",
          "text": [
            "tensor([[ 5.,  5., 17.,  ...,  1.,  0.,  1.],\n",
            "        [ 2.,  3.,  7.,  ...,  0.,  0.,  1.],\n",
            "        [ 3.,  1.,  1.,  ...,  0.,  0.,  1.],\n",
            "        ...,\n",
            "        [ 1.,  3.,  7.,  ...,  0.,  0.,  1.],\n",
            "        [ 1.,  3.,  7.,  ...,  0.,  0.,  1.],\n",
            "        [ 1.,  1.,  7.,  ...,  1.,  0.,  1.]])\n"
          ]
        }
      ],
      "source": [
        "test_df_encoded = torch.tensor(test_df_encoded.values.astype(np.int64), dtype=torch.float32)\n",
        "print(test_df_encoded)\n",
        "# Assuming model is your PyTorch model\n",
        "predicted_labels = torch.nn.Softmax(dim=-1)(model(test_df_encoded))\n",
        "predicted_labels = torch.max(predicted_labels.data, 1)"
      ]
    },
    {
      "cell_type": "code",
      "execution_count": 58,
      "metadata": {
        "id": "fbUX88eNwyDL"
      },
      "outputs": [],
      "source": [
        "predicted_labels = predicted_labels.indices.numpy()"
      ]
    },
    {
      "cell_type": "code",
      "execution_count": 59,
      "metadata": {
        "id": "f89B4fDDtcO4"
      },
      "outputs": [],
      "source": [
        "subm = pd.read_csv(\"./sample_submission.csv\")\n",
        "subm[\"readmission_id\"] = predicted_labels\n",
        "subm.to_csv('./NNsubmission.csv', index=False)"
      ]
    },
    {
      "cell_type": "code",
      "execution_count": null,
      "metadata": {},
      "outputs": [],
      "source": []
    }
  ],
  "metadata": {
    "colab": {
      "provenance": []
    },
    "kernelspec": {
      "display_name": "Python 3",
      "name": "python3"
    },
    "language_info": {
      "codemirror_mode": {
        "name": "ipython",
        "version": 3
      },
      "file_extension": ".py",
      "mimetype": "text/x-python",
      "name": "python",
      "nbconvert_exporter": "python",
      "pygments_lexer": "ipython3",
      "version": "3.11.4"
    }
  },
  "nbformat": 4,
  "nbformat_minor": 0
}
