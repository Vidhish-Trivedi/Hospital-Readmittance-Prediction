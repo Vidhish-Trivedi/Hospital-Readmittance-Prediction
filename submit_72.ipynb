{
  "cells": [
    {
      "cell_type": "code",
      "execution_count": 165,
      "metadata": {
        "id": "LNlN9F1YyztV"
      },
      "outputs": [
        {
          "name": "stdout",
          "output_type": "stream",
          "text": [
            "Requirement already satisfied: lightgbm in /Library/Frameworks/Python.framework/Versions/3.10/lib/python3.10/site-packages (4.1.0)\n",
            "Requirement already satisfied: numpy in /Library/Frameworks/Python.framework/Versions/3.10/lib/python3.10/site-packages (from lightgbm) (1.23.3)\n",
            "Requirement already satisfied: scipy in /Library/Frameworks/Python.framework/Versions/3.10/lib/python3.10/site-packages (from lightgbm) (1.11.1)\n"
          ]
        }
      ],
      "source": [
        "!pip3 install lightgbm\n",
        "import numpy as np\n",
        "import pandas as pd\n",
        "import matplotlib.pyplot as plt\n",
        "import seaborn as sns\n",
        "from sklearn.model_selection import train_test_split\n",
        "from sklearn.metrics import accuracy_score\n",
        "from sklearn.preprocessing import LabelEncoder\n",
        "from sklearn.preprocessing import OneHotEncoder\n",
        "from sklearn.metrics import accuracy_score\n",
        "from pprint import pprint"
      ]
    },
    {
      "cell_type": "markdown",
      "metadata": {
        "id": "pRaSFHoSyztW"
      },
      "source": [
        "## Loading the training dataset"
      ]
    },
    {
      "cell_type": "code",
      "execution_count": 166,
      "metadata": {
        "id": "aUup1TT_yztX"
      },
      "outputs": [],
      "source": [
        "df = pd.read_csv(\"../train.csv\")\n",
        "df.drop(['payer_code', 'diag_1', 'diag_2', 'diag_3'], axis=1, inplace=True)"
      ]
    },
    {
      "cell_type": "code",
      "execution_count": 167,
      "metadata": {
        "colab": {
          "base_uri": "https://localhost:8080/"
        },
        "id": "7AnptsnryztX",
        "outputId": "a8c2cb14-35dc-4406-c124-a256c4cfafbd"
      },
      "outputs": [],
      "source": [
        "df.drop_duplicates(inplace=True)"
      ]
    },
    {
      "cell_type": "code",
      "execution_count": 168,
      "metadata": {
        "colab": {
          "base_uri": "https://localhost:8080/",
          "height": 634
        },
        "id": "dyUTvWB6yztY",
        "outputId": "29ef57b9-7a64-4660-8479-5da77638d3f3"
      },
      "outputs": [],
      "source": [
        "df.drop(['weight', 'max_glu_serum'], axis=1, inplace=True)"
      ]
    },
    {
      "cell_type": "code",
      "execution_count": 169,
      "metadata": {},
      "outputs": [],
      "source": [
        "df['count_changes'] = 0\n",
        "\n",
        "drugs_cols = [\"metformin\", \"repaglinide\", \"nateglinide\", \"chlorpropamide\", \"glimepiride\", \"acetohexamide\", \"glipizide\", \"glyburide\", \"tolbutamide\", \"pioglitazone\", \"rosiglitazone\", \"acarbose\", \"miglitol\", \"troglitazone\", \"tolazamide\", \"examide\", \"citoglipton\", \"insulin\", \"glyburide-metformin\", \"glipizide-metformin\", \"glimepiride-pioglitazone\", \"metformin-rosiglitazone\", \"metformin-pioglitazone\"]\n",
        "\n",
        "def count_changes(row):\n",
        "    return sum([1 for col in drugs_cols if row[col] in ['Up', 'Down']])\n",
        "\n",
        "# Apply the function row-wise\n",
        "df['count_changes'] = df.apply(count_changes, axis=1)\n",
        "df.drop(drugs_cols, axis=1, inplace=True)"
      ]
    },
    {
      "cell_type": "code",
      "execution_count": 170,
      "metadata": {},
      "outputs": [
        {
          "data": {
            "text/plain": [
              "0    51867\n",
              "1    18385\n",
              "2      905\n",
              "3       75\n",
              "4        4\n",
              "Name: count_changes, dtype: int64"
            ]
          },
          "execution_count": 170,
          "metadata": {},
          "output_type": "execute_result"
        }
      ],
      "source": [
        "df['count_changes'].value_counts()"
      ]
    },
    {
      "cell_type": "code",
      "execution_count": 171,
      "metadata": {
        "colab": {
          "base_uri": "https://localhost:8080/"
        },
        "id": "S2Zqy6cvyztZ",
        "outputId": "046b1d72-74f9-4372-b1d5-a92a719e93ce"
      },
      "outputs": [
        {
          "data": {
            "text/plain": [
              "(71236, 22)"
            ]
          },
          "execution_count": 171,
          "metadata": {},
          "output_type": "execute_result"
        }
      ],
      "source": [
        "df.shape"
      ]
    },
    {
      "cell_type": "code",
      "execution_count": 172,
      "metadata": {
        "colab": {
          "base_uri": "https://localhost:8080/"
        },
        "id": "t54vC8JXyztZ",
        "outputId": "b6f32553-336d-411a-c61f-f148e2d382d3"
      },
      "outputs": [
        {
          "data": {
            "text/plain": [
              "(71236, 21)"
            ]
          },
          "execution_count": 172,
          "metadata": {},
          "output_type": "execute_result"
        }
      ],
      "source": [
        "# Dropping A1Cresult\n",
        "df.drop(['A1Cresult'], axis=1, inplace=True)\n",
        "df.shape"
      ]
    },
    {
      "cell_type": "code",
      "execution_count": 173,
      "metadata": {},
      "outputs": [],
      "source": [
        "# outlier_removal_rows = ['time_in_hospital','num_lab_procedures','num_procedures','num_medications','number_diagnoses']\n",
        "\n",
        "# # Create a copy of the DataFrame to avoid modifying the original\n",
        "# df_copy = df.copy()\n",
        "\n",
        "# for attr in outlier_removal_rows:\n",
        "#     Q1 = df_copy[attr].quantile(0.25)\n",
        "#     Q3 = df_copy[attr].quantile(0.75)\n",
        "#     IQR = Q3 - Q1\n",
        "#     lower = Q1 - 1.5 * IQR\n",
        "#     upper = Q3 + 1.5 * IQR\n",
        "    \n",
        "#     # Create a boolean mask to identify outliers\n",
        "#     outlier_mask = (df_copy[attr] < lower) | (df_copy[attr] > upper)\n",
        "    \n",
        "#     # Remove the rows with outliers\n",
        "#     df_copy = df_copy[~outlier_mask]\n",
        " \n",
        "# print(\"New Shape: \", df_copy.shape)"
      ]
    },
    {
      "cell_type": "code",
      "execution_count": 174,
      "metadata": {},
      "outputs": [],
      "source": [
        "# df = df_copy"
      ]
    },
    {
      "cell_type": "code",
      "execution_count": 175,
      "metadata": {},
      "outputs": [
        {
          "data": {
            "text/plain": [
              "enc_id                            111133884\n",
              "patient_id                         35624655\n",
              "race                        AfricanAmerican\n",
              "gender                               Female\n",
              "age                                 [40-50)\n",
              "admission_type_id                         1\n",
              "discharge_disposition_id                  3\n",
              "admission_source_id                       7\n",
              "time_in_hospital                         12\n",
              "medical_specialty                Nephrology\n",
              "num_lab_procedures                       63\n",
              "num_procedures                            3\n",
              "num_medications                          23\n",
              "number_outpatient                         0\n",
              "number_emergency                          0\n",
              "number_inpatient                          6\n",
              "number_diagnoses                          9\n",
              "change                                   No\n",
              "diabetesMed                             Yes\n",
              "readmission_id                            1\n",
              "count_changes                             0\n",
              "Name: 1101, dtype: object"
            ]
          },
          "execution_count": 175,
          "metadata": {},
          "output_type": "execute_result"
        }
      ],
      "source": [
        "df.iloc[1101, :]"
      ]
    },
    {
      "cell_type": "code",
      "execution_count": 176,
      "metadata": {
        "colab": {
          "base_uri": "https://localhost:8080/"
        },
        "id": "Bknv4kXFyzta",
        "outputId": "ddcc64a7-1b91-478d-8f41-de9eb95e8669"
      },
      "outputs": [],
      "source": [
        "from sklearn.impute import SimpleImputer\n",
        "\n",
        "imputer = SimpleImputer(missing_values=np.nan, strategy=\"constant\", fill_value=0)\n",
        "str_imputer = SimpleImputer(missing_values=np.nan, strategy=\"constant\", fill_value=\"0\")\n",
        "for c in df.columns:\n",
        "    if df[c].dtype == np.int64 or df[c].dtype == np.float64:\n",
        "        imputer.fit(df[c].values.reshape(-1, 1))\n",
        "        df[c] = imputer.transform(df[c].values.reshape(-1, 1)).reshape(-1,)\n",
        "    else:\n",
        "        str_imputer.fit(df[c].values.reshape(-1, 1))\n",
        "        df[c] = str_imputer.transform(df[c].values.reshape(-1, 1)).reshape(-1,)"
      ]
    },
    {
      "cell_type": "code",
      "execution_count": 177,
      "metadata": {
        "colab": {
          "base_uri": "https://localhost:8080/",
          "height": 591
        },
        "id": "aq5CE3Pcyztb",
        "outputId": "d7548096-05c2-4bae-9438-1f7bf62eed1d"
      },
      "outputs": [],
      "source": [
        "# plt.figure(figsize=(10,10))\n",
        "# dataplot = sns.heatmap(df.corr(numeric_only=True), annot=True)\n",
        "# plt.show()"
      ]
    },
    {
      "cell_type": "code",
      "execution_count": 178,
      "metadata": {
        "id": "VPgcSSUEyzta"
      },
      "outputs": [],
      "source": [
        "# Drop row with invalid gender. Dropping 1 row.\n",
        "i = df[((df.gender == 'Unknown/Invalid'))].index\n",
        "df.drop(i, inplace=True)"
      ]
    },
    {
      "cell_type": "code",
      "execution_count": 179,
      "metadata": {},
      "outputs": [
        {
          "name": "stdout",
          "output_type": "stream",
          "text": [
            "race   6\n",
            "gender   2\n",
            "admission_type_id   8\n",
            "discharge_disposition_id   26\n",
            "admission_source_id   17\n",
            "medical_specialty   69\n",
            "change   2\n",
            "diabetesMed   2\n"
          ]
        }
      ],
      "source": [
        "columns_to_encode = df.select_dtypes(exclude=['float']).columns.tolist()\n",
        "\n",
        "columns_to_encode.remove(\"age\")\n",
        "columns_to_encode.remove(\"readmission_id\")\n",
        "columns_to_encode.remove(\"enc_id\")\n",
        "columns_to_encode.remove(\"count_changes\")\n",
        "columns_to_encode.remove(\"patient_id\")\n",
        "columns_to_encode.remove(\"number_emergency\")\n",
        "columns_to_encode.remove(\"number_inpatient\")\n",
        "columns_to_encode.remove(\"number_diagnoses\")\n",
        "columns_to_encode.remove(\"time_in_hospital\")\n",
        "columns_to_encode.remove(\"num_lab_procedures\")\n",
        "columns_to_encode.remove(\"num_procedures\")\n",
        "columns_to_encode.remove(\"num_medications\")\n",
        "columns_to_encode.remove(\"number_outpatient\")\n",
        "\n",
        "for i in columns_to_encode:\n",
        "    print(i,\" \",df[i].unique().size)\n",
        "\n",
        "# diag_1, diag_2 and diag_3 have many unique values, hence we are grouping"
      ]
    },
    {
      "cell_type": "code",
      "execution_count": 180,
      "metadata": {},
      "outputs": [],
      "source": [
        "df['f_patient_id'] = df['patient_id'].copy(deep=True)"
      ]
    },
    {
      "cell_type": "code",
      "execution_count": 181,
      "metadata": {},
      "outputs": [
        {
          "data": {
            "text/plain": [
              "0          2488608\n",
              "1         52133202\n",
              "2         40945509\n",
              "3         38850777\n",
              "4         72738225\n",
              "           ...    \n",
              "71231     85063725\n",
              "71232     86244345\n",
              "71233      5131368\n",
              "71234     85969035\n",
              "71235    112239351\n",
              "Name: f_patient_id, Length: 71233, dtype: int64"
            ]
          },
          "execution_count": 181,
          "metadata": {},
          "output_type": "execute_result"
        }
      ],
      "source": [
        "df['f_patient_id']"
      ]
    },
    {
      "cell_type": "code",
      "execution_count": 182,
      "metadata": {},
      "outputs": [
        {
          "data": {
            "text/plain": [
              "Int64Index([ 7468, 12247, 12273, 18598, 21621, 29956, 32767, 33751, 35637,\n",
              "            36301, 36646, 45948, 48062, 50741, 52466, 55884, 58997, 60464,\n",
              "            65103, 68773, 70842],\n",
              "           dtype='int64')"
            ]
          },
          "execution_count": 182,
          "metadata": {},
          "output_type": "execute_result"
        }
      ],
      "source": [
        "df[df['f_patient_id'] == 43140906].index"
      ]
    },
    {
      "cell_type": "code",
      "execution_count": 183,
      "metadata": {},
      "outputs": [],
      "source": [
        "cnt_dict = df['patient_id'].value_counts()"
      ]
    },
    {
      "cell_type": "code",
      "execution_count": 184,
      "metadata": {},
      "outputs": [],
      "source": [
        "for i in df['patient_id']:\n",
        "    idx = df[df['f_patient_id'] == i].index\n",
        "    df.loc[idx, 'f_patient_id'] = cnt_dict[i]"
      ]
    },
    {
      "cell_type": "code",
      "execution_count": 185,
      "metadata": {},
      "outputs": [
        {
          "data": {
            "text/plain": [
              "0        1\n",
              "1        2\n",
              "2        8\n",
              "3        1\n",
              "4        1\n",
              "        ..\n",
              "71231    3\n",
              "71232    1\n",
              "71233    1\n",
              "71234    1\n",
              "71235    1\n",
              "Name: f_patient_id, Length: 71233, dtype: int64"
            ]
          },
          "execution_count": 185,
          "metadata": {},
          "output_type": "execute_result"
        }
      ],
      "source": [
        "df['f_patient_id']"
      ]
    },
    {
      "cell_type": "code",
      "execution_count": 186,
      "metadata": {},
      "outputs": [],
      "source": [
        "df.drop(['patient_id'], axis=1, inplace=True)"
      ]
    },
    {
      "cell_type": "code",
      "execution_count": 187,
      "metadata": {},
      "outputs": [],
      "source": [
        "def change_admission_source_id(value):\n",
        "    if value in (1, 2, 3):\n",
        "        return \"Referral\"\n",
        "    elif value in (4, 5, 6, 10, 18, 22, 25, 26):\n",
        "        return \"Transfer\"\n",
        "    elif value in (11, 12, 13, 14, 23, 24):\n",
        "        return \"Pregnancy\"\n",
        "    elif value in (9, 15, 17, 20, 21, 0):\n",
        "        return \"NULL\"\n",
        "    else:\n",
        "        return \"Others\"  # readmission (19), emergency (7), court/law enf (8)"
      ]
    },
    {
      "cell_type": "code",
      "execution_count": 188,
      "metadata": {},
      "outputs": [],
      "source": [
        "def change_admission_type_id(value):\n",
        "    if value in (1, 2, 7):\n",
        "        return \"Emergency\"\n",
        "    elif value == 3:\n",
        "        return \"Elective\"\n",
        "    elif value == 4:\n",
        "        return \"Newborn\"\n",
        "    elif value in (0, 5, 6, 8):\n",
        "        return \"NULL\"\n",
        "    else:\n",
        "        return \"Others\""
      ]
    },
    {
      "cell_type": "code",
      "execution_count": 189,
      "metadata": {},
      "outputs": [],
      "source": [
        "def change_discharge_disposition_id(value):\n",
        "    if value == 1:\n",
        "        return \"Home_No_Treatment\"\n",
        "    elif value in range(2, 6) or range(15, 18) or range(22, 25) or range(27, 31) or range(9, 11):\n",
        "        return \"Transfer\"\n",
        "    elif value in (6, 8):\n",
        "        return \"Home_Treatment\"\n",
        "    elif value in (11, 19, 20, 21):\n",
        "        return \"Expired\"\n",
        "    elif value in (18, 25, 26, 0):\n",
        "        return \"NULL\"\n",
        "    else:\n",
        "        return \"Others\""
      ]
    },
    {
      "cell_type": "code",
      "execution_count": 190,
      "metadata": {},
      "outputs": [],
      "source": [
        "# df['admission_source_id'] = df['admission_source_id'].astype(int)\n",
        "# df['admission_source_id'] = df['admission_source_id'].apply(change_admission_source_id)"
      ]
    },
    {
      "cell_type": "code",
      "execution_count": 191,
      "metadata": {},
      "outputs": [],
      "source": [
        "# df['admission_type_id'] = df['admission_type_id'].astype(int)\n",
        "# df['admission_type_id'] = df['admission_type_id'].apply(change_admission_type_id)"
      ]
    },
    {
      "cell_type": "code",
      "execution_count": 192,
      "metadata": {},
      "outputs": [],
      "source": [
        "# df['discharge_disposition_id'] = df['discharge_disposition_id'].astype(int)\n",
        "# df['discharge_disposition_id'] = df['discharge_disposition_id'].apply(change_discharge_disposition_id)"
      ]
    },
    {
      "cell_type": "code",
      "execution_count": 193,
      "metadata": {},
      "outputs": [],
      "source": [
        "label_encoder = LabelEncoder()\n",
        "df[\"age\"] = label_encoder.fit_transform(df[\"age\"])"
      ]
    },
    {
      "cell_type": "code",
      "execution_count": 194,
      "metadata": {},
      "outputs": [],
      "source": [
        "df.set_index(pd.Index(range(0, df.shape[0])), inplace=True)"
      ]
    },
    {
      "cell_type": "code",
      "execution_count": 195,
      "metadata": {},
      "outputs": [
        {
          "name": "stdout",
          "output_type": "stream",
          "text": [
            "(71233, 21)\n"
          ]
        }
      ],
      "source": [
        "print(df.shape)\n",
        "# Converting type of columns to category \n",
        "for c in columns_to_encode:\n",
        "    df[c] = df[c].astype('category')\n",
        "  \n",
        "  \n",
        "# Assigning numerical values and storing it in another columns \n",
        "new_cols = []\n",
        "for c in columns_to_encode:\n",
        "    df[c + \"_new\"] = df[c].cat.codes\n",
        "    new_cols.append(c + \"_new\")\n",
        "  \n",
        "# Create an instance of One-hot-encoder \n",
        "enc = OneHotEncoder(handle_unknown='ignore') \n",
        "  \n",
        "# Passing encoded columns \n",
        "enc_data = pd.DataFrame(enc.fit_transform(df[new_cols]).toarray()) \n",
        "  \n",
        "# Merge with main \n",
        "new_df = enc_data.join(df)\n",
        "new_df.drop(columns_to_encode, axis=1, inplace=True)\n",
        "\n",
        "tmp_y = pd.DataFrame(new_df[\"readmission_id\"])\n",
        "new_df.drop([\"readmission_id\"], axis=1, inplace=True)\n",
        "new_df.drop(new_cols, axis=1, inplace=True)\n",
        "new_df = new_df.join(tmp_y)\n",
        "\n",
        "df = new_df"
      ]
    },
    {
      "cell_type": "code",
      "execution_count": 196,
      "metadata": {
        "colab": {
          "base_uri": "https://localhost:8080/"
        },
        "id": "jnUqx802yztb",
        "outputId": "f9e467e3-ad8a-4937-db29-eca5fcb73ffc"
      },
      "outputs": [],
      "source": [
        "X = df.iloc[:, :-1].values\n",
        "Y = df.iloc[:, -1].values"
      ]
    },
    {
      "cell_type": "code",
      "execution_count": 197,
      "metadata": {},
      "outputs": [],
      "source": [
        "X_train, X_test, Y_train, Y_test = train_test_split(X, Y, test_size=0.2, random_state=0, stratify=Y)"
      ]
    },
    {
      "cell_type": "code",
      "execution_count": 198,
      "metadata": {},
      "outputs": [
        {
          "name": "stdout",
          "output_type": "stream",
          "text": [
            "[LightGBM] [Info] Auto-choosing row-wise multi-threading, the overhead of testing was 0.002374 seconds.\n",
            "You can set `force_row_wise=true` to remove the overhead.\n",
            "And if memory is not enough, you can set `force_col_wise=true`.\n",
            "[LightGBM] [Info] Total Bins 753\n",
            "[LightGBM] [Info] Number of data points in the train set: 56986, number of used features: 98\n",
            "[LightGBM] [Info] Start training from score -2.192777\n",
            "[LightGBM] [Info] Start training from score -1.051835\n",
            "[LightGBM] [Info] Start training from score -0.617859\n"
          ]
        },
        {
          "data": {
            "text/html": [
              "<style>#sk-container-id-3 {color: black;}#sk-container-id-3 pre{padding: 0;}#sk-container-id-3 div.sk-toggleable {background-color: white;}#sk-container-id-3 label.sk-toggleable__label {cursor: pointer;display: block;width: 100%;margin-bottom: 0;padding: 0.3em;box-sizing: border-box;text-align: center;}#sk-container-id-3 label.sk-toggleable__label-arrow:before {content: \"▸\";float: left;margin-right: 0.25em;color: #696969;}#sk-container-id-3 label.sk-toggleable__label-arrow:hover:before {color: black;}#sk-container-id-3 div.sk-estimator:hover label.sk-toggleable__label-arrow:before {color: black;}#sk-container-id-3 div.sk-toggleable__content {max-height: 0;max-width: 0;overflow: hidden;text-align: left;background-color: #f0f8ff;}#sk-container-id-3 div.sk-toggleable__content pre {margin: 0.2em;color: black;border-radius: 0.25em;background-color: #f0f8ff;}#sk-container-id-3 input.sk-toggleable__control:checked~div.sk-toggleable__content {max-height: 200px;max-width: 100%;overflow: auto;}#sk-container-id-3 input.sk-toggleable__control:checked~label.sk-toggleable__label-arrow:before {content: \"▾\";}#sk-container-id-3 div.sk-estimator input.sk-toggleable__control:checked~label.sk-toggleable__label {background-color: #d4ebff;}#sk-container-id-3 div.sk-label input.sk-toggleable__control:checked~label.sk-toggleable__label {background-color: #d4ebff;}#sk-container-id-3 input.sk-hidden--visually {border: 0;clip: rect(1px 1px 1px 1px);clip: rect(1px, 1px, 1px, 1px);height: 1px;margin: -1px;overflow: hidden;padding: 0;position: absolute;width: 1px;}#sk-container-id-3 div.sk-estimator {font-family: monospace;background-color: #f0f8ff;border: 1px dotted black;border-radius: 0.25em;box-sizing: border-box;margin-bottom: 0.5em;}#sk-container-id-3 div.sk-estimator:hover {background-color: #d4ebff;}#sk-container-id-3 div.sk-parallel-item::after {content: \"\";width: 100%;border-bottom: 1px solid gray;flex-grow: 1;}#sk-container-id-3 div.sk-label:hover label.sk-toggleable__label {background-color: #d4ebff;}#sk-container-id-3 div.sk-serial::before {content: \"\";position: absolute;border-left: 1px solid gray;box-sizing: border-box;top: 0;bottom: 0;left: 50%;z-index: 0;}#sk-container-id-3 div.sk-serial {display: flex;flex-direction: column;align-items: center;background-color: white;padding-right: 0.2em;padding-left: 0.2em;position: relative;}#sk-container-id-3 div.sk-item {position: relative;z-index: 1;}#sk-container-id-3 div.sk-parallel {display: flex;align-items: stretch;justify-content: center;background-color: white;position: relative;}#sk-container-id-3 div.sk-item::before, #sk-container-id-3 div.sk-parallel-item::before {content: \"\";position: absolute;border-left: 1px solid gray;box-sizing: border-box;top: 0;bottom: 0;left: 50%;z-index: -1;}#sk-container-id-3 div.sk-parallel-item {display: flex;flex-direction: column;z-index: 1;position: relative;background-color: white;}#sk-container-id-3 div.sk-parallel-item:first-child::after {align-self: flex-end;width: 50%;}#sk-container-id-3 div.sk-parallel-item:last-child::after {align-self: flex-start;width: 50%;}#sk-container-id-3 div.sk-parallel-item:only-child::after {width: 0;}#sk-container-id-3 div.sk-dashed-wrapped {border: 1px dashed gray;margin: 0 0.4em 0.5em 0.4em;box-sizing: border-box;padding-bottom: 0.4em;background-color: white;}#sk-container-id-3 div.sk-label label {font-family: monospace;font-weight: bold;display: inline-block;line-height: 1.2em;}#sk-container-id-3 div.sk-label-container {text-align: center;}#sk-container-id-3 div.sk-container {/* jupyter's `normalize.less` sets `[hidden] { display: none; }` but bootstrap.min.css set `[hidden] { display: none !important; }` so we also need the `!important` here to be able to override the default hidden behavior on the sphinx rendered scikit-learn.org. See: https://github.com/scikit-learn/scikit-learn/issues/21755 */display: inline-block !important;position: relative;}#sk-container-id-3 div.sk-text-repr-fallback {display: none;}</style><div id=\"sk-container-id-3\" class=\"sk-top-container\"><div class=\"sk-text-repr-fallback\"><pre>LGBMClassifier(boosting_type=&#x27;dart&#x27;, n_estimators=300, objective=&#x27;multiclass&#x27;,\n",
              "               random_state=0)</pre><b>In a Jupyter environment, please rerun this cell to show the HTML representation or trust the notebook. <br />On GitHub, the HTML representation is unable to render, please try loading this page with nbviewer.org.</b></div><div class=\"sk-container\" hidden><div class=\"sk-item\"><div class=\"sk-estimator sk-toggleable\"><input class=\"sk-toggleable__control sk-hidden--visually\" id=\"sk-estimator-id-3\" type=\"checkbox\" checked><label for=\"sk-estimator-id-3\" class=\"sk-toggleable__label sk-toggleable__label-arrow\">LGBMClassifier</label><div class=\"sk-toggleable__content\"><pre>LGBMClassifier(boosting_type=&#x27;dart&#x27;, n_estimators=300, objective=&#x27;multiclass&#x27;,\n",
              "               random_state=0)</pre></div></div></div></div></div>"
            ],
            "text/plain": [
              "LGBMClassifier(boosting_type='dart', n_estimators=300, objective='multiclass',\n",
              "               random_state=0)"
            ]
          },
          "execution_count": 198,
          "metadata": {},
          "output_type": "execute_result"
        }
      ],
      "source": [
        "from lightgbm import LGBMClassifier\n",
        "\n",
        "# Train a model using the scikit-learn API\n",
        "lgb_classifier = LGBMClassifier(n_estimators=300, objective='multiclass', max_depth=-1, random_state=0, boosting_type='dart')\n",
        "lgb_classifier.fit(X_train, Y_train)"
      ]
    },
    {
      "cell_type": "code",
      "execution_count": 199,
      "metadata": {},
      "outputs": [
        {
          "name": "stdout",
          "output_type": "stream",
          "text": [
            "0.6949533235067031\n"
          ]
        }
      ],
      "source": [
        "from sklearn.metrics import f1_score\n",
        "Y_pred = lgb_classifier.predict(X_test)\n",
        "print(accuracy_score(Y_test, Y_pred))"
      ]
    },
    {
      "cell_type": "code",
      "execution_count": 200,
      "metadata": {},
      "outputs": [],
      "source": [
        "# df"
      ]
    },
    {
      "cell_type": "code",
      "execution_count": 201,
      "metadata": {},
      "outputs": [],
      "source": [
        "# from sklearn.metrics import confusion_matrix\n",
        "# confusion_matrix(Y_pred, Y_test)"
      ]
    },
    {
      "cell_type": "markdown",
      "metadata": {},
      "source": [
        "# Testing"
      ]
    },
    {
      "cell_type": "code",
      "execution_count": 202,
      "metadata": {},
      "outputs": [],
      "source": [
        "test_df = pd.read_csv(\"../test.csv\")\n",
        "test_df.drop(['payer_code', 'diag_1', 'diag_2', 'diag_3'], axis=1, inplace=True)"
      ]
    },
    {
      "cell_type": "code",
      "execution_count": 203,
      "metadata": {},
      "outputs": [],
      "source": [
        "test_df.drop(['weight', 'max_glu_serum', 'A1Cresult'], axis=1, inplace=True)"
      ]
    },
    {
      "cell_type": "code",
      "execution_count": 204,
      "metadata": {},
      "outputs": [],
      "source": [
        "test_df['count_changes'] = 0\n",
        "\n",
        "# Apply the function row-wise\n",
        "test_df['count_changes'] = test_df.apply(count_changes, axis=1)\n",
        "test_df.drop(drugs_cols, axis=1, inplace=True)"
      ]
    },
    {
      "cell_type": "code",
      "execution_count": 205,
      "metadata": {},
      "outputs": [
        {
          "data": {
            "text/plain": [
              "0    22196\n",
              "1     7887\n",
              "2      413\n",
              "3       33\n",
              "4        1\n",
              "Name: count_changes, dtype: int64"
            ]
          },
          "execution_count": 205,
          "metadata": {},
          "output_type": "execute_result"
        }
      ],
      "source": [
        "test_df['count_changes'].value_counts()"
      ]
    },
    {
      "cell_type": "code",
      "execution_count": 206,
      "metadata": {},
      "outputs": [],
      "source": [
        "for c in test_df.columns:\n",
        "    if test_df[c].dtype == np.int64 or test_df[c].dtype == np.float64:\n",
        "        imputer.fit(test_df[c].values.reshape(-1, 1))\n",
        "        test_df[c] = imputer.transform(test_df[c].values.reshape(-1, 1)).reshape(-1,)\n",
        "    else:\n",
        "        str_imputer.fit(test_df[c].values.reshape(-1, 1))\n",
        "        test_df[c] = str_imputer.transform(test_df[c].values.reshape(-1, 1)).reshape(-1,)"
      ]
    },
    {
      "cell_type": "code",
      "execution_count": 207,
      "metadata": {},
      "outputs": [],
      "source": [
        "test_df[\"age\"] = label_encoder.transform(test_df[\"age\"])\n"
      ]
    },
    {
      "cell_type": "code",
      "execution_count": 208,
      "metadata": {},
      "outputs": [],
      "source": [
        "# test_df.set_index(test_df['patient_id'], inplace=True)\n",
        "cnt_dict_1 = test_df['patient_id'].value_counts()"
      ]
    },
    {
      "cell_type": "code",
      "execution_count": 209,
      "metadata": {},
      "outputs": [],
      "source": [
        "test_df['f_patient_id'] = test_df['patient_id'].copy(deep=True)\n",
        "for i in test_df['patient_id']:\n",
        "    idx = test_df[test_df['f_patient_id'] == i].index\n",
        "    if cnt_dict.get(i) != None and cnt_dict[i] != 0:\n",
        "        test_df.loc[idx, 'f_patient_id'] = cnt_dict_1[i] + cnt_dict[i]\n",
        "    else:\n",
        "        test_df.loc[idx, 'f_patient_id'] = cnt_dict_1[i]"
      ]
    },
    {
      "cell_type": "code",
      "execution_count": 210,
      "metadata": {},
      "outputs": [],
      "source": [
        "test_df.drop(['patient_id'], axis=1, inplace=True)"
      ]
    },
    {
      "cell_type": "code",
      "execution_count": 211,
      "metadata": {},
      "outputs": [],
      "source": [
        "# Converting type of columns to category \n",
        "for c in columns_to_encode:\n",
        "    test_df[c] = test_df[c].astype('category')\n",
        "\n",
        "# Assigning numerical values and storing it in another columns \n",
        "new_cols = []\n",
        "for c in columns_to_encode:\n",
        "    test_df[c + \"_new\"] = test_df[c].cat.codes\n",
        "    new_cols.append(c + \"_new\")\n",
        "  \n",
        "  \n",
        "# Passing encoded columns \n",
        "enc_data = pd.DataFrame(enc.transform(test_df[new_cols]).toarray()) \n",
        "  \n",
        "# Merge with main \n",
        "new_df_1 = enc_data.join(test_df)\n",
        "new_df_1.drop(columns_to_encode, axis=1, inplace=True)\n",
        "\n",
        "new_df_1.drop(new_cols, axis=1, inplace=True)\n",
        "\n",
        "test_df = new_df_1"
      ]
    },
    {
      "cell_type": "code",
      "execution_count": 212,
      "metadata": {},
      "outputs": [],
      "source": [
        "X_test_data = test_df.iloc[:, :].values"
      ]
    },
    {
      "cell_type": "code",
      "execution_count": 213,
      "metadata": {},
      "outputs": [
        {
          "data": {
            "text/plain": [
              "array([1, 2, 1, ..., 1, 1, 1])"
            ]
          },
          "execution_count": 213,
          "metadata": {},
          "output_type": "execute_result"
        }
      ],
      "source": [
        "Y_pred = lgb_classifier.predict(X_test_data)\n",
        "Y_pred\n"
      ]
    },
    {
      "cell_type": "code",
      "execution_count": 214,
      "metadata": {},
      "outputs": [
        {
          "data": {
            "text/html": [
              "<div>\n",
              "<style scoped>\n",
              "    .dataframe tbody tr th:only-of-type {\n",
              "        vertical-align: middle;\n",
              "    }\n",
              "\n",
              "    .dataframe tbody tr th {\n",
              "        vertical-align: top;\n",
              "    }\n",
              "\n",
              "    .dataframe thead th {\n",
              "        text-align: right;\n",
              "    }\n",
              "</style>\n",
              "<table border=\"1\" class=\"dataframe\">\n",
              "  <thead>\n",
              "    <tr style=\"text-align: right;\">\n",
              "      <th></th>\n",
              "      <th>enc_id</th>\n",
              "      <th>readmission_id</th>\n",
              "    </tr>\n",
              "  </thead>\n",
              "  <tbody>\n",
              "    <tr>\n",
              "      <th>0</th>\n",
              "      <td>86305392</td>\n",
              "      <td>1</td>\n",
              "    </tr>\n",
              "    <tr>\n",
              "      <th>1</th>\n",
              "      <td>394919696</td>\n",
              "      <td>2</td>\n",
              "    </tr>\n",
              "    <tr>\n",
              "      <th>2</th>\n",
              "      <td>164917446</td>\n",
              "      <td>1</td>\n",
              "    </tr>\n",
              "    <tr>\n",
              "      <th>3</th>\n",
              "      <td>178319040</td>\n",
              "      <td>1</td>\n",
              "    </tr>\n",
              "    <tr>\n",
              "      <th>4</th>\n",
              "      <td>253585416</td>\n",
              "      <td>1</td>\n",
              "    </tr>\n",
              "  </tbody>\n",
              "</table>\n",
              "</div>"
            ],
            "text/plain": [
              "      enc_id  readmission_id\n",
              "0   86305392               1\n",
              "1  394919696               2\n",
              "2  164917446               1\n",
              "3  178319040               1\n",
              "4  253585416               1"
            ]
          },
          "execution_count": 214,
          "metadata": {},
          "output_type": "execute_result"
        }
      ],
      "source": [
        "submit = pd.read_csv(\"../sample_submission.csv\")\n",
        "submit['readmission_id'] = Y_pred\n",
        "submit.head()"
      ]
    },
    {
      "cell_type": "code",
      "execution_count": 215,
      "metadata": {},
      "outputs": [],
      "source": [
        "submit.to_csv(\"submit_tmp.csv\", index = False)"
      ]
    },
    {
      "cell_type": "code",
      "execution_count": 216,
      "metadata": {},
      "outputs": [
        {
          "data": {
            "text/plain": [
              "2    18103\n",
              "1    12144\n",
              "0      283\n",
              "Name: readmission_id, dtype: int64"
            ]
          },
          "execution_count": 216,
          "metadata": {},
          "output_type": "execute_result"
        }
      ],
      "source": [
        "submit[\"readmission_id\"].value_counts()"
      ]
    },
    {
      "cell_type": "code",
      "execution_count": 217,
      "metadata": {},
      "outputs": [
        {
          "data": {
            "text/plain": [
              "2    38402\n",
              "1    24881\n",
              "0     7950\n",
              "Name: readmission_id, dtype: int64"
            ]
          },
          "execution_count": 217,
          "metadata": {},
          "output_type": "execute_result"
        }
      ],
      "source": [
        "df[\"readmission_id\"].value_counts()"
      ]
    },
    {
      "cell_type": "code",
      "execution_count": null,
      "metadata": {},
      "outputs": [],
      "source": []
    }
  ],
  "metadata": {
    "colab": {
      "provenance": []
    },
    "kernelspec": {
      "display_name": "mlds",
      "language": "python",
      "name": "python3"
    },
    "language_info": {
      "codemirror_mode": {
        "name": "ipython",
        "version": 3
      },
      "file_extension": ".py",
      "mimetype": "text/x-python",
      "name": "python",
      "nbconvert_exporter": "python",
      "pygments_lexer": "ipython3",
      "version": "3.10.0"
    },
    "orig_nbformat": 4
  },
  "nbformat": 4,
  "nbformat_minor": 0
}
